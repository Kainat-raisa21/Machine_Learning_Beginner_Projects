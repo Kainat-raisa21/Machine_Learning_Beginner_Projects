{
 "cells": [
  {
   "cell_type": "code",
   "execution_count": 1,
   "id": "ec5feffe",
   "metadata": {},
   "outputs": [],
   "source": [
    "import pandas as pd\n",
    "import numpy as np\n",
    "import seaborn as sns\n",
    "import matplotlib.pyplot as plt\n",
    "import plotly.express as px\n",
    "%matplotlib inline"
   ]
  },
  {
   "cell_type": "code",
   "execution_count": 2,
   "id": "7b6e477d",
   "metadata": {},
   "outputs": [],
   "source": [
    "import sklearn as sk\n",
    "from sklearn.linear_model import LogisticRegression\n",
    "from sklearn.model_selection import train_test_split\n",
    "from sklearn.metrics import classification_report"
   ]
  },
  {
   "cell_type": "code",
   "execution_count": 3,
   "id": "112021fe",
   "metadata": {},
   "outputs": [],
   "source": [
    "df = pd.read_csv(\"C:\\\\Users\\\\Dell\\\\Downloads\\\\mission_launches.csv\")"
   ]
  },
  {
   "cell_type": "code",
   "execution_count": 4,
   "id": "79d10765",
   "metadata": {},
   "outputs": [
    {
     "data": {
      "text/html": [
       "<div>\n",
       "<style scoped>\n",
       "    .dataframe tbody tr th:only-of-type {\n",
       "        vertical-align: middle;\n",
       "    }\n",
       "\n",
       "    .dataframe tbody tr th {\n",
       "        vertical-align: top;\n",
       "    }\n",
       "\n",
       "    .dataframe thead th {\n",
       "        text-align: right;\n",
       "    }\n",
       "</style>\n",
       "<table border=\"1\" class=\"dataframe\">\n",
       "  <thead>\n",
       "    <tr style=\"text-align: right;\">\n",
       "      <th></th>\n",
       "      <th>Unnamed: 0.1</th>\n",
       "      <th>Unnamed: 0</th>\n",
       "      <th>Organisation</th>\n",
       "      <th>Location</th>\n",
       "      <th>Date</th>\n",
       "      <th>Detail</th>\n",
       "      <th>Rocket_Status</th>\n",
       "      <th>Price</th>\n",
       "      <th>Mission_Status</th>\n",
       "    </tr>\n",
       "  </thead>\n",
       "  <tbody>\n",
       "    <tr>\n",
       "      <th>0</th>\n",
       "      <td>0</td>\n",
       "      <td>0</td>\n",
       "      <td>SpaceX</td>\n",
       "      <td>LC-39A, Kennedy Space Center, Florida, USA</td>\n",
       "      <td>Fri Aug 07, 2020 05:12 UTC</td>\n",
       "      <td>Falcon 9 Block 5 | Starlink V1 L9 &amp; BlackSky</td>\n",
       "      <td>StatusActive</td>\n",
       "      <td>50.0</td>\n",
       "      <td>Success</td>\n",
       "    </tr>\n",
       "    <tr>\n",
       "      <th>1</th>\n",
       "      <td>1</td>\n",
       "      <td>1</td>\n",
       "      <td>CASC</td>\n",
       "      <td>Site 9401 (SLS-2), Jiuquan Satellite Launch Ce...</td>\n",
       "      <td>Thu Aug 06, 2020 04:01 UTC</td>\n",
       "      <td>Long March 2D | Gaofen-9 04 &amp; Q-SAT</td>\n",
       "      <td>StatusActive</td>\n",
       "      <td>29.75</td>\n",
       "      <td>Success</td>\n",
       "    </tr>\n",
       "    <tr>\n",
       "      <th>2</th>\n",
       "      <td>2</td>\n",
       "      <td>2</td>\n",
       "      <td>SpaceX</td>\n",
       "      <td>Pad A, Boca Chica, Texas, USA</td>\n",
       "      <td>Tue Aug 04, 2020 23:57 UTC</td>\n",
       "      <td>Starship Prototype | 150 Meter Hop</td>\n",
       "      <td>StatusActive</td>\n",
       "      <td>NaN</td>\n",
       "      <td>Success</td>\n",
       "    </tr>\n",
       "    <tr>\n",
       "      <th>3</th>\n",
       "      <td>3</td>\n",
       "      <td>3</td>\n",
       "      <td>Roscosmos</td>\n",
       "      <td>Site 200/39, Baikonur Cosmodrome, Kazakhstan</td>\n",
       "      <td>Thu Jul 30, 2020 21:25 UTC</td>\n",
       "      <td>Proton-M/Briz-M | Ekspress-80 &amp; Ekspress-103</td>\n",
       "      <td>StatusActive</td>\n",
       "      <td>65.0</td>\n",
       "      <td>Success</td>\n",
       "    </tr>\n",
       "    <tr>\n",
       "      <th>4</th>\n",
       "      <td>4</td>\n",
       "      <td>4</td>\n",
       "      <td>ULA</td>\n",
       "      <td>SLC-41, Cape Canaveral AFS, Florida, USA</td>\n",
       "      <td>Thu Jul 30, 2020 11:50 UTC</td>\n",
       "      <td>Atlas V 541 | Perseverance</td>\n",
       "      <td>StatusActive</td>\n",
       "      <td>145.0</td>\n",
       "      <td>Success</td>\n",
       "    </tr>\n",
       "  </tbody>\n",
       "</table>\n",
       "</div>"
      ],
      "text/plain": [
       "   Unnamed: 0.1  Unnamed: 0 Organisation  \\\n",
       "0             0           0       SpaceX   \n",
       "1             1           1         CASC   \n",
       "2             2           2       SpaceX   \n",
       "3             3           3    Roscosmos   \n",
       "4             4           4          ULA   \n",
       "\n",
       "                                            Location  \\\n",
       "0         LC-39A, Kennedy Space Center, Florida, USA   \n",
       "1  Site 9401 (SLS-2), Jiuquan Satellite Launch Ce...   \n",
       "2                      Pad A, Boca Chica, Texas, USA   \n",
       "3       Site 200/39, Baikonur Cosmodrome, Kazakhstan   \n",
       "4           SLC-41, Cape Canaveral AFS, Florida, USA   \n",
       "\n",
       "                         Date                                        Detail  \\\n",
       "0  Fri Aug 07, 2020 05:12 UTC  Falcon 9 Block 5 | Starlink V1 L9 & BlackSky   \n",
       "1  Thu Aug 06, 2020 04:01 UTC           Long March 2D | Gaofen-9 04 & Q-SAT   \n",
       "2  Tue Aug 04, 2020 23:57 UTC            Starship Prototype | 150 Meter Hop   \n",
       "3  Thu Jul 30, 2020 21:25 UTC  Proton-M/Briz-M | Ekspress-80 & Ekspress-103   \n",
       "4  Thu Jul 30, 2020 11:50 UTC                    Atlas V 541 | Perseverance   \n",
       "\n",
       "  Rocket_Status  Price Mission_Status  \n",
       "0  StatusActive   50.0        Success  \n",
       "1  StatusActive  29.75        Success  \n",
       "2  StatusActive    NaN        Success  \n",
       "3  StatusActive   65.0        Success  \n",
       "4  StatusActive  145.0        Success  "
      ]
     },
     "execution_count": 4,
     "metadata": {},
     "output_type": "execute_result"
    }
   ],
   "source": [
    "df.head()"
   ]
  },
  {
   "cell_type": "code",
   "execution_count": 5,
   "id": "3014d5cc",
   "metadata": {},
   "outputs": [],
   "source": [
    "df.drop(\"Unnamed: 0\", axis=1, inplace=True)"
   ]
  },
  {
   "cell_type": "code",
   "execution_count": 6,
   "id": "1f837013",
   "metadata": {},
   "outputs": [],
   "source": [
    "df.drop(\"Unnamed: 0.1\", axis=1, inplace=True)"
   ]
  },
  {
   "cell_type": "code",
   "execution_count": 7,
   "id": "c4a994e8",
   "metadata": {},
   "outputs": [
    {
     "data": {
      "text/html": [
       "<div>\n",
       "<style scoped>\n",
       "    .dataframe tbody tr th:only-of-type {\n",
       "        vertical-align: middle;\n",
       "    }\n",
       "\n",
       "    .dataframe tbody tr th {\n",
       "        vertical-align: top;\n",
       "    }\n",
       "\n",
       "    .dataframe thead th {\n",
       "        text-align: right;\n",
       "    }\n",
       "</style>\n",
       "<table border=\"1\" class=\"dataframe\">\n",
       "  <thead>\n",
       "    <tr style=\"text-align: right;\">\n",
       "      <th></th>\n",
       "      <th>Organisation</th>\n",
       "      <th>Location</th>\n",
       "      <th>Date</th>\n",
       "      <th>Detail</th>\n",
       "      <th>Rocket_Status</th>\n",
       "      <th>Price</th>\n",
       "      <th>Mission_Status</th>\n",
       "    </tr>\n",
       "  </thead>\n",
       "  <tbody>\n",
       "    <tr>\n",
       "      <th>0</th>\n",
       "      <td>SpaceX</td>\n",
       "      <td>LC-39A, Kennedy Space Center, Florida, USA</td>\n",
       "      <td>Fri Aug 07, 2020 05:12 UTC</td>\n",
       "      <td>Falcon 9 Block 5 | Starlink V1 L9 &amp; BlackSky</td>\n",
       "      <td>StatusActive</td>\n",
       "      <td>50.0</td>\n",
       "      <td>Success</td>\n",
       "    </tr>\n",
       "    <tr>\n",
       "      <th>1</th>\n",
       "      <td>CASC</td>\n",
       "      <td>Site 9401 (SLS-2), Jiuquan Satellite Launch Ce...</td>\n",
       "      <td>Thu Aug 06, 2020 04:01 UTC</td>\n",
       "      <td>Long March 2D | Gaofen-9 04 &amp; Q-SAT</td>\n",
       "      <td>StatusActive</td>\n",
       "      <td>29.75</td>\n",
       "      <td>Success</td>\n",
       "    </tr>\n",
       "    <tr>\n",
       "      <th>2</th>\n",
       "      <td>SpaceX</td>\n",
       "      <td>Pad A, Boca Chica, Texas, USA</td>\n",
       "      <td>Tue Aug 04, 2020 23:57 UTC</td>\n",
       "      <td>Starship Prototype | 150 Meter Hop</td>\n",
       "      <td>StatusActive</td>\n",
       "      <td>NaN</td>\n",
       "      <td>Success</td>\n",
       "    </tr>\n",
       "    <tr>\n",
       "      <th>3</th>\n",
       "      <td>Roscosmos</td>\n",
       "      <td>Site 200/39, Baikonur Cosmodrome, Kazakhstan</td>\n",
       "      <td>Thu Jul 30, 2020 21:25 UTC</td>\n",
       "      <td>Proton-M/Briz-M | Ekspress-80 &amp; Ekspress-103</td>\n",
       "      <td>StatusActive</td>\n",
       "      <td>65.0</td>\n",
       "      <td>Success</td>\n",
       "    </tr>\n",
       "    <tr>\n",
       "      <th>4</th>\n",
       "      <td>ULA</td>\n",
       "      <td>SLC-41, Cape Canaveral AFS, Florida, USA</td>\n",
       "      <td>Thu Jul 30, 2020 11:50 UTC</td>\n",
       "      <td>Atlas V 541 | Perseverance</td>\n",
       "      <td>StatusActive</td>\n",
       "      <td>145.0</td>\n",
       "      <td>Success</td>\n",
       "    </tr>\n",
       "  </tbody>\n",
       "</table>\n",
       "</div>"
      ],
      "text/plain": [
       "  Organisation                                           Location  \\\n",
       "0       SpaceX         LC-39A, Kennedy Space Center, Florida, USA   \n",
       "1         CASC  Site 9401 (SLS-2), Jiuquan Satellite Launch Ce...   \n",
       "2       SpaceX                      Pad A, Boca Chica, Texas, USA   \n",
       "3    Roscosmos       Site 200/39, Baikonur Cosmodrome, Kazakhstan   \n",
       "4          ULA           SLC-41, Cape Canaveral AFS, Florida, USA   \n",
       "\n",
       "                         Date                                        Detail  \\\n",
       "0  Fri Aug 07, 2020 05:12 UTC  Falcon 9 Block 5 | Starlink V1 L9 & BlackSky   \n",
       "1  Thu Aug 06, 2020 04:01 UTC           Long March 2D | Gaofen-9 04 & Q-SAT   \n",
       "2  Tue Aug 04, 2020 23:57 UTC            Starship Prototype | 150 Meter Hop   \n",
       "3  Thu Jul 30, 2020 21:25 UTC  Proton-M/Briz-M | Ekspress-80 & Ekspress-103   \n",
       "4  Thu Jul 30, 2020 11:50 UTC                    Atlas V 541 | Perseverance   \n",
       "\n",
       "  Rocket_Status  Price Mission_Status  \n",
       "0  StatusActive   50.0        Success  \n",
       "1  StatusActive  29.75        Success  \n",
       "2  StatusActive    NaN        Success  \n",
       "3  StatusActive   65.0        Success  \n",
       "4  StatusActive  145.0        Success  "
      ]
     },
     "execution_count": 7,
     "metadata": {},
     "output_type": "execute_result"
    }
   ],
   "source": [
    "df.head()"
   ]
  },
  {
   "cell_type": "code",
   "execution_count": 8,
   "id": "1875d7fa",
   "metadata": {},
   "outputs": [
    {
     "name": "stdout",
     "output_type": "stream",
     "text": [
      "<class 'pandas.core.frame.DataFrame'>\n",
      "RangeIndex: 4324 entries, 0 to 4323\n",
      "Data columns (total 7 columns):\n",
      " #   Column          Non-Null Count  Dtype \n",
      "---  ------          --------------  ----- \n",
      " 0   Organisation    4324 non-null   object\n",
      " 1   Location        4324 non-null   object\n",
      " 2   Date            4324 non-null   object\n",
      " 3   Detail          4324 non-null   object\n",
      " 4   Rocket_Status   4324 non-null   object\n",
      " 5   Price           964 non-null    object\n",
      " 6   Mission_Status  4324 non-null   object\n",
      "dtypes: object(7)\n",
      "memory usage: 236.6+ KB\n"
     ]
    }
   ],
   "source": [
    "df.info()"
   ]
  },
  {
   "cell_type": "code",
   "execution_count": 9,
   "id": "10d1aa7c",
   "metadata": {},
   "outputs": [
    {
     "data": {
      "text/html": [
       "<div>\n",
       "<style scoped>\n",
       "    .dataframe tbody tr th:only-of-type {\n",
       "        vertical-align: middle;\n",
       "    }\n",
       "\n",
       "    .dataframe tbody tr th {\n",
       "        vertical-align: top;\n",
       "    }\n",
       "\n",
       "    .dataframe thead th {\n",
       "        text-align: right;\n",
       "    }\n",
       "</style>\n",
       "<table border=\"1\" class=\"dataframe\">\n",
       "  <thead>\n",
       "    <tr style=\"text-align: right;\">\n",
       "      <th></th>\n",
       "      <th>count</th>\n",
       "      <th>unique</th>\n",
       "      <th>top</th>\n",
       "      <th>freq</th>\n",
       "    </tr>\n",
       "  </thead>\n",
       "  <tbody>\n",
       "    <tr>\n",
       "      <th>Organisation</th>\n",
       "      <td>4324</td>\n",
       "      <td>56</td>\n",
       "      <td>RVSN USSR</td>\n",
       "      <td>1777</td>\n",
       "    </tr>\n",
       "    <tr>\n",
       "      <th>Location</th>\n",
       "      <td>4324</td>\n",
       "      <td>137</td>\n",
       "      <td>Site 31/6, Baikonur Cosmodrome, Kazakhstan</td>\n",
       "      <td>235</td>\n",
       "    </tr>\n",
       "    <tr>\n",
       "      <th>Date</th>\n",
       "      <td>4324</td>\n",
       "      <td>4319</td>\n",
       "      <td>Wed Nov 05, 2008 00:15 UTC</td>\n",
       "      <td>2</td>\n",
       "    </tr>\n",
       "    <tr>\n",
       "      <th>Detail</th>\n",
       "      <td>4324</td>\n",
       "      <td>4278</td>\n",
       "      <td>Cosmos-3MRB (65MRB) | BOR-5 Shuttle</td>\n",
       "      <td>6</td>\n",
       "    </tr>\n",
       "    <tr>\n",
       "      <th>Rocket_Status</th>\n",
       "      <td>4324</td>\n",
       "      <td>2</td>\n",
       "      <td>StatusRetired</td>\n",
       "      <td>3534</td>\n",
       "    </tr>\n",
       "    <tr>\n",
       "      <th>Price</th>\n",
       "      <td>964</td>\n",
       "      <td>56</td>\n",
       "      <td>450.0</td>\n",
       "      <td>136</td>\n",
       "    </tr>\n",
       "    <tr>\n",
       "      <th>Mission_Status</th>\n",
       "      <td>4324</td>\n",
       "      <td>4</td>\n",
       "      <td>Success</td>\n",
       "      <td>3879</td>\n",
       "    </tr>\n",
       "  </tbody>\n",
       "</table>\n",
       "</div>"
      ],
      "text/plain": [
       "               count unique                                         top  freq\n",
       "Organisation    4324     56                                   RVSN USSR  1777\n",
       "Location        4324    137  Site 31/6, Baikonur Cosmodrome, Kazakhstan   235\n",
       "Date            4324   4319                  Wed Nov 05, 2008 00:15 UTC     2\n",
       "Detail          4324   4278         Cosmos-3MRB (65MRB) | BOR-5 Shuttle     6\n",
       "Rocket_Status   4324      2                               StatusRetired  3534\n",
       "Price            964     56                                       450.0   136\n",
       "Mission_Status  4324      4                                     Success  3879"
      ]
     },
     "execution_count": 9,
     "metadata": {},
     "output_type": "execute_result"
    }
   ],
   "source": [
    "df.describe().transpose()"
   ]
  },
  {
   "cell_type": "code",
   "execution_count": 10,
   "id": "c858c3e1",
   "metadata": {},
   "outputs": [
    {
     "data": {
      "text/plain": [
       "Organisation  Location  Date   Detail  Rocket_Status  Price  Mission_Status\n",
       "False         False     False  False   False          True   False             3360\n",
       "                                                      False  False              964\n",
       "dtype: int64"
      ]
     },
     "execution_count": 10,
     "metadata": {},
     "output_type": "execute_result"
    }
   ],
   "source": [
    "df.isna().value_counts()"
   ]
  },
  {
   "cell_type": "code",
   "execution_count": 11,
   "id": "b25ae4af",
   "metadata": {},
   "outputs": [
    {
     "data": {
      "text/html": [
       "<div>\n",
       "<style scoped>\n",
       "    .dataframe tbody tr th:only-of-type {\n",
       "        vertical-align: middle;\n",
       "    }\n",
       "\n",
       "    .dataframe tbody tr th {\n",
       "        vertical-align: top;\n",
       "    }\n",
       "\n",
       "    .dataframe thead th {\n",
       "        text-align: right;\n",
       "    }\n",
       "</style>\n",
       "<table border=\"1\" class=\"dataframe\">\n",
       "  <thead>\n",
       "    <tr style=\"text-align: right;\">\n",
       "      <th></th>\n",
       "      <th>Organisation</th>\n",
       "      <th>Location</th>\n",
       "      <th>Date</th>\n",
       "      <th>Detail</th>\n",
       "      <th>Rocket_Status</th>\n",
       "      <th>Price</th>\n",
       "      <th>Mission_Status</th>\n",
       "    </tr>\n",
       "  </thead>\n",
       "  <tbody>\n",
       "    <tr>\n",
       "      <th>0</th>\n",
       "      <td>False</td>\n",
       "      <td>False</td>\n",
       "      <td>False</td>\n",
       "      <td>False</td>\n",
       "      <td>False</td>\n",
       "      <td>False</td>\n",
       "      <td>False</td>\n",
       "    </tr>\n",
       "    <tr>\n",
       "      <th>1</th>\n",
       "      <td>False</td>\n",
       "      <td>False</td>\n",
       "      <td>False</td>\n",
       "      <td>False</td>\n",
       "      <td>False</td>\n",
       "      <td>False</td>\n",
       "      <td>False</td>\n",
       "    </tr>\n",
       "    <tr>\n",
       "      <th>2</th>\n",
       "      <td>False</td>\n",
       "      <td>False</td>\n",
       "      <td>False</td>\n",
       "      <td>False</td>\n",
       "      <td>False</td>\n",
       "      <td>True</td>\n",
       "      <td>False</td>\n",
       "    </tr>\n",
       "    <tr>\n",
       "      <th>3</th>\n",
       "      <td>False</td>\n",
       "      <td>False</td>\n",
       "      <td>False</td>\n",
       "      <td>False</td>\n",
       "      <td>False</td>\n",
       "      <td>False</td>\n",
       "      <td>False</td>\n",
       "    </tr>\n",
       "    <tr>\n",
       "      <th>4</th>\n",
       "      <td>False</td>\n",
       "      <td>False</td>\n",
       "      <td>False</td>\n",
       "      <td>False</td>\n",
       "      <td>False</td>\n",
       "      <td>False</td>\n",
       "      <td>False</td>\n",
       "    </tr>\n",
       "    <tr>\n",
       "      <th>...</th>\n",
       "      <td>...</td>\n",
       "      <td>...</td>\n",
       "      <td>...</td>\n",
       "      <td>...</td>\n",
       "      <td>...</td>\n",
       "      <td>...</td>\n",
       "      <td>...</td>\n",
       "    </tr>\n",
       "    <tr>\n",
       "      <th>4319</th>\n",
       "      <td>False</td>\n",
       "      <td>False</td>\n",
       "      <td>False</td>\n",
       "      <td>False</td>\n",
       "      <td>False</td>\n",
       "      <td>True</td>\n",
       "      <td>False</td>\n",
       "    </tr>\n",
       "    <tr>\n",
       "      <th>4320</th>\n",
       "      <td>False</td>\n",
       "      <td>False</td>\n",
       "      <td>False</td>\n",
       "      <td>False</td>\n",
       "      <td>False</td>\n",
       "      <td>True</td>\n",
       "      <td>False</td>\n",
       "    </tr>\n",
       "    <tr>\n",
       "      <th>4321</th>\n",
       "      <td>False</td>\n",
       "      <td>False</td>\n",
       "      <td>False</td>\n",
       "      <td>False</td>\n",
       "      <td>False</td>\n",
       "      <td>True</td>\n",
       "      <td>False</td>\n",
       "    </tr>\n",
       "    <tr>\n",
       "      <th>4322</th>\n",
       "      <td>False</td>\n",
       "      <td>False</td>\n",
       "      <td>False</td>\n",
       "      <td>False</td>\n",
       "      <td>False</td>\n",
       "      <td>True</td>\n",
       "      <td>False</td>\n",
       "    </tr>\n",
       "    <tr>\n",
       "      <th>4323</th>\n",
       "      <td>False</td>\n",
       "      <td>False</td>\n",
       "      <td>False</td>\n",
       "      <td>False</td>\n",
       "      <td>False</td>\n",
       "      <td>True</td>\n",
       "      <td>False</td>\n",
       "    </tr>\n",
       "  </tbody>\n",
       "</table>\n",
       "<p>4324 rows × 7 columns</p>\n",
       "</div>"
      ],
      "text/plain": [
       "      Organisation  Location   Date  Detail  Rocket_Status  Price  \\\n",
       "0            False     False  False   False          False  False   \n",
       "1            False     False  False   False          False  False   \n",
       "2            False     False  False   False          False   True   \n",
       "3            False     False  False   False          False  False   \n",
       "4            False     False  False   False          False  False   \n",
       "...            ...       ...    ...     ...            ...    ...   \n",
       "4319         False     False  False   False          False   True   \n",
       "4320         False     False  False   False          False   True   \n",
       "4321         False     False  False   False          False   True   \n",
       "4322         False     False  False   False          False   True   \n",
       "4323         False     False  False   False          False   True   \n",
       "\n",
       "      Mission_Status  \n",
       "0              False  \n",
       "1              False  \n",
       "2              False  \n",
       "3              False  \n",
       "4              False  \n",
       "...              ...  \n",
       "4319           False  \n",
       "4320           False  \n",
       "4321           False  \n",
       "4322           False  \n",
       "4323           False  \n",
       "\n",
       "[4324 rows x 7 columns]"
      ]
     },
     "execution_count": 11,
     "metadata": {},
     "output_type": "execute_result"
    }
   ],
   "source": [
    "df.isna()"
   ]
  },
  {
   "cell_type": "code",
   "execution_count": 12,
   "id": "c8895ba4",
   "metadata": {},
   "outputs": [
    {
     "data": {
      "text/html": [
       "<div>\n",
       "<style scoped>\n",
       "    .dataframe tbody tr th:only-of-type {\n",
       "        vertical-align: middle;\n",
       "    }\n",
       "\n",
       "    .dataframe tbody tr th {\n",
       "        vertical-align: top;\n",
       "    }\n",
       "\n",
       "    .dataframe thead th {\n",
       "        text-align: right;\n",
       "    }\n",
       "</style>\n",
       "<table border=\"1\" class=\"dataframe\">\n",
       "  <thead>\n",
       "    <tr style=\"text-align: right;\">\n",
       "      <th></th>\n",
       "      <th></th>\n",
       "      <th></th>\n",
       "      <th></th>\n",
       "      <th></th>\n",
       "      <th></th>\n",
       "      <th></th>\n",
       "      <th>0</th>\n",
       "    </tr>\n",
       "    <tr>\n",
       "      <th>Organisation</th>\n",
       "      <th>Location</th>\n",
       "      <th>Date</th>\n",
       "      <th>Detail</th>\n",
       "      <th>Rocket_Status</th>\n",
       "      <th>Price</th>\n",
       "      <th>Mission_Status</th>\n",
       "      <th></th>\n",
       "    </tr>\n",
       "  </thead>\n",
       "  <tbody>\n",
       "    <tr>\n",
       "      <th rowspan=\"50\" valign=\"top\">Arianespace</th>\n",
       "      <th rowspan=\"50\" valign=\"top\">ELA-3, Guiana Space Centre, French Guiana, France</th>\n",
       "      <th>Fri Apr 18, 2008 22:17 UTC</th>\n",
       "      <th>Ariane 5 ECA | Star One C2 &amp; Vinasat-1</th>\n",
       "      <th>StatusActive</th>\n",
       "      <th>200.0</th>\n",
       "      <th>Success</th>\n",
       "      <td>1</td>\n",
       "    </tr>\n",
       "    <tr>\n",
       "      <th>Fri Apr 22, 2011 21:37 UTC</th>\n",
       "      <th>Ariane 5 ECA | Yahsat 1A, Intelsat 28 (New Dawn)</th>\n",
       "      <th>StatusActive</th>\n",
       "      <th>200.0</th>\n",
       "      <th>Success</th>\n",
       "      <td>1</td>\n",
       "    </tr>\n",
       "    <tr>\n",
       "      <th>Thu May 14, 2009 13:12 UTC</th>\n",
       "      <th>Ariane 5 ECA | Herschel Space Observatory &amp; Planck</th>\n",
       "      <th>StatusActive</th>\n",
       "      <th>200.0</th>\n",
       "      <th>Success</th>\n",
       "      <td>1</td>\n",
       "    </tr>\n",
       "    <tr>\n",
       "      <th>Thu Aug 29, 2013 20:30 UTC</th>\n",
       "      <th>Ariane 5 ECA | Eutelsat 25B/Es'hail 1, GSAT-7</th>\n",
       "      <th>StatusActive</th>\n",
       "      <th>200.0</th>\n",
       "      <th>Success</th>\n",
       "      <td>1</td>\n",
       "    </tr>\n",
       "    <tr>\n",
       "      <th>Thu Feb 06, 2014 21:30 UTC</th>\n",
       "      <th>Ariane 5 ECA | ABS-2, Athena-Fidus</th>\n",
       "      <th>StatusActive</th>\n",
       "      <th>200.0</th>\n",
       "      <th>Success</th>\n",
       "      <td>1</td>\n",
       "    </tr>\n",
       "    <tr>\n",
       "      <th>Thu Feb 07, 2013 21:36 UTC</th>\n",
       "      <th>Ariane 5 ECA | Amazonas-3, Azerspace-1 (Africasat-1A)</th>\n",
       "      <th>StatusActive</th>\n",
       "      <th>200.0</th>\n",
       "      <th>Success</th>\n",
       "      <td>1</td>\n",
       "    </tr>\n",
       "    <tr>\n",
       "      <th>Thu Feb 12, 2009 22:09 UTC</th>\n",
       "      <th>Ariane 5 ECA | Hot Bird 10, NSS-9, Spirale-A &amp; B</th>\n",
       "      <th>StatusActive</th>\n",
       "      <th>200.0</th>\n",
       "      <th>Success</th>\n",
       "      <td>1</td>\n",
       "    </tr>\n",
       "    <tr>\n",
       "      <th>Thu Jan 16, 2020 21:05 UTC</th>\n",
       "      <th>Ariane 5 ECA | Eutelsat Konnect BB4A &amp; GSAT-30</th>\n",
       "      <th>StatusActive</th>\n",
       "      <th>200.0</th>\n",
       "      <th>Success</th>\n",
       "      <td>1</td>\n",
       "    </tr>\n",
       "    <tr>\n",
       "      <th>Thu Jan 25, 2018 22:20 UTC</th>\n",
       "      <th>Ariane 5 ECA | SES-14/GOLD &amp; Al Yah-3</th>\n",
       "      <th>StatusActive</th>\n",
       "      <th>200.0</th>\n",
       "      <th>Partial Failure</th>\n",
       "      <td>1</td>\n",
       "    </tr>\n",
       "    <tr>\n",
       "      <th>Thu Jul 05, 2012 21:36 UTC</th>\n",
       "      <th>Ariane 5 ECA | EchoStar XVII, MSG-3</th>\n",
       "      <th>StatusActive</th>\n",
       "      <th>200.0</th>\n",
       "      <th>Success</th>\n",
       "      <td>1</td>\n",
       "    </tr>\n",
       "    <tr>\n",
       "      <th>Thu Jul 25, 2013 19:54 UTC</th>\n",
       "      <th>Ariane 5 ECA | Alphasat I-XL, INSAT-3D</th>\n",
       "      <th>StatusActive</th>\n",
       "      <th>200.0</th>\n",
       "      <th>Success</th>\n",
       "      <td>1</td>\n",
       "    </tr>\n",
       "    <tr>\n",
       "      <th>Thu Jun 01, 2017 23:45 UTC</th>\n",
       "      <th>Ariane 5 ECA | ViaSat 2, Eutelsat 172B</th>\n",
       "      <th>StatusActive</th>\n",
       "      <th>200.0</th>\n",
       "      <th>Success</th>\n",
       "      <td>1</td>\n",
       "    </tr>\n",
       "    <tr>\n",
       "      <th>Thu Jun 12, 2008 22:05 UTC</th>\n",
       "      <th>Ariane 5 ECA | Skynet 5C &amp; Turksat 3A</th>\n",
       "      <th>StatusActive</th>\n",
       "      <th>200.0</th>\n",
       "      <th>Success</th>\n",
       "      <td>1</td>\n",
       "    </tr>\n",
       "    <tr>\n",
       "      <th>Thu Jun 20, 2019 21:43 UTC</th>\n",
       "      <th>Ariane 5 ECA | Eutelsat 7C &amp;  AT&amp;T T-16</th>\n",
       "      <th>StatusActive</th>\n",
       "      <th>200.0</th>\n",
       "      <th>Success</th>\n",
       "      <td>1</td>\n",
       "    </tr>\n",
       "    <tr>\n",
       "      <th>Thu May 04, 2017 21:50 UTC</th>\n",
       "      <th>Ariane 5 ECA | Koreasat 7, SGDC-1</th>\n",
       "      <th>StatusActive</th>\n",
       "      <th>200.0</th>\n",
       "      <th>Success</th>\n",
       "      <td>1</td>\n",
       "    </tr>\n",
       "    <tr>\n",
       "      <th>Thu Oct 01, 2009 21:59 UTC</th>\n",
       "      <th>Ariane 5 ECA | Amazonas 2 &amp; COMSATBw-1</th>\n",
       "      <th>StatusActive</th>\n",
       "      <th>200.0</th>\n",
       "      <th>Success</th>\n",
       "      <td>1</td>\n",
       "    </tr>\n",
       "    <tr>\n",
       "      <th>Thu Aug 14, 2008 20:44 UTC</th>\n",
       "      <th>Ariane 5 ECA | Superbird-7 &amp; AMC-21</th>\n",
       "      <th>StatusActive</th>\n",
       "      <th>200.0</th>\n",
       "      <th>Success</th>\n",
       "      <td>1</td>\n",
       "    </tr>\n",
       "    <tr>\n",
       "      <th>Thu Oct 16, 2014 21:43 UTC</th>\n",
       "      <th>Ariane 5 ECA | Intelsat 30, ARSAT-1</th>\n",
       "      <th>StatusActive</th>\n",
       "      <th>200.0</th>\n",
       "      <th>Success</th>\n",
       "      <td>1</td>\n",
       "    </tr>\n",
       "    <tr>\n",
       "      <th>Thu Oct 28, 2010 23:51 UTC</th>\n",
       "      <th>Ariane 5 ECA | Eutelsat W3B, BSAT-3B</th>\n",
       "      <th>StatusActive</th>\n",
       "      <th>200.0</th>\n",
       "      <th>Success</th>\n",
       "      <td>1</td>\n",
       "    </tr>\n",
       "    <tr>\n",
       "      <th>Thu Oct 29, 2009 20:00 UTC</th>\n",
       "      <th>Ariane 5 ECA | NSS-12 &amp; Thor-6</th>\n",
       "      <th>StatusActive</th>\n",
       "      <th>200.0</th>\n",
       "      <th>Success</th>\n",
       "      <td>1</td>\n",
       "    </tr>\n",
       "    <tr>\n",
       "      <th>Thu Sep 11, 2014 22:05 UTC</th>\n",
       "      <th>Ariane 5 ECA | MEASAT 3b, Optus 10</th>\n",
       "      <th>StatusActive</th>\n",
       "      <th>200.0</th>\n",
       "      <th>Success</th>\n",
       "      <td>1</td>\n",
       "    </tr>\n",
       "    <tr>\n",
       "      <th>Tue Aug 06, 2019 19:30 UTC</th>\n",
       "      <th>Ariane 5 ECA | EDRS-C/HYLAS 3 &amp; Intelsat 39</th>\n",
       "      <th>StatusActive</th>\n",
       "      <th>200.0</th>\n",
       "      <th>Success</th>\n",
       "      <td>1</td>\n",
       "    </tr>\n",
       "    <tr>\n",
       "      <th>Tue Aug 14, 2007 23:44 UTC</th>\n",
       "      <th>Ariane 5 ECA | Spaceway-3 &amp; BSat-3A</th>\n",
       "      <th>StatusActive</th>\n",
       "      <th>200.0</th>\n",
       "      <th>Success</th>\n",
       "      <td>1</td>\n",
       "    </tr>\n",
       "    <tr>\n",
       "      <th>Tue Dec 04, 2018 20:37 UTC</th>\n",
       "      <th>Ariane 5 ECA | GSAT-11 &amp; GEO-KOMPSAT 2A</th>\n",
       "      <th>StatusActive</th>\n",
       "      <th>200.0</th>\n",
       "      <th>Success</th>\n",
       "      <td>1</td>\n",
       "    </tr>\n",
       "    <tr>\n",
       "      <th>Tue Feb 05, 2019 21:01 UTC</th>\n",
       "      <th>Ariane 5 ECA | GSAT-31 &amp; Hellas-Sat-4</th>\n",
       "      <th>StatusActive</th>\n",
       "      <th>200.0</th>\n",
       "      <th>Success</th>\n",
       "      <td>1</td>\n",
       "    </tr>\n",
       "    <tr>\n",
       "      <th>Tue Feb 14, 2017 21:39 UTC</th>\n",
       "      <th>Ariane 5 ECA | Intelsat 32e/SkyBrasil-1 &amp; Telkom-3S</th>\n",
       "      <th>StatusActive</th>\n",
       "      <th>200.0</th>\n",
       "      <th>Success</th>\n",
       "      <td>1</td>\n",
       "    </tr>\n",
       "    <tr>\n",
       "      <th>Tue Feb 18, 2020 22:18 UTC</th>\n",
       "      <th>Ariane 5 ECA | JCSAT-17 &amp; GEO-KOMPSAT 2B</th>\n",
       "      <th>StatusActive</th>\n",
       "      <th>200.0</th>\n",
       "      <th>Success</th>\n",
       "      <td>1</td>\n",
       "    </tr>\n",
       "    <tr>\n",
       "      <th>Tue Mar 02, 2004 07:17 UTC</th>\n",
       "      <th>Ariane 5 G+ | Rosetta &amp; Philae</th>\n",
       "      <th>StatusRetired</th>\n",
       "      <th>190.0</th>\n",
       "      <th>Success</th>\n",
       "      <td>1</td>\n",
       "    </tr>\n",
       "    <tr>\n",
       "      <th>Tue May 15, 2012 22:13 UTC</th>\n",
       "      <th>Ariane 5 ECA | JCSAT-13, Vinasat-2</th>\n",
       "      <th>StatusActive</th>\n",
       "      <th>200.0</th>\n",
       "      <th>Success</th>\n",
       "      <td>1</td>\n",
       "    </tr>\n",
       "    <tr>\n",
       "      <th>Thu Aug 20, 2015 20:34 UTC</th>\n",
       "      <th>Ariane 5 ECA | Eutelsat 8 West B, Intelsat 34</th>\n",
       "      <th>StatusActive</th>\n",
       "      <th>200.0</th>\n",
       "      <th>Success</th>\n",
       "      <td>1</td>\n",
       "    </tr>\n",
       "    <tr>\n",
       "      <th>Thu Aug 02, 2012 20:54 UTC</th>\n",
       "      <th>Ariane 5 ECA | Intelsat 20, HYLAS 2</th>\n",
       "      <th>StatusActive</th>\n",
       "      <th>200.0</th>\n",
       "      <th>Success</th>\n",
       "      <td>1</td>\n",
       "    </tr>\n",
       "    <tr>\n",
       "      <th>Tue Nov 26, 2019 21:23 UTC</th>\n",
       "      <th>Ariane 5 ECA | Inmarsat 5 F5 &amp; TIBA-1</th>\n",
       "      <th>StatusActive</th>\n",
       "      <th>200.0</th>\n",
       "      <th>Success</th>\n",
       "      <td>1</td>\n",
       "    </tr>\n",
       "    <tr>\n",
       "      <th>Sat Dec 06, 2014 20:40 UTC</th>\n",
       "      <th>Ariane 5 ECA | DirecTV-14, GSAT-16</th>\n",
       "      <th>StatusActive</th>\n",
       "      <th>200.0</th>\n",
       "      <th>Success</th>\n",
       "      <td>1</td>\n",
       "    </tr>\n",
       "    <tr>\n",
       "      <th>Fri Aug 11, 2006 22:15 UTC</th>\n",
       "      <th>Ariane 5 ECA | JCSAT-10 &amp; Syracuse 3B</th>\n",
       "      <th>StatusActive</th>\n",
       "      <th>200.0</th>\n",
       "      <th>Success</th>\n",
       "      <td>1</td>\n",
       "    </tr>\n",
       "    <tr>\n",
       "      <th>Fri Aug 21, 2009 22:09 UTC</th>\n",
       "      <th>Ariane 5 ECA | JCSAT-12 &amp; Optus D3</th>\n",
       "      <th>StatusActive</th>\n",
       "      <th>200.0</th>\n",
       "      <th>Success</th>\n",
       "      <td>1</td>\n",
       "    </tr>\n",
       "    <tr>\n",
       "      <th>Fri Dec 08, 2006 22:08 UTC</th>\n",
       "      <th>Ariane 5 ECA | WildBlue-1 &amp; AMC-18</th>\n",
       "      <th>StatusActive</th>\n",
       "      <th>200.0</th>\n",
       "      <th>Success</th>\n",
       "      <td>1</td>\n",
       "    </tr>\n",
       "    <tr>\n",
       "      <th>Fri May 04, 2007 22:29 UTC</th>\n",
       "      <th>Ariane 5 ECA | Astra 1L &amp; Galaxy 17</th>\n",
       "      <th>StatusActive</th>\n",
       "      <th>200.0</th>\n",
       "      <th>Success</th>\n",
       "      <td>1</td>\n",
       "    </tr>\n",
       "    <tr>\n",
       "      <th>Fri May 20, 2011 20:38 UTC</th>\n",
       "      <th>Ariane 5 ECA | ST-2, GSAT-8</th>\n",
       "      <th>StatusActive</th>\n",
       "      <th>200.0</th>\n",
       "      <th>Success</th>\n",
       "      <td>1</td>\n",
       "    </tr>\n",
       "    <tr>\n",
       "      <th>Fri May 21, 2010 22:01 UTC</th>\n",
       "      <th>Ariane 5 ECA | Astra 3B  &amp; COMSATBw-2</th>\n",
       "      <th>StatusActive</th>\n",
       "      <th>200.0</th>\n",
       "      <th>Success</th>\n",
       "      <td>1</td>\n",
       "    </tr>\n",
       "    <tr>\n",
       "      <th>Fri Nov 26, 2010 18:39 UTC</th>\n",
       "      <th>Ariane 5 ECA | Intelsat 17, HYLAS-1</th>\n",
       "      <th>StatusActive</th>\n",
       "      <th>200.0</th>\n",
       "      <th>Success</th>\n",
       "      <td>1</td>\n",
       "    </tr>\n",
       "    <tr>\n",
       "      <th>Fri Oct 13, 2006 20:56 UTC</th>\n",
       "      <th>Ariane 5 ECA | DirecTV-9S, Optus D1, LDREX-2</th>\n",
       "      <th>StatusActive</th>\n",
       "      <th>200.0</th>\n",
       "      <th>Success</th>\n",
       "      <td>1</td>\n",
       "    </tr>\n",
       "    <tr>\n",
       "      <th>Fri Sep 28, 2012 21:18 UTC</th>\n",
       "      <th>Ariane 5 ECA | Astra 2F, GSAT-10</th>\n",
       "      <th>StatusActive</th>\n",
       "      <th>200.0</th>\n",
       "      <th>Success</th>\n",
       "      <td>1</td>\n",
       "    </tr>\n",
       "    <tr>\n",
       "      <th>Fri Sep 29, 2017 21:56 UTC</th>\n",
       "      <th>Ariane 5 ECA | Intelsat 37e, BSAT-4a</th>\n",
       "      <th>StatusActive</th>\n",
       "      <th>200.0</th>\n",
       "      <th>Success</th>\n",
       "      <td>1</td>\n",
       "    </tr>\n",
       "    <tr>\n",
       "      <th>Mon Jul 07, 2008 21:47 UTC</th>\n",
       "      <th>Ariane 5 ECA | ProtoStar-1 &amp; Badr-6</th>\n",
       "      <th>StatusActive</th>\n",
       "      <th>200.0</th>\n",
       "      <th>Success</th>\n",
       "      <td>1</td>\n",
       "    </tr>\n",
       "    <tr>\n",
       "      <th>Sat Aug 06, 2011 22:52 UTC</th>\n",
       "      <th>Ariane 5 ECA | Astra 1N, BSAT-3C (JCSAT-110R)</th>\n",
       "      <th>StatusActive</th>\n",
       "      <th>200.0</th>\n",
       "      <th>Success</th>\n",
       "      <td>1</td>\n",
       "    </tr>\n",
       "    <tr>\n",
       "      <th>Sat Dec 18, 2004 16:26 UTC</th>\n",
       "      <th>Ariane 5 G+ | Helios 2A, Essaim-1,2,3,4, PARASOL, Nanosat 01</th>\n",
       "      <th>StatusRetired</th>\n",
       "      <th>190.0</th>\n",
       "      <th>Success</th>\n",
       "      <td>1</td>\n",
       "    </tr>\n",
       "    <tr>\n",
       "      <th>Thu Apr 05, 2018 21:34 UTC</th>\n",
       "      <th>Ariane 5 ECA | Superbird-B3/DSN-1 &amp; HYLAS-4</th>\n",
       "      <th>StatusActive</th>\n",
       "      <th>200.0</th>\n",
       "      <th>Success</th>\n",
       "      <td>1</td>\n",
       "    </tr>\n",
       "    <tr>\n",
       "      <th>Sat Dec 20, 2008 22:35 UTC</th>\n",
       "      <th>Ariane 5 ECA | Hot Bird 9 &amp; Eutelsat W2M</th>\n",
       "      <th>StatusActive</th>\n",
       "      <th>200.0</th>\n",
       "      <th>Success</th>\n",
       "      <td>1</td>\n",
       "    </tr>\n",
       "    <tr>\n",
       "      <th>Sat Feb 12, 2005 21:03 UTC</th>\n",
       "      <th>Ariane 5 ECA | XTAR-EUR, Maqsat-B2, Sloshsat-FLEVO</th>\n",
       "      <th>StatusActive</th>\n",
       "      <th>200.0</th>\n",
       "      <th>Success</th>\n",
       "      <td>1</td>\n",
       "    </tr>\n",
       "    <tr>\n",
       "      <th>Sat Jun 18, 2016 05:20 UTC</th>\n",
       "      <th>Ariane 5 ECA | EchoStar 18, BRISat</th>\n",
       "      <th>StatusActive</th>\n",
       "      <th>200.0</th>\n",
       "      <th>Success</th>\n",
       "      <td>1</td>\n",
       "    </tr>\n",
       "  </tbody>\n",
       "</table>\n",
       "</div>"
      ],
      "text/plain": [
       "                                                                                                                                                                                  0\n",
       "Organisation Location                                          Date                       Detail                                             Rocket_Status Price Mission_Status    \n",
       "Arianespace  ELA-3, Guiana Space Centre, French Guiana, France Fri Apr 18, 2008 22:17 UTC Ariane 5 ECA | Star One C2 & Vinasat-1             StatusActive  200.0 Success          1\n",
       "                                                               Fri Apr 22, 2011 21:37 UTC Ariane 5 ECA | Yahsat 1A, Intelsat 28 (New Dawn)   StatusActive  200.0 Success          1\n",
       "                                                               Thu May 14, 2009 13:12 UTC Ariane 5 ECA | Herschel Space Observatory & Planck StatusActive  200.0 Success          1\n",
       "                                                               Thu Aug 29, 2013 20:30 UTC Ariane 5 ECA | Eutelsat 25B/Es'hail 1, GSAT-7      StatusActive  200.0 Success          1\n",
       "                                                               Thu Feb 06, 2014 21:30 UTC Ariane 5 ECA | ABS-2, Athena-Fidus                 StatusActive  200.0 Success          1\n",
       "                                                               Thu Feb 07, 2013 21:36 UTC Ariane 5 ECA | Amazonas-3, Azerspace-1 (Africas... StatusActive  200.0 Success          1\n",
       "                                                               Thu Feb 12, 2009 22:09 UTC Ariane 5 ECA | Hot Bird 10, NSS-9, Spirale-A & B   StatusActive  200.0 Success          1\n",
       "                                                               Thu Jan 16, 2020 21:05 UTC Ariane 5 ECA | Eutelsat Konnect BB4A & GSAT-30     StatusActive  200.0 Success          1\n",
       "                                                               Thu Jan 25, 2018 22:20 UTC Ariane 5 ECA | SES-14/GOLD & Al Yah-3              StatusActive  200.0 Partial Failure  1\n",
       "                                                               Thu Jul 05, 2012 21:36 UTC Ariane 5 ECA | EchoStar XVII, MSG-3                StatusActive  200.0 Success          1\n",
       "                                                               Thu Jul 25, 2013 19:54 UTC Ariane 5 ECA | Alphasat I-XL, INSAT-3D             StatusActive  200.0 Success          1\n",
       "                                                               Thu Jun 01, 2017 23:45 UTC Ariane 5 ECA | ViaSat 2, Eutelsat 172B             StatusActive  200.0 Success          1\n",
       "                                                               Thu Jun 12, 2008 22:05 UTC Ariane 5 ECA | Skynet 5C & Turksat 3A              StatusActive  200.0 Success          1\n",
       "                                                               Thu Jun 20, 2019 21:43 UTC Ariane 5 ECA | Eutelsat 7C &  AT&T T-16            StatusActive  200.0 Success          1\n",
       "                                                               Thu May 04, 2017 21:50 UTC Ariane 5 ECA | Koreasat 7, SGDC-1                  StatusActive  200.0 Success          1\n",
       "                                                               Thu Oct 01, 2009 21:59 UTC Ariane 5 ECA | Amazonas 2 & COMSATBw-1             StatusActive  200.0 Success          1\n",
       "                                                               Thu Aug 14, 2008 20:44 UTC Ariane 5 ECA | Superbird-7 & AMC-21                StatusActive  200.0 Success          1\n",
       "                                                               Thu Oct 16, 2014 21:43 UTC Ariane 5 ECA | Intelsat 30, ARSAT-1                StatusActive  200.0 Success          1\n",
       "                                                               Thu Oct 28, 2010 23:51 UTC Ariane 5 ECA | Eutelsat W3B, BSAT-3B               StatusActive  200.0 Success          1\n",
       "                                                               Thu Oct 29, 2009 20:00 UTC Ariane 5 ECA | NSS-12 & Thor-6                     StatusActive  200.0 Success          1\n",
       "                                                               Thu Sep 11, 2014 22:05 UTC Ariane 5 ECA | MEASAT 3b, Optus 10                 StatusActive  200.0 Success          1\n",
       "                                                               Tue Aug 06, 2019 19:30 UTC Ariane 5 ECA | EDRS-C/HYLAS 3 & Intelsat 39        StatusActive  200.0 Success          1\n",
       "                                                               Tue Aug 14, 2007 23:44 UTC Ariane 5 ECA | Spaceway-3 & BSat-3A                StatusActive  200.0 Success          1\n",
       "                                                               Tue Dec 04, 2018 20:37 UTC Ariane 5 ECA | GSAT-11 & GEO-KOMPSAT 2A            StatusActive  200.0 Success          1\n",
       "                                                               Tue Feb 05, 2019 21:01 UTC Ariane 5 ECA | GSAT-31 & Hellas-Sat-4              StatusActive  200.0 Success          1\n",
       "                                                               Tue Feb 14, 2017 21:39 UTC Ariane 5 ECA | Intelsat 32e/SkyBrasil-1 & Telko... StatusActive  200.0 Success          1\n",
       "                                                               Tue Feb 18, 2020 22:18 UTC Ariane 5 ECA | JCSAT-17 & GEO-KOMPSAT 2B           StatusActive  200.0 Success          1\n",
       "                                                               Tue Mar 02, 2004 07:17 UTC Ariane 5 G+ | Rosetta & Philae                     StatusRetired 190.0 Success          1\n",
       "                                                               Tue May 15, 2012 22:13 UTC Ariane 5 ECA | JCSAT-13, Vinasat-2                 StatusActive  200.0 Success          1\n",
       "                                                               Thu Aug 20, 2015 20:34 UTC Ariane 5 ECA | Eutelsat 8 West B, Intelsat 34      StatusActive  200.0 Success          1\n",
       "                                                               Thu Aug 02, 2012 20:54 UTC Ariane 5 ECA | Intelsat 20, HYLAS 2                StatusActive  200.0 Success          1\n",
       "                                                               Tue Nov 26, 2019 21:23 UTC Ariane 5 ECA | Inmarsat 5 F5 & TIBA-1              StatusActive  200.0 Success          1\n",
       "                                                               Sat Dec 06, 2014 20:40 UTC Ariane 5 ECA | DirecTV-14, GSAT-16                 StatusActive  200.0 Success          1\n",
       "                                                               Fri Aug 11, 2006 22:15 UTC Ariane 5 ECA | JCSAT-10 & Syracuse 3B              StatusActive  200.0 Success          1\n",
       "                                                               Fri Aug 21, 2009 22:09 UTC Ariane 5 ECA | JCSAT-12 & Optus D3                 StatusActive  200.0 Success          1\n",
       "                                                               Fri Dec 08, 2006 22:08 UTC Ariane 5 ECA | WildBlue-1 & AMC-18                 StatusActive  200.0 Success          1\n",
       "                                                               Fri May 04, 2007 22:29 UTC Ariane 5 ECA | Astra 1L & Galaxy 17                StatusActive  200.0 Success          1\n",
       "                                                               Fri May 20, 2011 20:38 UTC Ariane 5 ECA | ST-2, GSAT-8                        StatusActive  200.0 Success          1\n",
       "                                                               Fri May 21, 2010 22:01 UTC Ariane 5 ECA | Astra 3B  & COMSATBw-2              StatusActive  200.0 Success          1\n",
       "                                                               Fri Nov 26, 2010 18:39 UTC Ariane 5 ECA | Intelsat 17, HYLAS-1                StatusActive  200.0 Success          1\n",
       "                                                               Fri Oct 13, 2006 20:56 UTC Ariane 5 ECA | DirecTV-9S, Optus D1, LDREX-2       StatusActive  200.0 Success          1\n",
       "                                                               Fri Sep 28, 2012 21:18 UTC Ariane 5 ECA | Astra 2F, GSAT-10                   StatusActive  200.0 Success          1\n",
       "                                                               Fri Sep 29, 2017 21:56 UTC Ariane 5 ECA | Intelsat 37e, BSAT-4a               StatusActive  200.0 Success          1\n",
       "                                                               Mon Jul 07, 2008 21:47 UTC Ariane 5 ECA | ProtoStar-1 & Badr-6                StatusActive  200.0 Success          1\n",
       "                                                               Sat Aug 06, 2011 22:52 UTC Ariane 5 ECA | Astra 1N, BSAT-3C (JCSAT-110R)      StatusActive  200.0 Success          1\n",
       "                                                               Sat Dec 18, 2004 16:26 UTC Ariane 5 G+ | Helios 2A, Essaim-1,2,3,4, PARASO... StatusRetired 190.0 Success          1\n",
       "                                                               Thu Apr 05, 2018 21:34 UTC Ariane 5 ECA | Superbird-B3/DSN-1 & HYLAS-4        StatusActive  200.0 Success          1\n",
       "                                                               Sat Dec 20, 2008 22:35 UTC Ariane 5 ECA | Hot Bird 9 & Eutelsat W2M           StatusActive  200.0 Success          1\n",
       "                                                               Sat Feb 12, 2005 21:03 UTC Ariane 5 ECA | XTAR-EUR, Maqsat-B2, Sloshsat-FLEVO StatusActive  200.0 Success          1\n",
       "                                                               Sat Jun 18, 2016 05:20 UTC Ariane 5 ECA | EchoStar 18, BRISat                 StatusActive  200.0 Success          1"
      ]
     },
     "execution_count": 12,
     "metadata": {},
     "output_type": "execute_result"
    }
   ],
   "source": [
    "# which org launched most missions and the mission details\n",
    "missions_count_df = pd.DataFrame(df.groupby(\"Organisation\").value_counts())\n",
    "missions_count_df.head(50)"
   ]
  },
  {
   "cell_type": "code",
   "execution_count": 13,
   "id": "8ce72526",
   "metadata": {},
   "outputs": [],
   "source": [
    "df[\"Price\"] = pd.to_numeric(df[\"Price\"], errors=\"coerce\", downcast=\"integer\")"
   ]
  },
  {
   "cell_type": "code",
   "execution_count": 14,
   "id": "837406f3",
   "metadata": {},
   "outputs": [],
   "source": [
    "# Calculate the average cost for each organization\n",
    "avrg_cost = df.groupby('Organisation')['Price'].transform('mean')\n",
    "\n",
    "# Fill missing prices with the average price of that organisation's missions\n",
    "df['Price'].fillna(avrg_cost, inplace=True)"
   ]
  },
  {
   "cell_type": "code",
   "execution_count": 15,
   "id": "1c819313",
   "metadata": {},
   "outputs": [
    {
     "data": {
      "text/html": [
       "<div>\n",
       "<style scoped>\n",
       "    .dataframe tbody tr th:only-of-type {\n",
       "        vertical-align: middle;\n",
       "    }\n",
       "\n",
       "    .dataframe tbody tr th {\n",
       "        vertical-align: top;\n",
       "    }\n",
       "\n",
       "    .dataframe thead th {\n",
       "        text-align: right;\n",
       "    }\n",
       "</style>\n",
       "<table border=\"1\" class=\"dataframe\">\n",
       "  <thead>\n",
       "    <tr style=\"text-align: right;\">\n",
       "      <th></th>\n",
       "      <th></th>\n",
       "      <th></th>\n",
       "      <th></th>\n",
       "      <th></th>\n",
       "      <th></th>\n",
       "      <th></th>\n",
       "      <th>0</th>\n",
       "    </tr>\n",
       "    <tr>\n",
       "      <th>Organisation</th>\n",
       "      <th>Location</th>\n",
       "      <th>Date</th>\n",
       "      <th>Detail</th>\n",
       "      <th>Rocket_Status</th>\n",
       "      <th>Price</th>\n",
       "      <th>Mission_Status</th>\n",
       "      <th></th>\n",
       "    </tr>\n",
       "  </thead>\n",
       "  <tbody>\n",
       "    <tr>\n",
       "      <th rowspan=\"50\" valign=\"top\">Arianespace</th>\n",
       "      <th rowspan=\"2\" valign=\"top\">ELA-1, Guiana Space Centre, French Guiana, France</th>\n",
       "      <th>Fri Feb 08, 1985 23:22 UTC</th>\n",
       "      <th>Ariane 3 | Arabsat-1A, Brasilsat-A1</th>\n",
       "      <th>StatusRetired</th>\n",
       "      <th>170.260417</th>\n",
       "      <th>Success</th>\n",
       "      <td>1</td>\n",
       "    </tr>\n",
       "    <tr>\n",
       "      <th>Fri Jan 27, 1989 01:21 UTC</th>\n",
       "      <th>Ariane 2 | Intelsat-5A 15</th>\n",
       "      <th>StatusRetired</th>\n",
       "      <th>170.260417</th>\n",
       "      <th>Success</th>\n",
       "      <td>1</td>\n",
       "    </tr>\n",
       "    <tr>\n",
       "      <th>ELV-1 (SLV), Guiana Space Centre, French Guiana, France</th>\n",
       "      <th>Fri Sep 16, 2016 01:43 UTC</th>\n",
       "      <th>Vega | PeruSat-1 and SkySats 4-7</th>\n",
       "      <th>StatusActive</th>\n",
       "      <th>37.000000</th>\n",
       "      <th>Success</th>\n",
       "      <td>1</td>\n",
       "    </tr>\n",
       "    <tr>\n",
       "      <th rowspan=\"2\" valign=\"top\">Site 31/6, Baikonur Cosmodrome, Kazakhstan</th>\n",
       "      <th>Thu Feb 06, 2020 21:42 UTC</th>\n",
       "      <th>Soyuz 2.1b/Fregat | OneWeb #2</th>\n",
       "      <th>StatusActive</th>\n",
       "      <th>48.500000</th>\n",
       "      <th>Success</th>\n",
       "      <td>1</td>\n",
       "    </tr>\n",
       "    <tr>\n",
       "      <th>Sat Mar 21, 2020 17:06 UTC</th>\n",
       "      <th>Soyuz 2.1b/Fregat | OneWeb #3</th>\n",
       "      <th>StatusActive</th>\n",
       "      <th>48.500000</th>\n",
       "      <th>Success</th>\n",
       "      <td>1</td>\n",
       "    </tr>\n",
       "    <tr>\n",
       "      <th rowspan=\"16\" valign=\"top\">ELV-1 (SLV), Guiana Space Centre, French Guiana, France</th>\n",
       "      <th>Wed Nov 21, 2018 01:42 UTC</th>\n",
       "      <th>Vega | Mohammed VI-B</th>\n",
       "      <th>StatusActive</th>\n",
       "      <th>37.000000</th>\n",
       "      <th>Success</th>\n",
       "      <td>1</td>\n",
       "    </tr>\n",
       "    <tr>\n",
       "      <th>Wed Nov 08, 2017 01:42 UTC</th>\n",
       "      <th>Vega | Mohammed VI-A</th>\n",
       "      <th>StatusActive</th>\n",
       "      <th>37.000000</th>\n",
       "      <th>Success</th>\n",
       "      <td>1</td>\n",
       "    </tr>\n",
       "    <tr>\n",
       "      <th>Wed May 23, 1984 01:33 UTC</th>\n",
       "      <th>Ariane 1 | Spacenet F1</th>\n",
       "      <th>StatusRetired</th>\n",
       "      <th>170.260417</th>\n",
       "      <th>Success</th>\n",
       "      <td>1</td>\n",
       "    </tr>\n",
       "    <tr>\n",
       "      <th>Wed Feb 11, 2015 13:40 UTC</th>\n",
       "      <th>Vega | IXV</th>\n",
       "      <th>StatusActive</th>\n",
       "      <th>37.000000</th>\n",
       "      <th>Success</th>\n",
       "      <td>1</td>\n",
       "    </tr>\n",
       "    <tr>\n",
       "      <th>Wed Aug 22, 2018 21:20 UTC</th>\n",
       "      <th>Vega | ADM-Aeolus</th>\n",
       "      <th>StatusActive</th>\n",
       "      <th>37.000000</th>\n",
       "      <th>Success</th>\n",
       "      <td>1</td>\n",
       "    </tr>\n",
       "    <tr>\n",
       "      <th>Wed Aug 02, 2017 01:58 UTC</th>\n",
       "      <th>Vega | OPSAT 3000 &amp; VEN†æS</th>\n",
       "      <th>StatusActive</th>\n",
       "      <th>37.000000</th>\n",
       "      <th>Success</th>\n",
       "      <td>1</td>\n",
       "    </tr>\n",
       "    <tr>\n",
       "      <th>Wed Apr 30, 2014 01:35 UTC</th>\n",
       "      <th>Vega | KazEOSat-1</th>\n",
       "      <th>StatusActive</th>\n",
       "      <th>37.000000</th>\n",
       "      <th>Success</th>\n",
       "      <td>1</td>\n",
       "    </tr>\n",
       "    <tr>\n",
       "      <th>Tue May 07, 2013 02:06 UTC</th>\n",
       "      <th>Vega | Proba-V, VNREDSat-1A &amp; ESTCube-1</th>\n",
       "      <th>StatusActive</th>\n",
       "      <th>37.000000</th>\n",
       "      <th>Success</th>\n",
       "      <td>1</td>\n",
       "    </tr>\n",
       "    <tr>\n",
       "      <th>Tue Mar 07, 2017 01:49 UTC</th>\n",
       "      <th>Vega | Sentinel 2B</th>\n",
       "      <th>StatusActive</th>\n",
       "      <th>37.000000</th>\n",
       "      <th>Success</th>\n",
       "      <td>1</td>\n",
       "    </tr>\n",
       "    <tr>\n",
       "      <th>Tue Jun 23, 2015 01:51 UTC</th>\n",
       "      <th>Vega | Sentinel-2A</th>\n",
       "      <th>StatusActive</th>\n",
       "      <th>37.000000</th>\n",
       "      <th>Success</th>\n",
       "      <td>1</td>\n",
       "    </tr>\n",
       "    <tr>\n",
       "      <th>Tue Jul 02, 1985 11:23 UTC</th>\n",
       "      <th>Ariane 1 | Giotto</th>\n",
       "      <th>StatusRetired</th>\n",
       "      <th>170.260417</th>\n",
       "      <th>Success</th>\n",
       "      <td>1</td>\n",
       "    </tr>\n",
       "    <tr>\n",
       "      <th>Thu Jul 11, 2019 01:53 UTC</th>\n",
       "      <th>Vega | Falcon Eye 1</th>\n",
       "      <th>StatusActive</th>\n",
       "      <th>37.000000</th>\n",
       "      <th>Failure</th>\n",
       "      <td>1</td>\n",
       "    </tr>\n",
       "    <tr>\n",
       "      <th>Thu Dec 03, 2015 04:04 UTC</th>\n",
       "      <th>Vega | LISA Pathfinder</th>\n",
       "      <th>StatusActive</th>\n",
       "      <th>37.000000</th>\n",
       "      <th>Success</th>\n",
       "      <td>1</td>\n",
       "    </tr>\n",
       "    <tr>\n",
       "      <th>Sat Feb 22, 1986 01:44 UTC</th>\n",
       "      <th>Ariane 1 | SPOT-1 &amp; Viking</th>\n",
       "      <th>StatusRetired</th>\n",
       "      <th>170.260417</th>\n",
       "      <th>Success</th>\n",
       "      <td>1</td>\n",
       "    </tr>\n",
       "    <tr>\n",
       "      <th>Mon Dec 05, 2016 13:51 UTC</th>\n",
       "      <th>Vega | G??kt??rk-1A</th>\n",
       "      <th>StatusActive</th>\n",
       "      <th>37.000000</th>\n",
       "      <th>Success</th>\n",
       "      <td>1</td>\n",
       "    </tr>\n",
       "    <tr>\n",
       "      <th>Fri Mar 22, 2019 01:50 UTC</th>\n",
       "      <th>Vega | PRISMA</th>\n",
       "      <th>StatusActive</th>\n",
       "      <th>37.000000</th>\n",
       "      <th>Success</th>\n",
       "      <td>1</td>\n",
       "    </tr>\n",
       "    <tr>\n",
       "      <th rowspan=\"29\" valign=\"top\">ELA-2, Guiana Space Centre, French Guiana, France</th>\n",
       "      <th>Tue Jun 03, 1997 23:20 UTC</th>\n",
       "      <th>Ariane 44L | Inmarsat 3 F4, Insat 2D</th>\n",
       "      <th>StatusRetired</th>\n",
       "      <th>170.260417</th>\n",
       "      <th>Success</th>\n",
       "      <td>1</td>\n",
       "    </tr>\n",
       "    <tr>\n",
       "      <th>Tue Jul 09, 1996 22:24 UTC</th>\n",
       "      <th>Ariane 44L | Arabsat-2A, T??rksat 1C</th>\n",
       "      <th>StatusRetired</th>\n",
       "      <th>170.260417</th>\n",
       "      <th>Success</th>\n",
       "      <td>1</td>\n",
       "    </tr>\n",
       "    <tr>\n",
       "      <th>Tue Jan 25, 2000 01:04 UTC</th>\n",
       "      <th>Ariane 42L | Galaxy 10R</th>\n",
       "      <th>StatusRetired</th>\n",
       "      <th>170.260417</th>\n",
       "      <th>Success</th>\n",
       "      <td>1</td>\n",
       "    </tr>\n",
       "    <tr>\n",
       "      <th>Tue Jan 15, 1991 23:10 UTC</th>\n",
       "      <th>Ariane 44L | Italsat-1, Eutelsat 2F2</th>\n",
       "      <th>StatusRetired</th>\n",
       "      <th>170.260417</th>\n",
       "      <th>Success</th>\n",
       "      <td>1</td>\n",
       "    </tr>\n",
       "    <tr>\n",
       "      <th>Tue Dec 22, 1998 01:08 UTC</th>\n",
       "      <th>Ariane 42L | Panamsat-6B</th>\n",
       "      <th>StatusRetired</th>\n",
       "      <th>170.260417</th>\n",
       "      <th>Success</th>\n",
       "      <td>1</td>\n",
       "    </tr>\n",
       "    <tr>\n",
       "      <th>Tue Dec 17, 2002 23:04 UTC</th>\n",
       "      <th>Ariane 44L | NSS-6</th>\n",
       "      <th>StatusRetired</th>\n",
       "      <th>170.260417</th>\n",
       "      <th>Success</th>\n",
       "      <td>1</td>\n",
       "    </tr>\n",
       "    <tr>\n",
       "      <th>Tue Dec 02, 1997 22:52 UTC</th>\n",
       "      <th>Ariane 44P | JCSAT-5, Equator S</th>\n",
       "      <th>StatusRetired</th>\n",
       "      <th>170.260417</th>\n",
       "      <th>Success</th>\n",
       "      <td>1</td>\n",
       "    </tr>\n",
       "    <tr>\n",
       "      <th>Tue Dec 01, 1992 22:48 UTC</th>\n",
       "      <th>Ariane 42P | Superbird A1</th>\n",
       "      <th>StatusRetired</th>\n",
       "      <th>170.260417</th>\n",
       "      <th>Success</th>\n",
       "      <td>1</td>\n",
       "    </tr>\n",
       "    <tr>\n",
       "      <th>Tue Aug 29, 1995 06:41 UTC</th>\n",
       "      <th>Ariane 42P | N-Star A</th>\n",
       "      <th>StatusRetired</th>\n",
       "      <th>170.260417</th>\n",
       "      <th>Success</th>\n",
       "      <td>1</td>\n",
       "    </tr>\n",
       "    <tr>\n",
       "      <th>Tue Aug 25, 1998 23:07 UTC</th>\n",
       "      <th>Ariane 44P | ST-1</th>\n",
       "      <th>StatusRetired</th>\n",
       "      <th>170.260417</th>\n",
       "      <th>Success</th>\n",
       "      <td>1</td>\n",
       "    </tr>\n",
       "    <tr>\n",
       "      <th>Tue Aug 08, 1989 23:25 UTC</th>\n",
       "      <th>Ariane 44LP | TVSAT-2, Hipparcos</th>\n",
       "      <th>StatusRetired</th>\n",
       "      <th>170.260417</th>\n",
       "      <th>Success</th>\n",
       "      <td>1</td>\n",
       "    </tr>\n",
       "    <tr>\n",
       "      <th>Tue Apr 28, 1998 22:53 UTC</th>\n",
       "      <th>Ariane 44P | Nilesat-101, BSAT-1B</th>\n",
       "      <th>StatusRetired</th>\n",
       "      <th>170.260417</th>\n",
       "      <th>Success</th>\n",
       "      <td>1</td>\n",
       "    </tr>\n",
       "    <tr>\n",
       "      <th>Tue Apr 16, 2002 23:02 UTC</th>\n",
       "      <th>Ariane 44L | NSS-7</th>\n",
       "      <th>StatusRetired</th>\n",
       "      <th>170.260417</th>\n",
       "      <th>Success</th>\n",
       "      <td>1</td>\n",
       "    </tr>\n",
       "    <tr>\n",
       "      <th>Thu Sep 26, 1991 23:43 UTC</th>\n",
       "      <th>Ariane 44P | Anik E1</th>\n",
       "      <th>StatusRetired</th>\n",
       "      <th>170.260417</th>\n",
       "      <th>Success</th>\n",
       "      <td>1</td>\n",
       "    </tr>\n",
       "    <tr>\n",
       "      <th>Thu Sep 10, 1992 23:04 UTC</th>\n",
       "      <th>Ariane 44LP | Hispasat 1A, Satcom C3</th>\n",
       "      <th>StatusRetired</th>\n",
       "      <th>170.260417</th>\n",
       "      <th>Success</th>\n",
       "      <td>1</td>\n",
       "    </tr>\n",
       "    <tr>\n",
       "      <th>Thu Sep 08, 1988 23:00 UTC</th>\n",
       "      <th>Ariane 3 | GStar 5, SBS 5</th>\n",
       "      <th>StatusRetired</th>\n",
       "      <th>170.260417</th>\n",
       "      <th>Success</th>\n",
       "      <td>1</td>\n",
       "    </tr>\n",
       "    <tr>\n",
       "      <th>Thu Oct 19, 1995 00:28 UTC</th>\n",
       "      <th>Ariane 42L | Astra 1E</th>\n",
       "      <th>StatusRetired</th>\n",
       "      <th>170.260417</th>\n",
       "      <th>Success</th>\n",
       "      <td>1</td>\n",
       "    </tr>\n",
       "    <tr>\n",
       "      <th>Thu May 16, 1996 01:56 UTC</th>\n",
       "      <th>Ariane 44L | Palapa C2, AMOS-1</th>\n",
       "      <th>StatusRetired</th>\n",
       "      <th>170.260417</th>\n",
       "      <th>Success</th>\n",
       "      <td>1</td>\n",
       "    </tr>\n",
       "    <tr>\n",
       "      <th>Thu Mar 14, 1996 07:11 UTC</th>\n",
       "      <th>Ariane 44LP | Intelsat 707</th>\n",
       "      <th>StatusRetired</th>\n",
       "      <th>170.260417</th>\n",
       "      <th>Success</th>\n",
       "      <td>1</td>\n",
       "    </tr>\n",
       "    <tr>\n",
       "      <th>Thu Jul 22, 1993 22:58 UTC</th>\n",
       "      <th>Ariane 44L | Hispasat 1B, Insat-2B</th>\n",
       "      <th>StatusRetired</th>\n",
       "      <th>170.260417</th>\n",
       "      <th>Success</th>\n",
       "      <td>1</td>\n",
       "    </tr>\n",
       "    <tr>\n",
       "      <th>Thu Jul 09, 1992 22:42 UTC</th>\n",
       "      <th>Ariane 44L | Insat-2A, Eutelsat 2F4</th>\n",
       "      <th>StatusRetired</th>\n",
       "      <th>170.260417</th>\n",
       "      <th>Success</th>\n",
       "      <td>1</td>\n",
       "    </tr>\n",
       "    <tr>\n",
       "      <th>Thu Jan 30, 1997 22:04 UTC</th>\n",
       "      <th>Ariane 44L | GE-2, Nahuel 1A</th>\n",
       "      <th>StatusRetired</th>\n",
       "      <th>170.260417</th>\n",
       "      <th>Success</th>\n",
       "      <td>1</td>\n",
       "    </tr>\n",
       "    <tr>\n",
       "      <th>Thu Feb 22, 1990 23:17 UTC</th>\n",
       "      <th>Ariane 44L | Superbird-B, BS-2X</th>\n",
       "      <th>StatusRetired</th>\n",
       "      <th>170.260417</th>\n",
       "      <th>Failure</th>\n",
       "      <td>1</td>\n",
       "    </tr>\n",
       "    <tr>\n",
       "      <th>Thu Dec 01, 1994 22:57 UTC</th>\n",
       "      <th>Ariane 42P | Panamsat-3</th>\n",
       "      <th>StatusRetired</th>\n",
       "      <th>170.260417</th>\n",
       "      <th>Failure</th>\n",
       "      <td>1</td>\n",
       "    </tr>\n",
       "    <tr>\n",
       "      <th>Thu Aug 30, 2001 06:46 UTC</th>\n",
       "      <th>Ariane 44L | Intelsat 902</th>\n",
       "      <th>StatusRetired</th>\n",
       "      <th>170.260417</th>\n",
       "      <th>Success</th>\n",
       "      <td>1</td>\n",
       "    </tr>\n",
       "    <tr>\n",
       "      <th>Thu Aug 30, 1990 22:46 UTC</th>\n",
       "      <th>Ariane 44L | Skynet 4C, Eutelsat 2F1</th>\n",
       "      <th>StatusRetired</th>\n",
       "      <th>170.260417</th>\n",
       "      <th>Success</th>\n",
       "      <td>1</td>\n",
       "    </tr>\n",
       "    <tr>\n",
       "      <th>Thu Aug 17, 2000 23:16 UTC</th>\n",
       "      <th>Ariane 44LP | Brasilsat B4, Nilesat 102</th>\n",
       "      <th>StatusRetired</th>\n",
       "      <th>170.260417</th>\n",
       "      <th>Success</th>\n",
       "      <td>1</td>\n",
       "    </tr>\n",
       "    <tr>\n",
       "      <th>Thu Aug 12, 1999 22:52 UTC</th>\n",
       "      <th>Ariane 42P | Telkom-1</th>\n",
       "      <th>StatusRetired</th>\n",
       "      <th>170.260417</th>\n",
       "      <th>Success</th>\n",
       "      <td>1</td>\n",
       "    </tr>\n",
       "    <tr>\n",
       "      <th>Thu Aug 08, 1996 22:49 UTC</th>\n",
       "      <th>Ariane 44L | Italsat F2, Telecom 2D</th>\n",
       "      <th>StatusRetired</th>\n",
       "      <th>170.260417</th>\n",
       "      <th>Success</th>\n",
       "      <td>1</td>\n",
       "    </tr>\n",
       "  </tbody>\n",
       "</table>\n",
       "</div>"
      ],
      "text/plain": [
       "                                                                                                                                                                            0\n",
       "Organisation Location                                           Date                       Detail                                  Rocket_Status Price      Mission_Status   \n",
       "Arianespace  ELA-1, Guiana Space Centre, French Guiana, France  Fri Feb 08, 1985 23:22 UTC Ariane 3 | Arabsat-1A, Brasilsat-A1     StatusRetired 170.260417 Success         1\n",
       "                                                                Fri Jan 27, 1989 01:21 UTC Ariane 2 | Intelsat-5A 15               StatusRetired 170.260417 Success         1\n",
       "             ELV-1 (SLV), Guiana Space Centre, French Guiana... Fri Sep 16, 2016 01:43 UTC Vega | PeruSat-1 and SkySats 4-7        StatusActive  37.000000  Success         1\n",
       "             Site 31/6, Baikonur Cosmodrome, Kazakhstan         Thu Feb 06, 2020 21:42 UTC Soyuz 2.1b/Fregat | OneWeb #2           StatusActive  48.500000  Success         1\n",
       "                                                                Sat Mar 21, 2020 17:06 UTC Soyuz 2.1b/Fregat | OneWeb #3           StatusActive  48.500000  Success         1\n",
       "             ELV-1 (SLV), Guiana Space Centre, French Guiana... Wed Nov 21, 2018 01:42 UTC Vega | Mohammed VI-B                    StatusActive  37.000000  Success         1\n",
       "                                                                Wed Nov 08, 2017 01:42 UTC Vega | Mohammed VI-A                    StatusActive  37.000000  Success         1\n",
       "                                                                Wed May 23, 1984 01:33 UTC Ariane 1 | Spacenet F1                  StatusRetired 170.260417 Success         1\n",
       "                                                                Wed Feb 11, 2015 13:40 UTC Vega | IXV                              StatusActive  37.000000  Success         1\n",
       "                                                                Wed Aug 22, 2018 21:20 UTC Vega | ADM-Aeolus                       StatusActive  37.000000  Success         1\n",
       "                                                                Wed Aug 02, 2017 01:58 UTC Vega | OPSAT 3000 & VEN†æS              StatusActive  37.000000  Success         1\n",
       "                                                                Wed Apr 30, 2014 01:35 UTC Vega | KazEOSat-1                       StatusActive  37.000000  Success         1\n",
       "                                                                Tue May 07, 2013 02:06 UTC Vega | Proba-V, VNREDSat-1A & ESTCube-1 StatusActive  37.000000  Success         1\n",
       "                                                                Tue Mar 07, 2017 01:49 UTC Vega | Sentinel 2B                      StatusActive  37.000000  Success         1\n",
       "                                                                Tue Jun 23, 2015 01:51 UTC Vega | Sentinel-2A                      StatusActive  37.000000  Success         1\n",
       "                                                                Tue Jul 02, 1985 11:23 UTC Ariane 1 | Giotto                       StatusRetired 170.260417 Success         1\n",
       "                                                                Thu Jul 11, 2019 01:53 UTC Vega | Falcon Eye 1                     StatusActive  37.000000  Failure         1\n",
       "                                                                Thu Dec 03, 2015 04:04 UTC Vega | LISA Pathfinder                  StatusActive  37.000000  Success         1\n",
       "                                                                Sat Feb 22, 1986 01:44 UTC Ariane 1 | SPOT-1 & Viking              StatusRetired 170.260417 Success         1\n",
       "                                                                Mon Dec 05, 2016 13:51 UTC Vega | G??kt??rk-1A                     StatusActive  37.000000  Success         1\n",
       "                                                                Fri Mar 22, 2019 01:50 UTC Vega | PRISMA                           StatusActive  37.000000  Success         1\n",
       "             ELA-2, Guiana Space Centre, French Guiana, France  Tue Jun 03, 1997 23:20 UTC Ariane 44L | Inmarsat 3 F4, Insat 2D    StatusRetired 170.260417 Success         1\n",
       "                                                                Tue Jul 09, 1996 22:24 UTC Ariane 44L | Arabsat-2A, T??rksat 1C    StatusRetired 170.260417 Success         1\n",
       "                                                                Tue Jan 25, 2000 01:04 UTC Ariane 42L | Galaxy 10R                 StatusRetired 170.260417 Success         1\n",
       "                                                                Tue Jan 15, 1991 23:10 UTC Ariane 44L | Italsat-1, Eutelsat 2F2    StatusRetired 170.260417 Success         1\n",
       "                                                                Tue Dec 22, 1998 01:08 UTC Ariane 42L | Panamsat-6B                StatusRetired 170.260417 Success         1\n",
       "                                                                Tue Dec 17, 2002 23:04 UTC Ariane 44L | NSS-6                      StatusRetired 170.260417 Success         1\n",
       "                                                                Tue Dec 02, 1997 22:52 UTC Ariane 44P | JCSAT-5, Equator S         StatusRetired 170.260417 Success         1\n",
       "                                                                Tue Dec 01, 1992 22:48 UTC Ariane 42P | Superbird A1               StatusRetired 170.260417 Success         1\n",
       "                                                                Tue Aug 29, 1995 06:41 UTC Ariane 42P | N-Star A                   StatusRetired 170.260417 Success         1\n",
       "                                                                Tue Aug 25, 1998 23:07 UTC Ariane 44P | ST-1                       StatusRetired 170.260417 Success         1\n",
       "                                                                Tue Aug 08, 1989 23:25 UTC Ariane 44LP | TVSAT-2, Hipparcos        StatusRetired 170.260417 Success         1\n",
       "                                                                Tue Apr 28, 1998 22:53 UTC Ariane 44P | Nilesat-101, BSAT-1B       StatusRetired 170.260417 Success         1\n",
       "                                                                Tue Apr 16, 2002 23:02 UTC Ariane 44L | NSS-7                      StatusRetired 170.260417 Success         1\n",
       "                                                                Thu Sep 26, 1991 23:43 UTC Ariane 44P | Anik E1                    StatusRetired 170.260417 Success         1\n",
       "                                                                Thu Sep 10, 1992 23:04 UTC Ariane 44LP | Hispasat 1A, Satcom C3    StatusRetired 170.260417 Success         1\n",
       "                                                                Thu Sep 08, 1988 23:00 UTC Ariane 3 | GStar 5, SBS 5               StatusRetired 170.260417 Success         1\n",
       "                                                                Thu Oct 19, 1995 00:28 UTC Ariane 42L | Astra 1E                   StatusRetired 170.260417 Success         1\n",
       "                                                                Thu May 16, 1996 01:56 UTC Ariane 44L | Palapa C2, AMOS-1          StatusRetired 170.260417 Success         1\n",
       "                                                                Thu Mar 14, 1996 07:11 UTC Ariane 44LP | Intelsat 707              StatusRetired 170.260417 Success         1\n",
       "                                                                Thu Jul 22, 1993 22:58 UTC Ariane 44L | Hispasat 1B, Insat-2B      StatusRetired 170.260417 Success         1\n",
       "                                                                Thu Jul 09, 1992 22:42 UTC Ariane 44L | Insat-2A, Eutelsat 2F4     StatusRetired 170.260417 Success         1\n",
       "                                                                Thu Jan 30, 1997 22:04 UTC Ariane 44L | GE-2, Nahuel 1A            StatusRetired 170.260417 Success         1\n",
       "                                                                Thu Feb 22, 1990 23:17 UTC Ariane 44L | Superbird-B, BS-2X         StatusRetired 170.260417 Failure         1\n",
       "                                                                Thu Dec 01, 1994 22:57 UTC Ariane 42P | Panamsat-3                 StatusRetired 170.260417 Failure         1\n",
       "                                                                Thu Aug 30, 2001 06:46 UTC Ariane 44L | Intelsat 902               StatusRetired 170.260417 Success         1\n",
       "                                                                Thu Aug 30, 1990 22:46 UTC Ariane 44L | Skynet 4C, Eutelsat 2F1    StatusRetired 170.260417 Success         1\n",
       "                                                                Thu Aug 17, 2000 23:16 UTC Ariane 44LP | Brasilsat B4, Nilesat 102 StatusRetired 170.260417 Success         1\n",
       "                                                                Thu Aug 12, 1999 22:52 UTC Ariane 42P | Telkom-1                   StatusRetired 170.260417 Success         1\n",
       "                                                                Thu Aug 08, 1996 22:49 UTC Ariane 44L | Italsat F2, Telecom 2D     StatusRetired 170.260417 Success         1"
      ]
     },
     "execution_count": 15,
     "metadata": {},
     "output_type": "execute_result"
    }
   ],
   "source": [
    "# which org launched most missions and the mission details\n",
    "missions_count_df = pd.DataFrame(df.groupby(\"Organisation\").value_counts())\n",
    "missions_count_df.head(50)"
   ]
  },
  {
   "cell_type": "code",
   "execution_count": 26,
   "id": "b37c6702",
   "metadata": {},
   "outputs": [
    {
     "data": {
      "text/html": [
       "<div>\n",
       "<style scoped>\n",
       "    .dataframe tbody tr th:only-of-type {\n",
       "        vertical-align: middle;\n",
       "    }\n",
       "\n",
       "    .dataframe tbody tr th {\n",
       "        vertical-align: top;\n",
       "    }\n",
       "\n",
       "    .dataframe thead th {\n",
       "        text-align: right;\n",
       "    }\n",
       "</style>\n",
       "<table border=\"1\" class=\"dataframe\">\n",
       "  <thead>\n",
       "    <tr style=\"text-align: right;\">\n",
       "      <th></th>\n",
       "      <th>Organisation</th>\n",
       "      <th>Location</th>\n",
       "      <th>Date</th>\n",
       "      <th>Detail</th>\n",
       "      <th>Rocket_Status</th>\n",
       "      <th>Price</th>\n",
       "      <th>Mission_Status</th>\n",
       "    </tr>\n",
       "  </thead>\n",
       "  <tbody>\n",
       "    <tr>\n",
       "      <th>13</th>\n",
       "      <td>IAI</td>\n",
       "      <td>Pad 1, Palmachim Airbase, Israel</td>\n",
       "      <td>Mon Jul 06, 2020 01:00 UTC</td>\n",
       "      <td>Shavit-2 | Ofek-16</td>\n",
       "      <td>StatusActive</td>\n",
       "      <td>NaN</td>\n",
       "      <td>Success</td>\n",
       "    </tr>\n",
       "    <tr>\n",
       "      <th>35</th>\n",
       "      <td>IRGC</td>\n",
       "      <td>Launch Plateform, Shahrud Missile Test Site</td>\n",
       "      <td>Wed Apr 22, 2020 03:59 UTC</td>\n",
       "      <td>Qased | Noor 1</td>\n",
       "      <td>StatusActive</td>\n",
       "      <td>NaN</td>\n",
       "      <td>Success</td>\n",
       "    </tr>\n",
       "    <tr>\n",
       "      <th>52</th>\n",
       "      <td>ISA</td>\n",
       "      <td>Imam Khomeini Spaceport, Semnan Space Center, ...</td>\n",
       "      <td>Sun Feb 09, 2020 15:48 UTC</td>\n",
       "      <td>Simorgh | Zafar 1</td>\n",
       "      <td>StatusActive</td>\n",
       "      <td>NaN</td>\n",
       "      <td>Failure</td>\n",
       "    </tr>\n",
       "    <tr>\n",
       "      <th>71</th>\n",
       "      <td>Blue Origin</td>\n",
       "      <td>Blue Origin Launch Site, West Texas, Texas, USA</td>\n",
       "      <td>Wed Dec 11, 2019 17:55 UTC</td>\n",
       "      <td>New Shepard | NS-12</td>\n",
       "      <td>StatusActive</td>\n",
       "      <td>NaN</td>\n",
       "      <td>Success</td>\n",
       "    </tr>\n",
       "    <tr>\n",
       "      <th>91</th>\n",
       "      <td>Exos</td>\n",
       "      <td>Vertical Launch Area, Spaceport America, New M...</td>\n",
       "      <td>Sat Oct 26, 2019 17:40 UTC</td>\n",
       "      <td>SARGE | Launch 4</td>\n",
       "      <td>StatusActive</td>\n",
       "      <td>NaN</td>\n",
       "      <td>Failure</td>\n",
       "    </tr>\n",
       "    <tr>\n",
       "      <th>...</th>\n",
       "      <td>...</td>\n",
       "      <td>...</td>\n",
       "      <td>...</td>\n",
       "      <td>...</td>\n",
       "      <td>...</td>\n",
       "      <td>...</td>\n",
       "      <td>...</td>\n",
       "    </tr>\n",
       "    <tr>\n",
       "      <th>4319</th>\n",
       "      <td>US Navy</td>\n",
       "      <td>LC-18A, Cape Canaveral AFS, Florida, USA</td>\n",
       "      <td>Wed Feb 05, 1958 07:33 UTC</td>\n",
       "      <td>Vanguard | Vanguard TV3BU</td>\n",
       "      <td>StatusRetired</td>\n",
       "      <td>NaN</td>\n",
       "      <td>Failure</td>\n",
       "    </tr>\n",
       "    <tr>\n",
       "      <th>4320</th>\n",
       "      <td>AMBA</td>\n",
       "      <td>LC-26A, Cape Canaveral AFS, Florida, USA</td>\n",
       "      <td>Sat Feb 01, 1958 03:48 UTC</td>\n",
       "      <td>Juno I | Explorer 1</td>\n",
       "      <td>StatusRetired</td>\n",
       "      <td>NaN</td>\n",
       "      <td>Success</td>\n",
       "    </tr>\n",
       "    <tr>\n",
       "      <th>4321</th>\n",
       "      <td>US Navy</td>\n",
       "      <td>LC-18A, Cape Canaveral AFS, Florida, USA</td>\n",
       "      <td>Fri Dec 06, 1957 16:44 UTC</td>\n",
       "      <td>Vanguard | Vanguard TV3</td>\n",
       "      <td>StatusRetired</td>\n",
       "      <td>NaN</td>\n",
       "      <td>Failure</td>\n",
       "    </tr>\n",
       "    <tr>\n",
       "      <th>4322</th>\n",
       "      <td>RVSN USSR</td>\n",
       "      <td>Site 1/5, Baikonur Cosmodrome, Kazakhstan</td>\n",
       "      <td>Sun Nov 03, 1957 02:30 UTC</td>\n",
       "      <td>Sputnik 8K71PS | Sputnik-2</td>\n",
       "      <td>StatusRetired</td>\n",
       "      <td>NaN</td>\n",
       "      <td>Success</td>\n",
       "    </tr>\n",
       "    <tr>\n",
       "      <th>4323</th>\n",
       "      <td>RVSN USSR</td>\n",
       "      <td>Site 1/5, Baikonur Cosmodrome, Kazakhstan</td>\n",
       "      <td>Fri Oct 04, 1957 19:28 UTC</td>\n",
       "      <td>Sputnik 8K71PS | Sputnik-1</td>\n",
       "      <td>StatusRetired</td>\n",
       "      <td>NaN</td>\n",
       "      <td>Success</td>\n",
       "    </tr>\n",
       "  </tbody>\n",
       "</table>\n",
       "<p>2235 rows × 7 columns</p>\n",
       "</div>"
      ],
      "text/plain": [
       "     Organisation                                           Location  \\\n",
       "13            IAI                   Pad 1, Palmachim Airbase, Israel   \n",
       "35           IRGC        Launch Plateform, Shahrud Missile Test Site   \n",
       "52            ISA  Imam Khomeini Spaceport, Semnan Space Center, ...   \n",
       "71    Blue Origin    Blue Origin Launch Site, West Texas, Texas, USA   \n",
       "91           Exos  Vertical Launch Area, Spaceport America, New M...   \n",
       "...           ...                                                ...   \n",
       "4319      US Navy           LC-18A, Cape Canaveral AFS, Florida, USA   \n",
       "4320         AMBA           LC-26A, Cape Canaveral AFS, Florida, USA   \n",
       "4321      US Navy           LC-18A, Cape Canaveral AFS, Florida, USA   \n",
       "4322    RVSN USSR          Site 1/5, Baikonur Cosmodrome, Kazakhstan   \n",
       "4323    RVSN USSR          Site 1/5, Baikonur Cosmodrome, Kazakhstan   \n",
       "\n",
       "                            Date                      Detail  Rocket_Status  \\\n",
       "13    Mon Jul 06, 2020 01:00 UTC          Shavit-2 | Ofek-16   StatusActive   \n",
       "35    Wed Apr 22, 2020 03:59 UTC              Qased | Noor 1   StatusActive   \n",
       "52    Sun Feb 09, 2020 15:48 UTC           Simorgh | Zafar 1   StatusActive   \n",
       "71    Wed Dec 11, 2019 17:55 UTC         New Shepard | NS-12   StatusActive   \n",
       "91    Sat Oct 26, 2019 17:40 UTC            SARGE | Launch 4   StatusActive   \n",
       "...                          ...                         ...            ...   \n",
       "4319  Wed Feb 05, 1958 07:33 UTC   Vanguard | Vanguard TV3BU  StatusRetired   \n",
       "4320  Sat Feb 01, 1958 03:48 UTC         Juno I | Explorer 1  StatusRetired   \n",
       "4321  Fri Dec 06, 1957 16:44 UTC     Vanguard | Vanguard TV3  StatusRetired   \n",
       "4322  Sun Nov 03, 1957 02:30 UTC  Sputnik 8K71PS | Sputnik-2  StatusRetired   \n",
       "4323  Fri Oct 04, 1957 19:28 UTC  Sputnik 8K71PS | Sputnik-1  StatusRetired   \n",
       "\n",
       "      Price Mission_Status  \n",
       "13      NaN        Success  \n",
       "35      NaN        Success  \n",
       "52      NaN        Failure  \n",
       "71      NaN        Success  \n",
       "91      NaN        Failure  \n",
       "...     ...            ...  \n",
       "4319    NaN        Failure  \n",
       "4320    NaN        Success  \n",
       "4321    NaN        Failure  \n",
       "4322    NaN        Success  \n",
       "4323    NaN        Success  \n",
       "\n",
       "[2235 rows x 7 columns]"
      ]
     },
     "execution_count": 26,
     "metadata": {},
     "output_type": "execute_result"
    }
   ],
   "source": [
    "null_price_rows = df[df['Price'].isna()]\n",
    "null_price_rows"
   ]
  },
  {
   "cell_type": "code",
   "execution_count": 29,
   "id": "1d9f0a7c",
   "metadata": {},
   "outputs": [],
   "source": [
    "# Fill missing prices with the average price of that organisation's missions\n",
    "df['Price'].fillna(0, inplace=True)"
   ]
  },
  {
   "cell_type": "code",
   "execution_count": 30,
   "id": "5aa644c9",
   "metadata": {},
   "outputs": [
    {
     "name": "stdout",
     "output_type": "stream",
     "text": [
      "<class 'pandas.core.frame.DataFrame'>\n",
      "RangeIndex: 4324 entries, 0 to 4323\n",
      "Data columns (total 7 columns):\n",
      " #   Column          Non-Null Count  Dtype  \n",
      "---  ------          --------------  -----  \n",
      " 0   Organisation    4324 non-null   object \n",
      " 1   Location        4324 non-null   object \n",
      " 2   Date            4324 non-null   object \n",
      " 3   Detail          4324 non-null   object \n",
      " 4   Rocket_Status   4324 non-null   object \n",
      " 5   Price           4324 non-null   float64\n",
      " 6   Mission_Status  4324 non-null   object \n",
      "dtypes: float64(1), object(6)\n",
      "memory usage: 236.6+ KB\n"
     ]
    }
   ],
   "source": [
    "df.info()"
   ]
  },
  {
   "cell_type": "code",
   "execution_count": 31,
   "id": "cc744c86",
   "metadata": {},
   "outputs": [
    {
     "data": {
      "text/html": [
       "<div>\n",
       "<style scoped>\n",
       "    .dataframe tbody tr th:only-of-type {\n",
       "        vertical-align: middle;\n",
       "    }\n",
       "\n",
       "    .dataframe tbody tr th {\n",
       "        vertical-align: top;\n",
       "    }\n",
       "\n",
       "    .dataframe thead th {\n",
       "        text-align: right;\n",
       "    }\n",
       "</style>\n",
       "<table border=\"1\" class=\"dataframe\">\n",
       "  <thead>\n",
       "    <tr style=\"text-align: right;\">\n",
       "      <th></th>\n",
       "      <th>Organisation</th>\n",
       "      <th>Location</th>\n",
       "      <th>Date</th>\n",
       "      <th>Detail</th>\n",
       "      <th>Rocket_Status</th>\n",
       "      <th>Price</th>\n",
       "      <th>Mission_Status</th>\n",
       "    </tr>\n",
       "  </thead>\n",
       "  <tbody>\n",
       "  </tbody>\n",
       "</table>\n",
       "</div>"
      ],
      "text/plain": [
       "Empty DataFrame\n",
       "Columns: [Organisation, Location, Date, Detail, Rocket_Status, Price, Mission_Status]\n",
       "Index: []"
      ]
     },
     "execution_count": 31,
     "metadata": {},
     "output_type": "execute_result"
    }
   ],
   "source": [
    "null_price_rows = df[df['Price'].isna()]\n",
    "null_price_rows"
   ]
  },
  {
   "cell_type": "code",
   "execution_count": 32,
   "id": "6c820658",
   "metadata": {},
   "outputs": [
    {
     "name": "stdout",
     "output_type": "stream",
     "text": [
      "RVSN USSR           1777\n",
      "Arianespace          279\n",
      "CASC                 251\n",
      "General Dynamics     251\n",
      "NASA                 203\n",
      "VKS RF               201\n",
      "US Air Force         161\n",
      "ULA                  140\n",
      "Boeing               136\n",
      "Martin Marietta      114\n",
      "SpaceX               100\n",
      "MHI                   84\n",
      "Northrop              83\n",
      "Lockheed              79\n",
      "ISRO                  76\n",
      "Roscosmos             55\n",
      "ILS                   46\n",
      "Sea Launch            36\n",
      "ISAS                  30\n",
      "Kosmotras             22\n",
      "US Navy               17\n",
      "ISA                   13\n",
      "Rocket Lab            13\n",
      "Eurockot              13\n",
      "ESA                   13\n",
      "Blue Origin           12\n",
      "IAI                   11\n",
      "ExPace                10\n",
      "ASI                    9\n",
      "CNES                   8\n",
      "AMBA                   8\n",
      "MITT                   7\n",
      "JAXA                   7\n",
      "Land Launch            7\n",
      "UT                     5\n",
      "KCST                   5\n",
      "CASIC                  5\n",
      "Exos                   4\n",
      "CECLES                 4\n",
      "Arm??e de l'Air        4\n",
      "KARI                   3\n",
      "SRC                    3\n",
      "AEB                    3\n",
      "RAE                    2\n",
      "OKB-586                2\n",
      "Yuzhmash               2\n",
      "Landspace              1\n",
      "Douglas                1\n",
      "EER                    1\n",
      "Starsem                1\n",
      "Virgin Orbit           1\n",
      "IRGC                   1\n",
      "i-Space                1\n",
      "OneSpace               1\n",
      "Sandia                 1\n",
      "Khrunichev             1\n",
      "Name: Organisation, dtype: int64\n",
      "max missions are lauched by: RVSN USSR\n"
     ]
    }
   ],
   "source": [
    "#total missions each org has launched\n",
    "total_mission_counts= df[\"Organisation\"].value_counts()\n",
    "\n",
    "mx_mission_org = total_mission_counts.idxmax()\n",
    "print(total_mission_counts)\n",
    "print(f\"max missions are lauched by: {mx_mission_org}\")"
   ]
  },
  {
   "cell_type": "code",
   "execution_count": 33,
   "id": "53e4033d",
   "metadata": {},
   "outputs": [
    {
     "name": "stdout",
     "output_type": "stream",
     "text": [
      "Maximum total cost of a mission : Price    91350.0\n",
      "dtype: float64\n",
      "\n",
      "Org with max total cost : Price    NASA\n",
      "dtype: object\n"
     ]
    }
   ],
   "source": [
    "mission_cost_per_org = df.groupby(\"Organisation\")[\"Price\"].sum()\n",
    "total_price_df = pd.DataFrame(mission_cost_per_org)\n",
    "\n",
    "\n",
    "print(f\"Maximum total cost of a mission : {total_price_df.max()}\\n\")\n",
    "print(f\"Org with max total cost : {total_price_df.idxmax()}\")"
   ]
  },
  {
   "cell_type": "code",
   "execution_count": 34,
   "id": "38f693bb",
   "metadata": {},
   "outputs": [
    {
     "data": {
      "text/html": [
       "<div>\n",
       "<style scoped>\n",
       "    .dataframe tbody tr th:only-of-type {\n",
       "        vertical-align: middle;\n",
       "    }\n",
       "\n",
       "    .dataframe tbody tr th {\n",
       "        vertical-align: top;\n",
       "    }\n",
       "\n",
       "    .dataframe thead th {\n",
       "        text-align: right;\n",
       "    }\n",
       "</style>\n",
       "<table border=\"1\" class=\"dataframe\">\n",
       "  <thead>\n",
       "    <tr style=\"text-align: right;\">\n",
       "      <th></th>\n",
       "      <th></th>\n",
       "      <th>Mission_Status</th>\n",
       "    </tr>\n",
       "    <tr>\n",
       "      <th>Organisation</th>\n",
       "      <th>Mission_Status</th>\n",
       "      <th></th>\n",
       "    </tr>\n",
       "  </thead>\n",
       "  <tbody>\n",
       "    <tr>\n",
       "      <th rowspan=\"2\" valign=\"top\">AEB</th>\n",
       "      <th>Failure</th>\n",
       "      <td>2</td>\n",
       "    </tr>\n",
       "    <tr>\n",
       "      <th>Prelaunch Failure</th>\n",
       "      <td>1</td>\n",
       "    </tr>\n",
       "    <tr>\n",
       "      <th rowspan=\"3\" valign=\"top\">AMBA</th>\n",
       "      <th>Success</th>\n",
       "      <td>4</td>\n",
       "    </tr>\n",
       "    <tr>\n",
       "      <th>Failure</th>\n",
       "      <td>3</td>\n",
       "    </tr>\n",
       "    <tr>\n",
       "      <th>Partial Failure</th>\n",
       "      <td>1</td>\n",
       "    </tr>\n",
       "    <tr>\n",
       "      <th>...</th>\n",
       "      <th>...</th>\n",
       "      <td>...</td>\n",
       "    </tr>\n",
       "    <tr>\n",
       "      <th rowspan=\"2\" valign=\"top\">VKS RF</th>\n",
       "      <th>Failure</th>\n",
       "      <td>7</td>\n",
       "    </tr>\n",
       "    <tr>\n",
       "      <th>Partial Failure</th>\n",
       "      <td>6</td>\n",
       "    </tr>\n",
       "    <tr>\n",
       "      <th>Virgin Orbit</th>\n",
       "      <th>Failure</th>\n",
       "      <td>1</td>\n",
       "    </tr>\n",
       "    <tr>\n",
       "      <th>Yuzhmash</th>\n",
       "      <th>Success</th>\n",
       "      <td>2</td>\n",
       "    </tr>\n",
       "    <tr>\n",
       "      <th>i-Space</th>\n",
       "      <th>Success</th>\n",
       "      <td>1</td>\n",
       "    </tr>\n",
       "  </tbody>\n",
       "</table>\n",
       "<p>119 rows × 1 columns</p>\n",
       "</div>"
      ],
      "text/plain": [
       "                                Mission_Status\n",
       "Organisation Mission_Status                   \n",
       "AEB          Failure                         2\n",
       "             Prelaunch Failure               1\n",
       "AMBA         Success                         4\n",
       "             Failure                         3\n",
       "             Partial Failure                 1\n",
       "...                                        ...\n",
       "VKS RF       Failure                         7\n",
       "             Partial Failure                 6\n",
       "Virgin Orbit Failure                         1\n",
       "Yuzhmash     Success                         2\n",
       "i-Space      Success                         1\n",
       "\n",
       "[119 rows x 1 columns]"
      ]
     },
     "execution_count": 34,
     "metadata": {},
     "output_type": "execute_result"
    }
   ],
   "source": [
    "success_fail_count = df.groupby(\"Organisation\")[\"Mission_Status\"].value_counts()\n",
    "mission_stat = pd.DataFrame(success_fail_count)\n",
    "\n",
    "mission_stat"
   ]
  },
  {
   "cell_type": "code",
   "execution_count": 35,
   "id": "2b1624a1",
   "metadata": {},
   "outputs": [
    {
     "name": "stdout",
     "output_type": "stream",
     "text": [
      "Org with max successful missions: RVSN USSR\n"
     ]
    }
   ],
   "source": [
    "success_count = df[df['Mission_Status'] == 'Success'].groupby(\"Organisation\")[\"Mission_Status\"].count()\n",
    "mx_success = success_count.idxmax()\n",
    "\n",
    "print(f\"Org with max successful missions: {mx_success}\")"
   ]
  },
  {
   "cell_type": "code",
   "execution_count": 38,
   "id": "a31cbaf2",
   "metadata": {},
   "outputs": [
    {
     "name": "stdout",
     "output_type": "stream",
     "text": [
      "Enter an org name here: SpaceX\n"
     ]
    },
    {
     "data": {
      "text/html": [
       "<div>\n",
       "<style scoped>\n",
       "    .dataframe tbody tr th:only-of-type {\n",
       "        vertical-align: middle;\n",
       "    }\n",
       "\n",
       "    .dataframe tbody tr th {\n",
       "        vertical-align: top;\n",
       "    }\n",
       "\n",
       "    .dataframe thead th {\n",
       "        text-align: right;\n",
       "    }\n",
       "</style>\n",
       "<table border=\"1\" class=\"dataframe\">\n",
       "  <thead>\n",
       "    <tr style=\"text-align: right;\">\n",
       "      <th></th>\n",
       "      <th>Organisation</th>\n",
       "      <th>Location</th>\n",
       "      <th>Date</th>\n",
       "      <th>Detail</th>\n",
       "      <th>Rocket_Status</th>\n",
       "      <th>Price</th>\n",
       "      <th>Mission_Status</th>\n",
       "    </tr>\n",
       "  </thead>\n",
       "  <tbody>\n",
       "    <tr>\n",
       "      <th>0</th>\n",
       "      <td>SpaceX</td>\n",
       "      <td>LC-39A, Kennedy Space Center, Florida, USA</td>\n",
       "      <td>Fri Aug 07, 2020 05:12 UTC</td>\n",
       "      <td>Falcon 9 Block 5 | Starlink V1 L9 &amp; BlackSky</td>\n",
       "      <td>StatusActive</td>\n",
       "      <td>50.000000</td>\n",
       "      <td>Success</td>\n",
       "    </tr>\n",
       "    <tr>\n",
       "      <th>2</th>\n",
       "      <td>SpaceX</td>\n",
       "      <td>Pad A, Boca Chica, Texas, USA</td>\n",
       "      <td>Tue Aug 04, 2020 23:57 UTC</td>\n",
       "      <td>Starship Prototype | 150 Meter Hop</td>\n",
       "      <td>StatusActive</td>\n",
       "      <td>54.989899</td>\n",
       "      <td>Success</td>\n",
       "    </tr>\n",
       "    <tr>\n",
       "      <th>8</th>\n",
       "      <td>SpaceX</td>\n",
       "      <td>SLC-40, Cape Canaveral AFS, Florida, USA</td>\n",
       "      <td>Mon Jul 20, 2020 21:30 UTC</td>\n",
       "      <td>Falcon 9 Block 5 | ANASIS-II</td>\n",
       "      <td>StatusActive</td>\n",
       "      <td>50.000000</td>\n",
       "      <td>Success</td>\n",
       "    </tr>\n",
       "    <tr>\n",
       "      <th>17</th>\n",
       "      <td>SpaceX</td>\n",
       "      <td>SLC-40, Cape Canaveral AFS, Florida, USA</td>\n",
       "      <td>Tue Jun 30, 2020 20:10 UTC</td>\n",
       "      <td>Falcon 9 Block 5 | GPS III SV03</td>\n",
       "      <td>StatusActive</td>\n",
       "      <td>50.000000</td>\n",
       "      <td>Success</td>\n",
       "    </tr>\n",
       "    <tr>\n",
       "      <th>20</th>\n",
       "      <td>SpaceX</td>\n",
       "      <td>SLC-40, Cape Canaveral AFS, Florida, USA</td>\n",
       "      <td>Sat Jun 13, 2020 09:21 UTC</td>\n",
       "      <td>Falcon 9 Block 5 | Starlink V1 L8 &amp; SkySat 16 ...</td>\n",
       "      <td>StatusActive</td>\n",
       "      <td>50.000000</td>\n",
       "      <td>Success</td>\n",
       "    </tr>\n",
       "    <tr>\n",
       "      <th>...</th>\n",
       "      <td>...</td>\n",
       "      <td>...</td>\n",
       "      <td>...</td>\n",
       "      <td>...</td>\n",
       "      <td>...</td>\n",
       "      <td>...</td>\n",
       "      <td>...</td>\n",
       "    </tr>\n",
       "    <tr>\n",
       "      <th>763</th>\n",
       "      <td>SpaceX</td>\n",
       "      <td>Omelek Island, Ronald Reagan Ballistic Missile...</td>\n",
       "      <td>Tue Jul 14, 2009 03:35 UTC</td>\n",
       "      <td>Falcon 1 | RazakSat</td>\n",
       "      <td>StatusRetired</td>\n",
       "      <td>7.000000</td>\n",
       "      <td>Success</td>\n",
       "    </tr>\n",
       "    <tr>\n",
       "      <th>800</th>\n",
       "      <td>SpaceX</td>\n",
       "      <td>Omelek Island, Ronald Reagan Ballistic Missile...</td>\n",
       "      <td>Sun Sep 28, 2008 23:15 UTC</td>\n",
       "      <td>Falcon 1 | RatSat</td>\n",
       "      <td>StatusRetired</td>\n",
       "      <td>7.000000</td>\n",
       "      <td>Success</td>\n",
       "    </tr>\n",
       "    <tr>\n",
       "      <th>808</th>\n",
       "      <td>SpaceX</td>\n",
       "      <td>Omelek Island, Ronald Reagan Ballistic Missile...</td>\n",
       "      <td>Sun Aug 03, 2008 03:34 UTC</td>\n",
       "      <td>Falcon 1 | Flight 3</td>\n",
       "      <td>StatusRetired</td>\n",
       "      <td>7.000000</td>\n",
       "      <td>Failure</td>\n",
       "    </tr>\n",
       "    <tr>\n",
       "      <th>879</th>\n",
       "      <td>SpaceX</td>\n",
       "      <td>Omelek Island, Ronald Reagan Ballistic Missile...</td>\n",
       "      <td>Wed Mar 21, 2007 01:10 UTC</td>\n",
       "      <td>Falcon 1 | DemoSat</td>\n",
       "      <td>StatusRetired</td>\n",
       "      <td>7.000000</td>\n",
       "      <td>Failure</td>\n",
       "    </tr>\n",
       "    <tr>\n",
       "      <th>929</th>\n",
       "      <td>SpaceX</td>\n",
       "      <td>Omelek Island, Ronald Reagan Ballistic Missile...</td>\n",
       "      <td>Fri Mar 24, 2006 21:30 UTC</td>\n",
       "      <td>Falcon 1 | FalconSat-2</td>\n",
       "      <td>StatusRetired</td>\n",
       "      <td>7.000000</td>\n",
       "      <td>Failure</td>\n",
       "    </tr>\n",
       "  </tbody>\n",
       "</table>\n",
       "<p>100 rows × 7 columns</p>\n",
       "</div>"
      ],
      "text/plain": [
       "    Organisation                                           Location  \\\n",
       "0         SpaceX         LC-39A, Kennedy Space Center, Florida, USA   \n",
       "2         SpaceX                      Pad A, Boca Chica, Texas, USA   \n",
       "8         SpaceX           SLC-40, Cape Canaveral AFS, Florida, USA   \n",
       "17        SpaceX           SLC-40, Cape Canaveral AFS, Florida, USA   \n",
       "20        SpaceX           SLC-40, Cape Canaveral AFS, Florida, USA   \n",
       "..           ...                                                ...   \n",
       "763       SpaceX  Omelek Island, Ronald Reagan Ballistic Missile...   \n",
       "800       SpaceX  Omelek Island, Ronald Reagan Ballistic Missile...   \n",
       "808       SpaceX  Omelek Island, Ronald Reagan Ballistic Missile...   \n",
       "879       SpaceX  Omelek Island, Ronald Reagan Ballistic Missile...   \n",
       "929       SpaceX  Omelek Island, Ronald Reagan Ballistic Missile...   \n",
       "\n",
       "                           Date  \\\n",
       "0    Fri Aug 07, 2020 05:12 UTC   \n",
       "2    Tue Aug 04, 2020 23:57 UTC   \n",
       "8    Mon Jul 20, 2020 21:30 UTC   \n",
       "17   Tue Jun 30, 2020 20:10 UTC   \n",
       "20   Sat Jun 13, 2020 09:21 UTC   \n",
       "..                          ...   \n",
       "763  Tue Jul 14, 2009 03:35 UTC   \n",
       "800  Sun Sep 28, 2008 23:15 UTC   \n",
       "808  Sun Aug 03, 2008 03:34 UTC   \n",
       "879  Wed Mar 21, 2007 01:10 UTC   \n",
       "929  Fri Mar 24, 2006 21:30 UTC   \n",
       "\n",
       "                                                Detail  Rocket_Status  \\\n",
       "0         Falcon 9 Block 5 | Starlink V1 L9 & BlackSky   StatusActive   \n",
       "2                   Starship Prototype | 150 Meter Hop   StatusActive   \n",
       "8                         Falcon 9 Block 5 | ANASIS-II   StatusActive   \n",
       "17                     Falcon 9 Block 5 | GPS III SV03   StatusActive   \n",
       "20   Falcon 9 Block 5 | Starlink V1 L8 & SkySat 16 ...   StatusActive   \n",
       "..                                                 ...            ...   \n",
       "763                                Falcon 1 | RazakSat  StatusRetired   \n",
       "800                                  Falcon 1 | RatSat  StatusRetired   \n",
       "808                                Falcon 1 | Flight 3  StatusRetired   \n",
       "879                                 Falcon 1 | DemoSat  StatusRetired   \n",
       "929                             Falcon 1 | FalconSat-2  StatusRetired   \n",
       "\n",
       "         Price Mission_Status  \n",
       "0    50.000000        Success  \n",
       "2    54.989899        Success  \n",
       "8    50.000000        Success  \n",
       "17   50.000000        Success  \n",
       "20   50.000000        Success  \n",
       "..         ...            ...  \n",
       "763   7.000000        Success  \n",
       "800   7.000000        Success  \n",
       "808   7.000000        Failure  \n",
       "879   7.000000        Failure  \n",
       "929   7.000000        Failure  \n",
       "\n",
       "[100 rows x 7 columns]"
      ]
     },
     "execution_count": 38,
     "metadata": {},
     "output_type": "execute_result"
    }
   ],
   "source": [
    "org_name = input(\"Enter an org name here: \")\n",
    "\n",
    "org_data = df[df[\"Organisation\"] == org_name]\n",
    "org_data"
   ]
  },
  {
   "cell_type": "code",
   "execution_count": 39,
   "id": "d7d2d30a",
   "metadata": {},
   "outputs": [
    {
     "data": {
      "application/vnd.plotly.v1+json": {
       "config": {
        "plotlyServerURL": "https://plot.ly"
       },
       "data": [
        {
         "hovertemplate": "Date=%{x}<br>Price=%{y}<extra></extra>",
         "legendgroup": "",
         "line": {
          "color": "#636efa",
          "dash": "solid"
         },
         "marker": {
          "symbol": "circle"
         },
         "mode": "lines",
         "name": "",
         "orientation": "v",
         "showlegend": false,
         "type": "scatter",
         "x": [
          "Fri Aug 07, 2020 05:12 UTC",
          "Tue Aug 04, 2020 23:57 UTC",
          "Mon Jul 20, 2020 21:30 UTC",
          "Tue Jun 30, 2020 20:10 UTC",
          "Sat Jun 13, 2020 09:21 UTC",
          "Thu Jun 04, 2020 01:25 UTC",
          "Sat May 30, 2020 19:22 UTC",
          "Wed Apr 22, 2020 19:30 UTC",
          "Wed Mar 18, 2020 12:16 UTC",
          "Sat Mar 07, 2020 04:50 UTC",
          "Mon Feb 17, 2020 15:05 UTC",
          "Wed Jan 29, 2020 14:06 UTC",
          "Sun Jan 19, 2020 15:30 UTC",
          "Tue Jan 07, 2020 02:19 UTC",
          "Tue Dec 17, 2019 00:10 UTC",
          "Thu Dec 05, 2019 17:29 UTC",
          "Mon Nov 11, 2019 14:56 UTC",
          "Tue Aug 06, 2019 23:23 UTC",
          "Thu Jul 25, 2019 22:01 UTC",
          "Tue Jun 25, 2019 06:30 UTC",
          "Wed Jun 12, 2019 14:17 UTC",
          "Fri May 24, 2019 02:30 UTC",
          "Sat May 04, 2019 06:48 UTC",
          "Thu Apr 11, 2019 22:35 UTC",
          "Sat Mar 02, 2019 07:49 UTC",
          "Fri Feb 22, 2019 01:45 UTC",
          "Fri Jan 11, 2019 15:31 UTC",
          "Sun Dec 23, 2018 13:51 UTC",
          "Wed Dec 05, 2018 18:16 UTC",
          "Mon Dec 03, 2018 18:34 UTC",
          "Thu Nov 15, 2018 20:46 UTC",
          "Mon Oct 08, 2018 02:21 UTC",
          "Mon Sep 10, 2018 04:45 UTC",
          "Tue Aug 07, 2018 05:18 UTC",
          "Wed Jul 25, 2018 11:39 UTC",
          "Sun Jul 22, 2018 05:50 UTC",
          "Fri Jun 29, 2018 09:42 UTC",
          "Mon Jun 04, 2018 04:29 UTC",
          "Tue May 22, 2018 19:47 UTC",
          "Fri May 11, 2018 20:14 UTC",
          "Wed Apr 18, 2018 22:51 UTC",
          "Mon Apr 02, 2018 20:30 UTC",
          "Fri Mar 30, 2018 14:14 UTC",
          "Tue Mar 06, 2018 05:33 UTC",
          "Thu Feb 22, 2018 14:17 UTC",
          "Tue Feb 06, 2018 20:45 UTC",
          "Wed Jan 31, 2018 21:25 UTC",
          "Mon Jan 08, 2018 01:00 UTC",
          "Sat Dec 23, 2017 01:27 UTC",
          "Fri Dec 15, 2017 15:36 UTC",
          "Mon Oct 30, 2017 19:34 UTC",
          "Wed Oct 11, 2017 22:53 UTC",
          "Mon Oct 09, 2017 12:37 UTC",
          "Thu Sep 07, 2017 14:00 UTC",
          "Thu Aug 24, 2017 18:51 UTC",
          "Mon Aug 14, 2017 16:31 UTC",
          "Wed Jul 05, 2017 20:25 UTC",
          "Sun Jun 25, 2017 20:25 UTC",
          "Fri Jun 23, 2017 19:10 UTC",
          "Sat Jun 03, 2017 21:07 UTC",
          "Mon May 15, 2017 23:21 UTC",
          "Mon May 01, 2017 11:15 UTC",
          "Thu Mar 30, 2017 22:27 UTC",
          "Thu Mar 16, 2017 06:00 UTC",
          "Sun Feb 19, 2017 14:39 UTC",
          "Sat Jan 14, 2017 17:54 UTC",
          "Thu Sep 01, 2016 13:07 UTC",
          "Sun Aug 14, 2016 05:26 UTC",
          "Mon Jul 18, 2016 04:45 UTC",
          "Wed Jun 15, 2016 14:29 UTC",
          "Fri May 27, 2016 21:39 UTC",
          "Fri May 06, 2016 05:21 UTC",
          "Fri Apr 08, 2016 20:43 UTC",
          "Fri Mar 04, 2016 23:35 UTC",
          "Sun Jan 17, 2016 18:42 UTC",
          "Tue Dec 22, 2015 01:29 UTC",
          "Sun Jun 28, 2015 14:21 UTC",
          "Mon Apr 27, 2015 23:03 UTC",
          "Wed Apr 15, 2015 20:10 UTC",
          "Mon Mar 02, 2015 03:50 UTC",
          "Wed Feb 11, 2015 23:03 UTC",
          "Sat Jan 10, 2015 09:47 UTC",
          "Sun Sep 21, 2014 05:52 UTC",
          "Sun Sep 07, 2014 05:00 UTC",
          "Tue Aug 05, 2014 08:00 UTC",
          "Mon Jul 14, 2014 15:15 UTC",
          "Fri Apr 18, 2014 19:25 UTC",
          "Mon Jan 06, 2014 22:06 UTC",
          "Tue Dec 03, 2013 22:41 UTC",
          "Sun Sep 29, 2013 16:00 UTC",
          "Fri Mar 01, 2013 15:10 UTC",
          "Mon Oct 08, 2012 00:35 UTC",
          "Tue May 22, 2012 07:44 UTC",
          "Wed Dec 08, 2010 15:43 UTC",
          "Fri Jun 04, 2010 18:45 UTC",
          "Tue Jul 14, 2009 03:35 UTC",
          "Sun Sep 28, 2008 23:15 UTC",
          "Sun Aug 03, 2008 03:34 UTC",
          "Wed Mar 21, 2007 01:10 UTC",
          "Fri Mar 24, 2006 21:30 UTC"
         ],
         "xaxis": "x",
         "y": [
          50,
          54.98989898989899,
          50,
          50,
          50,
          50,
          50,
          50,
          50,
          50,
          50,
          50,
          50,
          50,
          50,
          50,
          50,
          50,
          50,
          90,
          50,
          50,
          50,
          90,
          50,
          50,
          50,
          50,
          50,
          50,
          50,
          50,
          50,
          50,
          50,
          50,
          62,
          62,
          62,
          50,
          62,
          62,
          62,
          62,
          62,
          90,
          62,
          62,
          62,
          62,
          62,
          62,
          62,
          62,
          62,
          62,
          62,
          62,
          62,
          62,
          62,
          62,
          62,
          62,
          62,
          62,
          62,
          62,
          62,
          62,
          62,
          62,
          62,
          62,
          56.5,
          62,
          56.5,
          56.5,
          56.5,
          56.5,
          56.5,
          56.5,
          56.5,
          56.5,
          56.5,
          56.5,
          56.5,
          56.5,
          56.5,
          56.5,
          59.5,
          59.5,
          59.5,
          59.5,
          59.5,
          7,
          7,
          7,
          7,
          7
         ],
         "yaxis": "y"
        }
       ],
       "layout": {
        "legend": {
         "tracegroupgap": 0
        },
        "template": {
         "data": {
          "bar": [
           {
            "error_x": {
             "color": "#2a3f5f"
            },
            "error_y": {
             "color": "#2a3f5f"
            },
            "marker": {
             "line": {
              "color": "#E5ECF6",
              "width": 0.5
             },
             "pattern": {
              "fillmode": "overlay",
              "size": 10,
              "solidity": 0.2
             }
            },
            "type": "bar"
           }
          ],
          "barpolar": [
           {
            "marker": {
             "line": {
              "color": "#E5ECF6",
              "width": 0.5
             },
             "pattern": {
              "fillmode": "overlay",
              "size": 10,
              "solidity": 0.2
             }
            },
            "type": "barpolar"
           }
          ],
          "carpet": [
           {
            "aaxis": {
             "endlinecolor": "#2a3f5f",
             "gridcolor": "white",
             "linecolor": "white",
             "minorgridcolor": "white",
             "startlinecolor": "#2a3f5f"
            },
            "baxis": {
             "endlinecolor": "#2a3f5f",
             "gridcolor": "white",
             "linecolor": "white",
             "minorgridcolor": "white",
             "startlinecolor": "#2a3f5f"
            },
            "type": "carpet"
           }
          ],
          "choropleth": [
           {
            "colorbar": {
             "outlinewidth": 0,
             "ticks": ""
            },
            "type": "choropleth"
           }
          ],
          "contour": [
           {
            "colorbar": {
             "outlinewidth": 0,
             "ticks": ""
            },
            "colorscale": [
             [
              0,
              "#0d0887"
             ],
             [
              0.1111111111111111,
              "#46039f"
             ],
             [
              0.2222222222222222,
              "#7201a8"
             ],
             [
              0.3333333333333333,
              "#9c179e"
             ],
             [
              0.4444444444444444,
              "#bd3786"
             ],
             [
              0.5555555555555556,
              "#d8576b"
             ],
             [
              0.6666666666666666,
              "#ed7953"
             ],
             [
              0.7777777777777778,
              "#fb9f3a"
             ],
             [
              0.8888888888888888,
              "#fdca26"
             ],
             [
              1,
              "#f0f921"
             ]
            ],
            "type": "contour"
           }
          ],
          "contourcarpet": [
           {
            "colorbar": {
             "outlinewidth": 0,
             "ticks": ""
            },
            "type": "contourcarpet"
           }
          ],
          "heatmap": [
           {
            "colorbar": {
             "outlinewidth": 0,
             "ticks": ""
            },
            "colorscale": [
             [
              0,
              "#0d0887"
             ],
             [
              0.1111111111111111,
              "#46039f"
             ],
             [
              0.2222222222222222,
              "#7201a8"
             ],
             [
              0.3333333333333333,
              "#9c179e"
             ],
             [
              0.4444444444444444,
              "#bd3786"
             ],
             [
              0.5555555555555556,
              "#d8576b"
             ],
             [
              0.6666666666666666,
              "#ed7953"
             ],
             [
              0.7777777777777778,
              "#fb9f3a"
             ],
             [
              0.8888888888888888,
              "#fdca26"
             ],
             [
              1,
              "#f0f921"
             ]
            ],
            "type": "heatmap"
           }
          ],
          "heatmapgl": [
           {
            "colorbar": {
             "outlinewidth": 0,
             "ticks": ""
            },
            "colorscale": [
             [
              0,
              "#0d0887"
             ],
             [
              0.1111111111111111,
              "#46039f"
             ],
             [
              0.2222222222222222,
              "#7201a8"
             ],
             [
              0.3333333333333333,
              "#9c179e"
             ],
             [
              0.4444444444444444,
              "#bd3786"
             ],
             [
              0.5555555555555556,
              "#d8576b"
             ],
             [
              0.6666666666666666,
              "#ed7953"
             ],
             [
              0.7777777777777778,
              "#fb9f3a"
             ],
             [
              0.8888888888888888,
              "#fdca26"
             ],
             [
              1,
              "#f0f921"
             ]
            ],
            "type": "heatmapgl"
           }
          ],
          "histogram": [
           {
            "marker": {
             "pattern": {
              "fillmode": "overlay",
              "size": 10,
              "solidity": 0.2
             }
            },
            "type": "histogram"
           }
          ],
          "histogram2d": [
           {
            "colorbar": {
             "outlinewidth": 0,
             "ticks": ""
            },
            "colorscale": [
             [
              0,
              "#0d0887"
             ],
             [
              0.1111111111111111,
              "#46039f"
             ],
             [
              0.2222222222222222,
              "#7201a8"
             ],
             [
              0.3333333333333333,
              "#9c179e"
             ],
             [
              0.4444444444444444,
              "#bd3786"
             ],
             [
              0.5555555555555556,
              "#d8576b"
             ],
             [
              0.6666666666666666,
              "#ed7953"
             ],
             [
              0.7777777777777778,
              "#fb9f3a"
             ],
             [
              0.8888888888888888,
              "#fdca26"
             ],
             [
              1,
              "#f0f921"
             ]
            ],
            "type": "histogram2d"
           }
          ],
          "histogram2dcontour": [
           {
            "colorbar": {
             "outlinewidth": 0,
             "ticks": ""
            },
            "colorscale": [
             [
              0,
              "#0d0887"
             ],
             [
              0.1111111111111111,
              "#46039f"
             ],
             [
              0.2222222222222222,
              "#7201a8"
             ],
             [
              0.3333333333333333,
              "#9c179e"
             ],
             [
              0.4444444444444444,
              "#bd3786"
             ],
             [
              0.5555555555555556,
              "#d8576b"
             ],
             [
              0.6666666666666666,
              "#ed7953"
             ],
             [
              0.7777777777777778,
              "#fb9f3a"
             ],
             [
              0.8888888888888888,
              "#fdca26"
             ],
             [
              1,
              "#f0f921"
             ]
            ],
            "type": "histogram2dcontour"
           }
          ],
          "mesh3d": [
           {
            "colorbar": {
             "outlinewidth": 0,
             "ticks": ""
            },
            "type": "mesh3d"
           }
          ],
          "parcoords": [
           {
            "line": {
             "colorbar": {
              "outlinewidth": 0,
              "ticks": ""
             }
            },
            "type": "parcoords"
           }
          ],
          "pie": [
           {
            "automargin": true,
            "type": "pie"
           }
          ],
          "scatter": [
           {
            "fillpattern": {
             "fillmode": "overlay",
             "size": 10,
             "solidity": 0.2
            },
            "type": "scatter"
           }
          ],
          "scatter3d": [
           {
            "line": {
             "colorbar": {
              "outlinewidth": 0,
              "ticks": ""
             }
            },
            "marker": {
             "colorbar": {
              "outlinewidth": 0,
              "ticks": ""
             }
            },
            "type": "scatter3d"
           }
          ],
          "scattercarpet": [
           {
            "marker": {
             "colorbar": {
              "outlinewidth": 0,
              "ticks": ""
             }
            },
            "type": "scattercarpet"
           }
          ],
          "scattergeo": [
           {
            "marker": {
             "colorbar": {
              "outlinewidth": 0,
              "ticks": ""
             }
            },
            "type": "scattergeo"
           }
          ],
          "scattergl": [
           {
            "marker": {
             "colorbar": {
              "outlinewidth": 0,
              "ticks": ""
             }
            },
            "type": "scattergl"
           }
          ],
          "scattermapbox": [
           {
            "marker": {
             "colorbar": {
              "outlinewidth": 0,
              "ticks": ""
             }
            },
            "type": "scattermapbox"
           }
          ],
          "scatterpolar": [
           {
            "marker": {
             "colorbar": {
              "outlinewidth": 0,
              "ticks": ""
             }
            },
            "type": "scatterpolar"
           }
          ],
          "scatterpolargl": [
           {
            "marker": {
             "colorbar": {
              "outlinewidth": 0,
              "ticks": ""
             }
            },
            "type": "scatterpolargl"
           }
          ],
          "scatterternary": [
           {
            "marker": {
             "colorbar": {
              "outlinewidth": 0,
              "ticks": ""
             }
            },
            "type": "scatterternary"
           }
          ],
          "surface": [
           {
            "colorbar": {
             "outlinewidth": 0,
             "ticks": ""
            },
            "colorscale": [
             [
              0,
              "#0d0887"
             ],
             [
              0.1111111111111111,
              "#46039f"
             ],
             [
              0.2222222222222222,
              "#7201a8"
             ],
             [
              0.3333333333333333,
              "#9c179e"
             ],
             [
              0.4444444444444444,
              "#bd3786"
             ],
             [
              0.5555555555555556,
              "#d8576b"
             ],
             [
              0.6666666666666666,
              "#ed7953"
             ],
             [
              0.7777777777777778,
              "#fb9f3a"
             ],
             [
              0.8888888888888888,
              "#fdca26"
             ],
             [
              1,
              "#f0f921"
             ]
            ],
            "type": "surface"
           }
          ],
          "table": [
           {
            "cells": {
             "fill": {
              "color": "#EBF0F8"
             },
             "line": {
              "color": "white"
             }
            },
            "header": {
             "fill": {
              "color": "#C8D4E3"
             },
             "line": {
              "color": "white"
             }
            },
            "type": "table"
           }
          ]
         },
         "layout": {
          "annotationdefaults": {
           "arrowcolor": "#2a3f5f",
           "arrowhead": 0,
           "arrowwidth": 1
          },
          "autotypenumbers": "strict",
          "coloraxis": {
           "colorbar": {
            "outlinewidth": 0,
            "ticks": ""
           }
          },
          "colorscale": {
           "diverging": [
            [
             0,
             "#8e0152"
            ],
            [
             0.1,
             "#c51b7d"
            ],
            [
             0.2,
             "#de77ae"
            ],
            [
             0.3,
             "#f1b6da"
            ],
            [
             0.4,
             "#fde0ef"
            ],
            [
             0.5,
             "#f7f7f7"
            ],
            [
             0.6,
             "#e6f5d0"
            ],
            [
             0.7,
             "#b8e186"
            ],
            [
             0.8,
             "#7fbc41"
            ],
            [
             0.9,
             "#4d9221"
            ],
            [
             1,
             "#276419"
            ]
           ],
           "sequential": [
            [
             0,
             "#0d0887"
            ],
            [
             0.1111111111111111,
             "#46039f"
            ],
            [
             0.2222222222222222,
             "#7201a8"
            ],
            [
             0.3333333333333333,
             "#9c179e"
            ],
            [
             0.4444444444444444,
             "#bd3786"
            ],
            [
             0.5555555555555556,
             "#d8576b"
            ],
            [
             0.6666666666666666,
             "#ed7953"
            ],
            [
             0.7777777777777778,
             "#fb9f3a"
            ],
            [
             0.8888888888888888,
             "#fdca26"
            ],
            [
             1,
             "#f0f921"
            ]
           ],
           "sequentialminus": [
            [
             0,
             "#0d0887"
            ],
            [
             0.1111111111111111,
             "#46039f"
            ],
            [
             0.2222222222222222,
             "#7201a8"
            ],
            [
             0.3333333333333333,
             "#9c179e"
            ],
            [
             0.4444444444444444,
             "#bd3786"
            ],
            [
             0.5555555555555556,
             "#d8576b"
            ],
            [
             0.6666666666666666,
             "#ed7953"
            ],
            [
             0.7777777777777778,
             "#fb9f3a"
            ],
            [
             0.8888888888888888,
             "#fdca26"
            ],
            [
             1,
             "#f0f921"
            ]
           ]
          },
          "colorway": [
           "#636efa",
           "#EF553B",
           "#00cc96",
           "#ab63fa",
           "#FFA15A",
           "#19d3f3",
           "#FF6692",
           "#B6E880",
           "#FF97FF",
           "#FECB52"
          ],
          "font": {
           "color": "#2a3f5f"
          },
          "geo": {
           "bgcolor": "white",
           "lakecolor": "white",
           "landcolor": "#E5ECF6",
           "showlakes": true,
           "showland": true,
           "subunitcolor": "white"
          },
          "hoverlabel": {
           "align": "left"
          },
          "hovermode": "closest",
          "mapbox": {
           "style": "light"
          },
          "paper_bgcolor": "white",
          "plot_bgcolor": "#E5ECF6",
          "polar": {
           "angularaxis": {
            "gridcolor": "white",
            "linecolor": "white",
            "ticks": ""
           },
           "bgcolor": "#E5ECF6",
           "radialaxis": {
            "gridcolor": "white",
            "linecolor": "white",
            "ticks": ""
           }
          },
          "scene": {
           "xaxis": {
            "backgroundcolor": "#E5ECF6",
            "gridcolor": "white",
            "gridwidth": 2,
            "linecolor": "white",
            "showbackground": true,
            "ticks": "",
            "zerolinecolor": "white"
           },
           "yaxis": {
            "backgroundcolor": "#E5ECF6",
            "gridcolor": "white",
            "gridwidth": 2,
            "linecolor": "white",
            "showbackground": true,
            "ticks": "",
            "zerolinecolor": "white"
           },
           "zaxis": {
            "backgroundcolor": "#E5ECF6",
            "gridcolor": "white",
            "gridwidth": 2,
            "linecolor": "white",
            "showbackground": true,
            "ticks": "",
            "zerolinecolor": "white"
           }
          },
          "shapedefaults": {
           "line": {
            "color": "#2a3f5f"
           }
          },
          "ternary": {
           "aaxis": {
            "gridcolor": "white",
            "linecolor": "white",
            "ticks": ""
           },
           "baxis": {
            "gridcolor": "white",
            "linecolor": "white",
            "ticks": ""
           },
           "bgcolor": "#E5ECF6",
           "caxis": {
            "gridcolor": "white",
            "linecolor": "white",
            "ticks": ""
           }
          },
          "title": {
           "x": 0.05
          },
          "xaxis": {
           "automargin": true,
           "gridcolor": "white",
           "linecolor": "white",
           "ticks": "",
           "title": {
            "standoff": 15
           },
           "zerolinecolor": "white",
           "zerolinewidth": 2
          },
          "yaxis": {
           "automargin": true,
           "gridcolor": "white",
           "linecolor": "white",
           "ticks": "",
           "title": {
            "standoff": 15
           },
           "zerolinecolor": "white",
           "zerolinewidth": 2
          }
         }
        },
        "title": {
         "text": "Price Changes for SpaceX Missions"
        },
        "xaxis": {
         "anchor": "y",
         "domain": [
          0,
          1
         ],
         "title": {
          "text": "Date"
         }
        },
        "yaxis": {
         "anchor": "x",
         "domain": [
          0,
          1
         ],
         "title": {
          "text": "Price"
         }
        }
       }
      },
      "text/html": [
       "<div>                            <div id=\"83544e2e-1330-481b-8294-59c959f4c049\" class=\"plotly-graph-div\" style=\"height:525px; width:100%;\"></div>            <script type=\"text/javascript\">                require([\"plotly\"], function(Plotly) {                    window.PLOTLYENV=window.PLOTLYENV || {};                                    if (document.getElementById(\"83544e2e-1330-481b-8294-59c959f4c049\")) {                    Plotly.newPlot(                        \"83544e2e-1330-481b-8294-59c959f4c049\",                        [{\"hovertemplate\":\"Date=%{x}<br>Price=%{y}<extra></extra>\",\"legendgroup\":\"\",\"line\":{\"color\":\"#636efa\",\"dash\":\"solid\"},\"marker\":{\"symbol\":\"circle\"},\"mode\":\"lines\",\"name\":\"\",\"orientation\":\"v\",\"showlegend\":false,\"x\":[\"Fri Aug 07, 2020 05:12 UTC\",\"Tue Aug 04, 2020 23:57 UTC\",\"Mon Jul 20, 2020 21:30 UTC\",\"Tue Jun 30, 2020 20:10 UTC\",\"Sat Jun 13, 2020 09:21 UTC\",\"Thu Jun 04, 2020 01:25 UTC\",\"Sat May 30, 2020 19:22 UTC\",\"Wed Apr 22, 2020 19:30 UTC\",\"Wed Mar 18, 2020 12:16 UTC\",\"Sat Mar 07, 2020 04:50 UTC\",\"Mon Feb 17, 2020 15:05 UTC\",\"Wed Jan 29, 2020 14:06 UTC\",\"Sun Jan 19, 2020 15:30 UTC\",\"Tue Jan 07, 2020 02:19 UTC\",\"Tue Dec 17, 2019 00:10 UTC\",\"Thu Dec 05, 2019 17:29 UTC\",\"Mon Nov 11, 2019 14:56 UTC\",\"Tue Aug 06, 2019 23:23 UTC\",\"Thu Jul 25, 2019 22:01 UTC\",\"Tue Jun 25, 2019 06:30 UTC\",\"Wed Jun 12, 2019 14:17 UTC\",\"Fri May 24, 2019 02:30 UTC\",\"Sat May 04, 2019 06:48 UTC\",\"Thu Apr 11, 2019 22:35 UTC\",\"Sat Mar 02, 2019 07:49 UTC\",\"Fri Feb 22, 2019 01:45 UTC\",\"Fri Jan 11, 2019 15:31 UTC\",\"Sun Dec 23, 2018 13:51 UTC\",\"Wed Dec 05, 2018 18:16 UTC\",\"Mon Dec 03, 2018 18:34 UTC\",\"Thu Nov 15, 2018 20:46 UTC\",\"Mon Oct 08, 2018 02:21 UTC\",\"Mon Sep 10, 2018 04:45 UTC\",\"Tue Aug 07, 2018 05:18 UTC\",\"Wed Jul 25, 2018 11:39 UTC\",\"Sun Jul 22, 2018 05:50 UTC\",\"Fri Jun 29, 2018 09:42 UTC\",\"Mon Jun 04, 2018 04:29 UTC\",\"Tue May 22, 2018 19:47 UTC\",\"Fri May 11, 2018 20:14 UTC\",\"Wed Apr 18, 2018 22:51 UTC\",\"Mon Apr 02, 2018 20:30 UTC\",\"Fri Mar 30, 2018 14:14 UTC\",\"Tue Mar 06, 2018 05:33 UTC\",\"Thu Feb 22, 2018 14:17 UTC\",\"Tue Feb 06, 2018 20:45 UTC\",\"Wed Jan 31, 2018 21:25 UTC\",\"Mon Jan 08, 2018 01:00 UTC\",\"Sat Dec 23, 2017 01:27 UTC\",\"Fri Dec 15, 2017 15:36 UTC\",\"Mon Oct 30, 2017 19:34 UTC\",\"Wed Oct 11, 2017 22:53 UTC\",\"Mon Oct 09, 2017 12:37 UTC\",\"Thu Sep 07, 2017 14:00 UTC\",\"Thu Aug 24, 2017 18:51 UTC\",\"Mon Aug 14, 2017 16:31 UTC\",\"Wed Jul 05, 2017 20:25 UTC\",\"Sun Jun 25, 2017 20:25 UTC\",\"Fri Jun 23, 2017 19:10 UTC\",\"Sat Jun 03, 2017 21:07 UTC\",\"Mon May 15, 2017 23:21 UTC\",\"Mon May 01, 2017 11:15 UTC\",\"Thu Mar 30, 2017 22:27 UTC\",\"Thu Mar 16, 2017 06:00 UTC\",\"Sun Feb 19, 2017 14:39 UTC\",\"Sat Jan 14, 2017 17:54 UTC\",\"Thu Sep 01, 2016 13:07 UTC\",\"Sun Aug 14, 2016 05:26 UTC\",\"Mon Jul 18, 2016 04:45 UTC\",\"Wed Jun 15, 2016 14:29 UTC\",\"Fri May 27, 2016 21:39 UTC\",\"Fri May 06, 2016 05:21 UTC\",\"Fri Apr 08, 2016 20:43 UTC\",\"Fri Mar 04, 2016 23:35 UTC\",\"Sun Jan 17, 2016 18:42 UTC\",\"Tue Dec 22, 2015 01:29 UTC\",\"Sun Jun 28, 2015 14:21 UTC\",\"Mon Apr 27, 2015 23:03 UTC\",\"Wed Apr 15, 2015 20:10 UTC\",\"Mon Mar 02, 2015 03:50 UTC\",\"Wed Feb 11, 2015 23:03 UTC\",\"Sat Jan 10, 2015 09:47 UTC\",\"Sun Sep 21, 2014 05:52 UTC\",\"Sun Sep 07, 2014 05:00 UTC\",\"Tue Aug 05, 2014 08:00 UTC\",\"Mon Jul 14, 2014 15:15 UTC\",\"Fri Apr 18, 2014 19:25 UTC\",\"Mon Jan 06, 2014 22:06 UTC\",\"Tue Dec 03, 2013 22:41 UTC\",\"Sun Sep 29, 2013 16:00 UTC\",\"Fri Mar 01, 2013 15:10 UTC\",\"Mon Oct 08, 2012 00:35 UTC\",\"Tue May 22, 2012 07:44 UTC\",\"Wed Dec 08, 2010 15:43 UTC\",\"Fri Jun 04, 2010 18:45 UTC\",\"Tue Jul 14, 2009 03:35 UTC\",\"Sun Sep 28, 2008 23:15 UTC\",\"Sun Aug 03, 2008 03:34 UTC\",\"Wed Mar 21, 2007 01:10 UTC\",\"Fri Mar 24, 2006 21:30 UTC\"],\"xaxis\":\"x\",\"y\":[50.0,54.98989898989899,50.0,50.0,50.0,50.0,50.0,50.0,50.0,50.0,50.0,50.0,50.0,50.0,50.0,50.0,50.0,50.0,50.0,90.0,50.0,50.0,50.0,90.0,50.0,50.0,50.0,50.0,50.0,50.0,50.0,50.0,50.0,50.0,50.0,50.0,62.0,62.0,62.0,50.0,62.0,62.0,62.0,62.0,62.0,90.0,62.0,62.0,62.0,62.0,62.0,62.0,62.0,62.0,62.0,62.0,62.0,62.0,62.0,62.0,62.0,62.0,62.0,62.0,62.0,62.0,62.0,62.0,62.0,62.0,62.0,62.0,62.0,62.0,56.5,62.0,56.5,56.5,56.5,56.5,56.5,56.5,56.5,56.5,56.5,56.5,56.5,56.5,56.5,56.5,59.5,59.5,59.5,59.5,59.5,7.0,7.0,7.0,7.0,7.0],\"yaxis\":\"y\",\"type\":\"scatter\"}],                        {\"template\":{\"data\":{\"histogram2dcontour\":[{\"type\":\"histogram2dcontour\",\"colorbar\":{\"outlinewidth\":0,\"ticks\":\"\"},\"colorscale\":[[0.0,\"#0d0887\"],[0.1111111111111111,\"#46039f\"],[0.2222222222222222,\"#7201a8\"],[0.3333333333333333,\"#9c179e\"],[0.4444444444444444,\"#bd3786\"],[0.5555555555555556,\"#d8576b\"],[0.6666666666666666,\"#ed7953\"],[0.7777777777777778,\"#fb9f3a\"],[0.8888888888888888,\"#fdca26\"],[1.0,\"#f0f921\"]]}],\"choropleth\":[{\"type\":\"choropleth\",\"colorbar\":{\"outlinewidth\":0,\"ticks\":\"\"}}],\"histogram2d\":[{\"type\":\"histogram2d\",\"colorbar\":{\"outlinewidth\":0,\"ticks\":\"\"},\"colorscale\":[[0.0,\"#0d0887\"],[0.1111111111111111,\"#46039f\"],[0.2222222222222222,\"#7201a8\"],[0.3333333333333333,\"#9c179e\"],[0.4444444444444444,\"#bd3786\"],[0.5555555555555556,\"#d8576b\"],[0.6666666666666666,\"#ed7953\"],[0.7777777777777778,\"#fb9f3a\"],[0.8888888888888888,\"#fdca26\"],[1.0,\"#f0f921\"]]}],\"heatmap\":[{\"type\":\"heatmap\",\"colorbar\":{\"outlinewidth\":0,\"ticks\":\"\"},\"colorscale\":[[0.0,\"#0d0887\"],[0.1111111111111111,\"#46039f\"],[0.2222222222222222,\"#7201a8\"],[0.3333333333333333,\"#9c179e\"],[0.4444444444444444,\"#bd3786\"],[0.5555555555555556,\"#d8576b\"],[0.6666666666666666,\"#ed7953\"],[0.7777777777777778,\"#fb9f3a\"],[0.8888888888888888,\"#fdca26\"],[1.0,\"#f0f921\"]]}],\"heatmapgl\":[{\"type\":\"heatmapgl\",\"colorbar\":{\"outlinewidth\":0,\"ticks\":\"\"},\"colorscale\":[[0.0,\"#0d0887\"],[0.1111111111111111,\"#46039f\"],[0.2222222222222222,\"#7201a8\"],[0.3333333333333333,\"#9c179e\"],[0.4444444444444444,\"#bd3786\"],[0.5555555555555556,\"#d8576b\"],[0.6666666666666666,\"#ed7953\"],[0.7777777777777778,\"#fb9f3a\"],[0.8888888888888888,\"#fdca26\"],[1.0,\"#f0f921\"]]}],\"contourcarpet\":[{\"type\":\"contourcarpet\",\"colorbar\":{\"outlinewidth\":0,\"ticks\":\"\"}}],\"contour\":[{\"type\":\"contour\",\"colorbar\":{\"outlinewidth\":0,\"ticks\":\"\"},\"colorscale\":[[0.0,\"#0d0887\"],[0.1111111111111111,\"#46039f\"],[0.2222222222222222,\"#7201a8\"],[0.3333333333333333,\"#9c179e\"],[0.4444444444444444,\"#bd3786\"],[0.5555555555555556,\"#d8576b\"],[0.6666666666666666,\"#ed7953\"],[0.7777777777777778,\"#fb9f3a\"],[0.8888888888888888,\"#fdca26\"],[1.0,\"#f0f921\"]]}],\"surface\":[{\"type\":\"surface\",\"colorbar\":{\"outlinewidth\":0,\"ticks\":\"\"},\"colorscale\":[[0.0,\"#0d0887\"],[0.1111111111111111,\"#46039f\"],[0.2222222222222222,\"#7201a8\"],[0.3333333333333333,\"#9c179e\"],[0.4444444444444444,\"#bd3786\"],[0.5555555555555556,\"#d8576b\"],[0.6666666666666666,\"#ed7953\"],[0.7777777777777778,\"#fb9f3a\"],[0.8888888888888888,\"#fdca26\"],[1.0,\"#f0f921\"]]}],\"mesh3d\":[{\"type\":\"mesh3d\",\"colorbar\":{\"outlinewidth\":0,\"ticks\":\"\"}}],\"scatter\":[{\"fillpattern\":{\"fillmode\":\"overlay\",\"size\":10,\"solidity\":0.2},\"type\":\"scatter\"}],\"parcoords\":[{\"type\":\"parcoords\",\"line\":{\"colorbar\":{\"outlinewidth\":0,\"ticks\":\"\"}}}],\"scatterpolargl\":[{\"type\":\"scatterpolargl\",\"marker\":{\"colorbar\":{\"outlinewidth\":0,\"ticks\":\"\"}}}],\"bar\":[{\"error_x\":{\"color\":\"#2a3f5f\"},\"error_y\":{\"color\":\"#2a3f5f\"},\"marker\":{\"line\":{\"color\":\"#E5ECF6\",\"width\":0.5},\"pattern\":{\"fillmode\":\"overlay\",\"size\":10,\"solidity\":0.2}},\"type\":\"bar\"}],\"scattergeo\":[{\"type\":\"scattergeo\",\"marker\":{\"colorbar\":{\"outlinewidth\":0,\"ticks\":\"\"}}}],\"scatterpolar\":[{\"type\":\"scatterpolar\",\"marker\":{\"colorbar\":{\"outlinewidth\":0,\"ticks\":\"\"}}}],\"histogram\":[{\"marker\":{\"pattern\":{\"fillmode\":\"overlay\",\"size\":10,\"solidity\":0.2}},\"type\":\"histogram\"}],\"scattergl\":[{\"type\":\"scattergl\",\"marker\":{\"colorbar\":{\"outlinewidth\":0,\"ticks\":\"\"}}}],\"scatter3d\":[{\"type\":\"scatter3d\",\"line\":{\"colorbar\":{\"outlinewidth\":0,\"ticks\":\"\"}},\"marker\":{\"colorbar\":{\"outlinewidth\":0,\"ticks\":\"\"}}}],\"scattermapbox\":[{\"type\":\"scattermapbox\",\"marker\":{\"colorbar\":{\"outlinewidth\":0,\"ticks\":\"\"}}}],\"scatterternary\":[{\"type\":\"scatterternary\",\"marker\":{\"colorbar\":{\"outlinewidth\":0,\"ticks\":\"\"}}}],\"scattercarpet\":[{\"type\":\"scattercarpet\",\"marker\":{\"colorbar\":{\"outlinewidth\":0,\"ticks\":\"\"}}}],\"carpet\":[{\"aaxis\":{\"endlinecolor\":\"#2a3f5f\",\"gridcolor\":\"white\",\"linecolor\":\"white\",\"minorgridcolor\":\"white\",\"startlinecolor\":\"#2a3f5f\"},\"baxis\":{\"endlinecolor\":\"#2a3f5f\",\"gridcolor\":\"white\",\"linecolor\":\"white\",\"minorgridcolor\":\"white\",\"startlinecolor\":\"#2a3f5f\"},\"type\":\"carpet\"}],\"table\":[{\"cells\":{\"fill\":{\"color\":\"#EBF0F8\"},\"line\":{\"color\":\"white\"}},\"header\":{\"fill\":{\"color\":\"#C8D4E3\"},\"line\":{\"color\":\"white\"}},\"type\":\"table\"}],\"barpolar\":[{\"marker\":{\"line\":{\"color\":\"#E5ECF6\",\"width\":0.5},\"pattern\":{\"fillmode\":\"overlay\",\"size\":10,\"solidity\":0.2}},\"type\":\"barpolar\"}],\"pie\":[{\"automargin\":true,\"type\":\"pie\"}]},\"layout\":{\"autotypenumbers\":\"strict\",\"colorway\":[\"#636efa\",\"#EF553B\",\"#00cc96\",\"#ab63fa\",\"#FFA15A\",\"#19d3f3\",\"#FF6692\",\"#B6E880\",\"#FF97FF\",\"#FECB52\"],\"font\":{\"color\":\"#2a3f5f\"},\"hovermode\":\"closest\",\"hoverlabel\":{\"align\":\"left\"},\"paper_bgcolor\":\"white\",\"plot_bgcolor\":\"#E5ECF6\",\"polar\":{\"bgcolor\":\"#E5ECF6\",\"angularaxis\":{\"gridcolor\":\"white\",\"linecolor\":\"white\",\"ticks\":\"\"},\"radialaxis\":{\"gridcolor\":\"white\",\"linecolor\":\"white\",\"ticks\":\"\"}},\"ternary\":{\"bgcolor\":\"#E5ECF6\",\"aaxis\":{\"gridcolor\":\"white\",\"linecolor\":\"white\",\"ticks\":\"\"},\"baxis\":{\"gridcolor\":\"white\",\"linecolor\":\"white\",\"ticks\":\"\"},\"caxis\":{\"gridcolor\":\"white\",\"linecolor\":\"white\",\"ticks\":\"\"}},\"coloraxis\":{\"colorbar\":{\"outlinewidth\":0,\"ticks\":\"\"}},\"colorscale\":{\"sequential\":[[0.0,\"#0d0887\"],[0.1111111111111111,\"#46039f\"],[0.2222222222222222,\"#7201a8\"],[0.3333333333333333,\"#9c179e\"],[0.4444444444444444,\"#bd3786\"],[0.5555555555555556,\"#d8576b\"],[0.6666666666666666,\"#ed7953\"],[0.7777777777777778,\"#fb9f3a\"],[0.8888888888888888,\"#fdca26\"],[1.0,\"#f0f921\"]],\"sequentialminus\":[[0.0,\"#0d0887\"],[0.1111111111111111,\"#46039f\"],[0.2222222222222222,\"#7201a8\"],[0.3333333333333333,\"#9c179e\"],[0.4444444444444444,\"#bd3786\"],[0.5555555555555556,\"#d8576b\"],[0.6666666666666666,\"#ed7953\"],[0.7777777777777778,\"#fb9f3a\"],[0.8888888888888888,\"#fdca26\"],[1.0,\"#f0f921\"]],\"diverging\":[[0,\"#8e0152\"],[0.1,\"#c51b7d\"],[0.2,\"#de77ae\"],[0.3,\"#f1b6da\"],[0.4,\"#fde0ef\"],[0.5,\"#f7f7f7\"],[0.6,\"#e6f5d0\"],[0.7,\"#b8e186\"],[0.8,\"#7fbc41\"],[0.9,\"#4d9221\"],[1,\"#276419\"]]},\"xaxis\":{\"gridcolor\":\"white\",\"linecolor\":\"white\",\"ticks\":\"\",\"title\":{\"standoff\":15},\"zerolinecolor\":\"white\",\"automargin\":true,\"zerolinewidth\":2},\"yaxis\":{\"gridcolor\":\"white\",\"linecolor\":\"white\",\"ticks\":\"\",\"title\":{\"standoff\":15},\"zerolinecolor\":\"white\",\"automargin\":true,\"zerolinewidth\":2},\"scene\":{\"xaxis\":{\"backgroundcolor\":\"#E5ECF6\",\"gridcolor\":\"white\",\"linecolor\":\"white\",\"showbackground\":true,\"ticks\":\"\",\"zerolinecolor\":\"white\",\"gridwidth\":2},\"yaxis\":{\"backgroundcolor\":\"#E5ECF6\",\"gridcolor\":\"white\",\"linecolor\":\"white\",\"showbackground\":true,\"ticks\":\"\",\"zerolinecolor\":\"white\",\"gridwidth\":2},\"zaxis\":{\"backgroundcolor\":\"#E5ECF6\",\"gridcolor\":\"white\",\"linecolor\":\"white\",\"showbackground\":true,\"ticks\":\"\",\"zerolinecolor\":\"white\",\"gridwidth\":2}},\"shapedefaults\":{\"line\":{\"color\":\"#2a3f5f\"}},\"annotationdefaults\":{\"arrowcolor\":\"#2a3f5f\",\"arrowhead\":0,\"arrowwidth\":1},\"geo\":{\"bgcolor\":\"white\",\"landcolor\":\"#E5ECF6\",\"subunitcolor\":\"white\",\"showland\":true,\"showlakes\":true,\"lakecolor\":\"white\"},\"title\":{\"x\":0.05},\"mapbox\":{\"style\":\"light\"}}},\"xaxis\":{\"anchor\":\"y\",\"domain\":[0.0,1.0],\"title\":{\"text\":\"Date\"}},\"yaxis\":{\"anchor\":\"x\",\"domain\":[0.0,1.0],\"title\":{\"text\":\"Price\"}},\"legend\":{\"tracegroupgap\":0},\"title\":{\"text\":\"Price Changes for SpaceX Missions\"}},                        {\"responsive\": true}                    ).then(function(){\n",
       "                            \n",
       "var gd = document.getElementById('83544e2e-1330-481b-8294-59c959f4c049');\n",
       "var x = new MutationObserver(function (mutations, observer) {{\n",
       "        var display = window.getComputedStyle(gd).display;\n",
       "        if (!display || display === 'none') {{\n",
       "            console.log([gd, 'removed!']);\n",
       "            Plotly.purge(gd);\n",
       "            observer.disconnect();\n",
       "        }}\n",
       "}});\n",
       "\n",
       "// Listen for the removal of the full notebook cells\n",
       "var notebookContainer = gd.closest('#notebook-container');\n",
       "if (notebookContainer) {{\n",
       "    x.observe(notebookContainer, {childList: true});\n",
       "}}\n",
       "\n",
       "// Listen for the clearing of the current output cell\n",
       "var outputEl = gd.closest('.output');\n",
       "if (outputEl) {{\n",
       "    x.observe(outputEl, {childList: true});\n",
       "}}\n",
       "\n",
       "                        })                };                });            </script>        </div>"
      ]
     },
     "metadata": {},
     "output_type": "display_data"
    }
   ],
   "source": [
    "fig = px.line(org_data, x=\"Date\", y=\"Price\",title=f'Price Changes for {org_name} Missions')\n",
    "fig.update_xaxes(title_text='Date')\n",
    "fig.update_yaxes(title_text='Price')\n",
    "fig.show()"
   ]
  },
  {
   "cell_type": "code",
   "execution_count": null,
   "id": "ed665454",
   "metadata": {},
   "outputs": [],
   "source": []
  },
  {
   "cell_type": "code",
   "execution_count": 41,
   "id": "8da1e2ab",
   "metadata": {},
   "outputs": [
    {
     "data": {
      "text/html": [
       "<div>\n",
       "<style scoped>\n",
       "    .dataframe tbody tr th:only-of-type {\n",
       "        vertical-align: middle;\n",
       "    }\n",
       "\n",
       "    .dataframe tbody tr th {\n",
       "        vertical-align: top;\n",
       "    }\n",
       "\n",
       "    .dataframe thead th {\n",
       "        text-align: right;\n",
       "    }\n",
       "</style>\n",
       "<table border=\"1\" class=\"dataframe\">\n",
       "  <thead>\n",
       "    <tr style=\"text-align: right;\">\n",
       "      <th></th>\n",
       "      <th></th>\n",
       "      <th>Rocket_Status</th>\n",
       "    </tr>\n",
       "    <tr>\n",
       "      <th>Organisation</th>\n",
       "      <th>Rocket_Status</th>\n",
       "      <th></th>\n",
       "    </tr>\n",
       "  </thead>\n",
       "  <tbody>\n",
       "    <tr>\n",
       "      <th>AEB</th>\n",
       "      <th>StatusActive</th>\n",
       "      <td>3</td>\n",
       "    </tr>\n",
       "    <tr>\n",
       "      <th>AMBA</th>\n",
       "      <th>StatusRetired</th>\n",
       "      <td>8</td>\n",
       "    </tr>\n",
       "    <tr>\n",
       "      <th>ASI</th>\n",
       "      <th>StatusRetired</th>\n",
       "      <td>9</td>\n",
       "    </tr>\n",
       "    <tr>\n",
       "      <th rowspan=\"2\" valign=\"top\">Arianespace</th>\n",
       "      <th>StatusRetired</th>\n",
       "      <td>165</td>\n",
       "    </tr>\n",
       "    <tr>\n",
       "      <th>StatusActive</th>\n",
       "      <td>114</td>\n",
       "    </tr>\n",
       "    <tr>\n",
       "      <th>...</th>\n",
       "      <th>...</th>\n",
       "      <td>...</td>\n",
       "    </tr>\n",
       "    <tr>\n",
       "      <th rowspan=\"2\" valign=\"top\">VKS RF</th>\n",
       "      <th>StatusRetired</th>\n",
       "      <td>174</td>\n",
       "    </tr>\n",
       "    <tr>\n",
       "      <th>StatusActive</th>\n",
       "      <td>27</td>\n",
       "    </tr>\n",
       "    <tr>\n",
       "      <th>Virgin Orbit</th>\n",
       "      <th>StatusActive</th>\n",
       "      <td>1</td>\n",
       "    </tr>\n",
       "    <tr>\n",
       "      <th>Yuzhmash</th>\n",
       "      <th>StatusRetired</th>\n",
       "      <td>2</td>\n",
       "    </tr>\n",
       "    <tr>\n",
       "      <th>i-Space</th>\n",
       "      <th>StatusActive</th>\n",
       "      <td>1</td>\n",
       "    </tr>\n",
       "  </tbody>\n",
       "</table>\n",
       "<p>74 rows × 1 columns</p>\n",
       "</div>"
      ],
      "text/plain": [
       "                            Rocket_Status\n",
       "Organisation Rocket_Status               \n",
       "AEB          StatusActive               3\n",
       "AMBA         StatusRetired              8\n",
       "ASI          StatusRetired              9\n",
       "Arianespace  StatusRetired            165\n",
       "             StatusActive             114\n",
       "...                                   ...\n",
       "VKS RF       StatusRetired            174\n",
       "             StatusActive              27\n",
       "Virgin Orbit StatusActive               1\n",
       "Yuzhmash     StatusRetired              2\n",
       "i-Space      StatusActive               1\n",
       "\n",
       "[74 rows x 1 columns]"
      ]
     },
     "execution_count": 41,
     "metadata": {},
     "output_type": "execute_result"
    }
   ],
   "source": [
    "rocket_status = df.groupby(\"Organisation\")[\"Rocket_Status\"].value_counts()\n",
    "rocket_status_df = pd.DataFrame(rocket_status)\n",
    "\n",
    "rocket_status_df"
   ]
  },
  {
   "cell_type": "code",
   "execution_count": 42,
   "id": "e9d121fc",
   "metadata": {},
   "outputs": [
    {
     "name": "stderr",
     "output_type": "stream",
     "text": [
      "C:\\Users\\Dell\\anaconda3\\lib\\site-packages\\seaborn\\distributions.py:2619: FutureWarning:\n",
      "\n",
      "`distplot` is a deprecated function and will be removed in a future version. Please adapt your code to use either `displot` (a figure-level function with similar flexibility) or `histplot` (an axes-level function for histograms).\n",
      "\n"
     ]
    },
    {
     "data": {
      "text/plain": [
       "<AxesSubplot:xlabel='Price', ylabel='Density'>"
      ]
     },
     "execution_count": 42,
     "metadata": {},
     "output_type": "execute_result"
    },
    {
     "data": {
      "image/png": "[encoded data removed]",
      "text/plain": [
       "<Figure size 1000x600 with 1 Axes>"
      ]
     },
     "metadata": {},
     "output_type": "display_data"
    }
   ],
   "source": [
    "plt.figure(figsize=(10,6))\n",
    "sns.distplot(df[\"Price\"], color=\"purple\")"
   ]
  },
  {
   "cell_type": "code",
   "execution_count": 43,
   "id": "42c1272b",
   "metadata": {},
   "outputs": [
    {
     "name": "stderr",
     "output_type": "stream",
     "text": [
      "C:\\Users\\Dell\\anaconda3\\lib\\site-packages\\seaborn\\_decorators.py:36: FutureWarning:\n",
      "\n",
      "Pass the following variable as a keyword arg: x. From version 0.12, the only valid positional argument will be `data`, and passing other arguments without an explicit keyword will result in an error or misinterpretation.\n",
      "\n"
     ]
    },
    {
     "data": {
      "text/plain": [
       "<AxesSubplot:xlabel='Mission_Status', ylabel='count'>"
      ]
     },
     "execution_count": 43,
     "metadata": {},
     "output_type": "execute_result"
    },
    {
     "data": {
      "image/png": "[encoded data removed]",
      "text/plain": [
       "<Figure size 640x480 with 1 Axes>"
      ]
     },
     "metadata": {},
     "output_type": "display_data"
    }
   ],
   "source": [
    "sns.countplot(df[\"Mission_Status\"])"
   ]
  },
  {
   "cell_type": "code",
   "execution_count": 44,
   "id": "39105769",
   "metadata": {},
   "outputs": [
    {
     "data": {
      "image/png": "[encoded data removed]",
      "text/plain": [
       "<Figure size 2500x1500 with 1 Axes>"
      ]
     },
     "metadata": {},
     "output_type": "display_data"
    }
   ],
   "source": [
    "missions_by_org = df[\"Organisation\"].value_counts().reset_index()\n",
    "missions_by_org.columns = [\"Organisation\", \"Number of Starts\"]\n",
    "\n",
    "\n",
    "missions_by_org = missions_by_org.sort_values(\"Number of Starts\", ascending=False)\n",
    "\n",
    "plt.figure(figsize=(25,15))\n",
    "p = sns.barplot(x=missions_by_org[\"Organisation\"], y=missions_by_org[\"Number of Starts\"])\n",
    "p.set_xticklabels(p.get_xticklabels(), rotation=90)\n",
    "plt.show()"
   ]
  },
  {
   "cell_type": "code",
   "execution_count": 45,
   "id": "c87c9956",
   "metadata": {},
   "outputs": [
    {
     "data": {
      "application/vnd.plotly.v1+json": {
       "config": {
        "plotlyServerURL": "https://plot.ly"
       },
       "data": [
        {
         "domain": {
          "x": [
           0,
           1
          ],
          "y": [
           0,
           1
          ]
         },
         "hole": 0.4,
         "hovertemplate": "Mission_status=%{label}<br>count=%{value}<extra></extra>",
         "labels": [
          "Success",
          "Failure",
          "Partial Failure",
          "Prelaunch Failure"
         ],
         "legendgroup": "",
         "name": "",
         "showlegend": true,
         "type": "pie",
         "values": [
          3879,
          339,
          102,
          4
         ]
        }
       ],
       "layout": {
        "height": 500,
        "legend": {
         "tracegroupgap": 0
        },
        "template": {
         "data": {
          "bar": [
           {
            "error_x": {
             "color": "#2a3f5f"
            },
            "error_y": {
             "color": "#2a3f5f"
            },
            "marker": {
             "line": {
              "color": "#E5ECF6",
              "width": 0.5
             },
             "pattern": {
              "fillmode": "overlay",
              "size": 10,
              "solidity": 0.2
             }
            },
            "type": "bar"
           }
          ],
          "barpolar": [
           {
            "marker": {
             "line": {
              "color": "#E5ECF6",
              "width": 0.5
             },
             "pattern": {
              "fillmode": "overlay",
              "size": 10,
              "solidity": 0.2
             }
            },
            "type": "barpolar"
           }
          ],
          "carpet": [
           {
            "aaxis": {
             "endlinecolor": "#2a3f5f",
             "gridcolor": "white",
             "linecolor": "white",
             "minorgridcolor": "white",
             "startlinecolor": "#2a3f5f"
            },
            "baxis": {
             "endlinecolor": "#2a3f5f",
             "gridcolor": "white",
             "linecolor": "white",
             "minorgridcolor": "white",
             "startlinecolor": "#2a3f5f"
            },
            "type": "carpet"
           }
          ],
          "choropleth": [
           {
            "colorbar": {
             "outlinewidth": 0,
             "ticks": ""
            },
            "type": "choropleth"
           }
          ],
          "contour": [
           {
            "colorbar": {
             "outlinewidth": 0,
             "ticks": ""
            },
            "colorscale": [
             [
              0,
              "#0d0887"
             ],
             [
              0.1111111111111111,
              "#46039f"
             ],
             [
              0.2222222222222222,
              "#7201a8"
             ],
             [
              0.3333333333333333,
              "#9c179e"
             ],
             [
              0.4444444444444444,
              "#bd3786"
             ],
             [
              0.5555555555555556,
              "#d8576b"
             ],
             [
              0.6666666666666666,
              "#ed7953"
             ],
             [
              0.7777777777777778,
              "#fb9f3a"
             ],
             [
              0.8888888888888888,
              "#fdca26"
             ],
             [
              1,
              "#f0f921"
             ]
            ],
            "type": "contour"
           }
          ],
          "contourcarpet": [
           {
            "colorbar": {
             "outlinewidth": 0,
             "ticks": ""
            },
            "type": "contourcarpet"
           }
          ],
          "heatmap": [
           {
            "colorbar": {
             "outlinewidth": 0,
             "ticks": ""
            },
            "colorscale": [
             [
              0,
              "#0d0887"
             ],
             [
              0.1111111111111111,
              "#46039f"
             ],
             [
              0.2222222222222222,
              "#7201a8"
             ],
             [
              0.3333333333333333,
              "#9c179e"
             ],
             [
              0.4444444444444444,
              "#bd3786"
             ],
             [
              0.5555555555555556,
              "#d8576b"
             ],
             [
              0.6666666666666666,
              "#ed7953"
             ],
             [
              0.7777777777777778,
              "#fb9f3a"
             ],
             [
              0.8888888888888888,
              "#fdca26"
             ],
             [
              1,
              "#f0f921"
             ]
            ],
            "type": "heatmap"
           }
          ],
          "heatmapgl": [
           {
            "colorbar": {
             "outlinewidth": 0,
             "ticks": ""
            },
            "colorscale": [
             [
              0,
              "#0d0887"
             ],
             [
              0.1111111111111111,
              "#46039f"
             ],
             [
              0.2222222222222222,
              "#7201a8"
             ],
             [
              0.3333333333333333,
              "#9c179e"
             ],
             [
              0.4444444444444444,
              "#bd3786"
             ],
             [
              0.5555555555555556,
              "#d8576b"
             ],
             [
              0.6666666666666666,
              "#ed7953"
             ],
             [
              0.7777777777777778,
              "#fb9f3a"
             ],
             [
              0.8888888888888888,
              "#fdca26"
             ],
             [
              1,
              "#f0f921"
             ]
            ],
            "type": "heatmapgl"
           }
          ],
          "histogram": [
           {
            "marker": {
             "pattern": {
              "fillmode": "overlay",
              "size": 10,
              "solidity": 0.2
             }
            },
            "type": "histogram"
           }
          ],
          "histogram2d": [
           {
            "colorbar": {
             "outlinewidth": 0,
             "ticks": ""
            },
            "colorscale": [
             [
              0,
              "#0d0887"
             ],
             [
              0.1111111111111111,
              "#46039f"
             ],
             [
              0.2222222222222222,
              "#7201a8"
             ],
             [
              0.3333333333333333,
              "#9c179e"
             ],
             [
              0.4444444444444444,
              "#bd3786"
             ],
             [
              0.5555555555555556,
              "#d8576b"
             ],
             [
              0.6666666666666666,
              "#ed7953"
             ],
             [
              0.7777777777777778,
              "#fb9f3a"
             ],
             [
              0.8888888888888888,
              "#fdca26"
             ],
             [
              1,
              "#f0f921"
             ]
            ],
            "type": "histogram2d"
           }
          ],
          "histogram2dcontour": [
           {
            "colorbar": {
             "outlinewidth": 0,
             "ticks": ""
            },
            "colorscale": [
             [
              0,
              "#0d0887"
             ],
             [
              0.1111111111111111,
              "#46039f"
             ],
             [
              0.2222222222222222,
              "#7201a8"
             ],
             [
              0.3333333333333333,
              "#9c179e"
             ],
             [
              0.4444444444444444,
              "#bd3786"
             ],
             [
              0.5555555555555556,
              "#d8576b"
             ],
             [
              0.6666666666666666,
              "#ed7953"
             ],
             [
              0.7777777777777778,
              "#fb9f3a"
             ],
             [
              0.8888888888888888,
              "#fdca26"
             ],
             [
              1,
              "#f0f921"
             ]
            ],
            "type": "histogram2dcontour"
           }
          ],
          "mesh3d": [
           {
            "colorbar": {
             "outlinewidth": 0,
             "ticks": ""
            },
            "type": "mesh3d"
           }
          ],
          "parcoords": [
           {
            "line": {
             "colorbar": {
              "outlinewidth": 0,
              "ticks": ""
             }
            },
            "type": "parcoords"
           }
          ],
          "pie": [
           {
            "automargin": true,
            "type": "pie"
           }
          ],
          "scatter": [
           {
            "fillpattern": {
             "fillmode": "overlay",
             "size": 10,
             "solidity": 0.2
            },
            "type": "scatter"
           }
          ],
          "scatter3d": [
           {
            "line": {
             "colorbar": {
              "outlinewidth": 0,
              "ticks": ""
             }
            },
            "marker": {
             "colorbar": {
              "outlinewidth": 0,
              "ticks": ""
             }
            },
            "type": "scatter3d"
           }
          ],
          "scattercarpet": [
           {
            "marker": {
             "colorbar": {
              "outlinewidth": 0,
              "ticks": ""
             }
            },
            "type": "scattercarpet"
           }
          ],
          "scattergeo": [
           {
            "marker": {
             "colorbar": {
              "outlinewidth": 0,
              "ticks": ""
             }
            },
            "type": "scattergeo"
           }
          ],
          "scattergl": [
           {
            "marker": {
             "colorbar": {
              "outlinewidth": 0,
              "ticks": ""
             }
            },
            "type": "scattergl"
           }
          ],
          "scattermapbox": [
           {
            "marker": {
             "colorbar": {
              "outlinewidth": 0,
              "ticks": ""
             }
            },
            "type": "scattermapbox"
           }
          ],
          "scatterpolar": [
           {
            "marker": {
             "colorbar": {
              "outlinewidth": 0,
              "ticks": ""
             }
            },
            "type": "scatterpolar"
           }
          ],
          "scatterpolargl": [
           {
            "marker": {
             "colorbar": {
              "outlinewidth": 0,
              "ticks": ""
             }
            },
            "type": "scatterpolargl"
           }
          ],
          "scatterternary": [
           {
            "marker": {
             "colorbar": {
              "outlinewidth": 0,
              "ticks": ""
             }
            },
            "type": "scatterternary"
           }
          ],
          "surface": [
           {
            "colorbar": {
             "outlinewidth": 0,
             "ticks": ""
            },
            "colorscale": [
             [
              0,
              "#0d0887"
             ],
             [
              0.1111111111111111,
              "#46039f"
             ],
             [
              0.2222222222222222,
              "#7201a8"
             ],
             [
              0.3333333333333333,
              "#9c179e"
             ],
             [
              0.4444444444444444,
              "#bd3786"
             ],
             [
              0.5555555555555556,
              "#d8576b"
             ],
             [
              0.6666666666666666,
              "#ed7953"
             ],
             [
              0.7777777777777778,
              "#fb9f3a"
             ],
             [
              0.8888888888888888,
              "#fdca26"
             ],
             [
              1,
              "#f0f921"
             ]
            ],
            "type": "surface"
           }
          ],
          "table": [
           {
            "cells": {
             "fill": {
              "color": "#EBF0F8"
             },
             "line": {
              "color": "white"
             }
            },
            "header": {
             "fill": {
              "color": "#C8D4E3"
             },
             "line": {
              "color": "white"
             }
            },
            "type": "table"
           }
          ]
         },
         "layout": {
          "annotationdefaults": {
           "arrowcolor": "#2a3f5f",
           "arrowhead": 0,
           "arrowwidth": 1
          },
          "autotypenumbers": "strict",
          "coloraxis": {
           "colorbar": {
            "outlinewidth": 0,
            "ticks": ""
           }
          },
          "colorscale": {
           "diverging": [
            [
             0,
             "#8e0152"
            ],
            [
             0.1,
             "#c51b7d"
            ],
            [
             0.2,
             "#de77ae"
            ],
            [
             0.3,
             "#f1b6da"
            ],
            [
             0.4,
             "#fde0ef"
            ],
            [
             0.5,
             "#f7f7f7"
            ],
            [
             0.6,
             "#e6f5d0"
            ],
            [
             0.7,
             "#b8e186"
            ],
            [
             0.8,
             "#7fbc41"
            ],
            [
             0.9,
             "#4d9221"
            ],
            [
             1,
             "#276419"
            ]
           ],
           "sequential": [
            [
             0,
             "#0d0887"
            ],
            [
             0.1111111111111111,
             "#46039f"
            ],
            [
             0.2222222222222222,
             "#7201a8"
            ],
            [
             0.3333333333333333,
             "#9c179e"
            ],
            [
             0.4444444444444444,
             "#bd3786"
            ],
            [
             0.5555555555555556,
             "#d8576b"
            ],
            [
             0.6666666666666666,
             "#ed7953"
            ],
            [
             0.7777777777777778,
             "#fb9f3a"
            ],
            [
             0.8888888888888888,
             "#fdca26"
            ],
            [
             1,
             "#f0f921"
            ]
           ],
           "sequentialminus": [
            [
             0,
             "#0d0887"
            ],
            [
             0.1111111111111111,
             "#46039f"
            ],
            [
             0.2222222222222222,
             "#7201a8"
            ],
            [
             0.3333333333333333,
             "#9c179e"
            ],
            [
             0.4444444444444444,
             "#bd3786"
            ],
            [
             0.5555555555555556,
             "#d8576b"
            ],
            [
             0.6666666666666666,
             "#ed7953"
            ],
            [
             0.7777777777777778,
             "#fb9f3a"
            ],
            [
             0.8888888888888888,
             "#fdca26"
            ],
            [
             1,
             "#f0f921"
            ]
           ]
          },
          "colorway": [
           "#636efa",
           "#EF553B",
           "#00cc96",
           "#ab63fa",
           "#FFA15A",
           "#19d3f3",
           "#FF6692",
           "#B6E880",
           "#FF97FF",
           "#FECB52"
          ],
          "font": {
           "color": "#2a3f5f"
          },
          "geo": {
           "bgcolor": "white",
           "lakecolor": "white",
           "landcolor": "#E5ECF6",
           "showlakes": true,
           "showland": true,
           "subunitcolor": "white"
          },
          "hoverlabel": {
           "align": "left"
          },
          "hovermode": "closest",
          "mapbox": {
           "style": "light"
          },
          "paper_bgcolor": "white",
          "plot_bgcolor": "#E5ECF6",
          "polar": {
           "angularaxis": {
            "gridcolor": "white",
            "linecolor": "white",
            "ticks": ""
           },
           "bgcolor": "#E5ECF6",
           "radialaxis": {
            "gridcolor": "white",
            "linecolor": "white",
            "ticks": ""
           }
          },
          "scene": {
           "xaxis": {
            "backgroundcolor": "#E5ECF6",
            "gridcolor": "white",
            "gridwidth": 2,
            "linecolor": "white",
            "showbackground": true,
            "ticks": "",
            "zerolinecolor": "white"
           },
           "yaxis": {
            "backgroundcolor": "#E5ECF6",
            "gridcolor": "white",
            "gridwidth": 2,
            "linecolor": "white",
            "showbackground": true,
            "ticks": "",
            "zerolinecolor": "white"
           },
           "zaxis": {
            "backgroundcolor": "#E5ECF6",
            "gridcolor": "white",
            "gridwidth": 2,
            "linecolor": "white",
            "showbackground": true,
            "ticks": "",
            "zerolinecolor": "white"
           }
          },
          "shapedefaults": {
           "line": {
            "color": "#2a3f5f"
           }
          },
          "ternary": {
           "aaxis": {
            "gridcolor": "white",
            "linecolor": "white",
            "ticks": ""
           },
           "baxis": {
            "gridcolor": "white",
            "linecolor": "white",
            "ticks": ""
           },
           "bgcolor": "#E5ECF6",
           "caxis": {
            "gridcolor": "white",
            "linecolor": "white",
            "ticks": ""
           }
          },
          "title": {
           "x": 0.05
          },
          "xaxis": {
           "automargin": true,
           "gridcolor": "white",
           "linecolor": "white",
           "ticks": "",
           "title": {
            "standoff": 15
           },
           "zerolinecolor": "white",
           "zerolinewidth": 2
          },
          "yaxis": {
           "automargin": true,
           "gridcolor": "white",
           "linecolor": "white",
           "ticks": "",
           "title": {
            "standoff": 15
           },
           "zerolinecolor": "white",
           "zerolinewidth": 2
          }
         }
        },
        "title": {
         "text": "Success and Failure of the Rocket Missions",
         "x": 0.5
        },
        "width": 500
       }
      },
      "text/html": [
       "<div>                            <div id=\"b34c51ff-2cfe-450e-a2c3-684010fa7a85\" class=\"plotly-graph-div\" style=\"height:500px; width:500px;\"></div>            <script type=\"text/javascript\">                require([\"plotly\"], function(Plotly) {                    window.PLOTLYENV=window.PLOTLYENV || {};                                    if (document.getElementById(\"b34c51ff-2cfe-450e-a2c3-684010fa7a85\")) {                    Plotly.newPlot(                        \"b34c51ff-2cfe-450e-a2c3-684010fa7a85\",                        [{\"domain\":{\"x\":[0.0,1.0],\"y\":[0.0,1.0]},\"hole\":0.4,\"hovertemplate\":\"Mission_status=%{label}<br>count=%{value}<extra></extra>\",\"labels\":[\"Success\",\"Failure\",\"Partial Failure\",\"Prelaunch Failure\"],\"legendgroup\":\"\",\"name\":\"\",\"showlegend\":true,\"values\":[3879,339,102,4],\"type\":\"pie\"}],                        {\"template\":{\"data\":{\"histogram2dcontour\":[{\"type\":\"histogram2dcontour\",\"colorbar\":{\"outlinewidth\":0,\"ticks\":\"\"},\"colorscale\":[[0.0,\"#0d0887\"],[0.1111111111111111,\"#46039f\"],[0.2222222222222222,\"#7201a8\"],[0.3333333333333333,\"#9c179e\"],[0.4444444444444444,\"#bd3786\"],[0.5555555555555556,\"#d8576b\"],[0.6666666666666666,\"#ed7953\"],[0.7777777777777778,\"#fb9f3a\"],[0.8888888888888888,\"#fdca26\"],[1.0,\"#f0f921\"]]}],\"choropleth\":[{\"type\":\"choropleth\",\"colorbar\":{\"outlinewidth\":0,\"ticks\":\"\"}}],\"histogram2d\":[{\"type\":\"histogram2d\",\"colorbar\":{\"outlinewidth\":0,\"ticks\":\"\"},\"colorscale\":[[0.0,\"#0d0887\"],[0.1111111111111111,\"#46039f\"],[0.2222222222222222,\"#7201a8\"],[0.3333333333333333,\"#9c179e\"],[0.4444444444444444,\"#bd3786\"],[0.5555555555555556,\"#d8576b\"],[0.6666666666666666,\"#ed7953\"],[0.7777777777777778,\"#fb9f3a\"],[0.8888888888888888,\"#fdca26\"],[1.0,\"#f0f921\"]]}],\"heatmap\":[{\"type\":\"heatmap\",\"colorbar\":{\"outlinewidth\":0,\"ticks\":\"\"},\"colorscale\":[[0.0,\"#0d0887\"],[0.1111111111111111,\"#46039f\"],[0.2222222222222222,\"#7201a8\"],[0.3333333333333333,\"#9c179e\"],[0.4444444444444444,\"#bd3786\"],[0.5555555555555556,\"#d8576b\"],[0.6666666666666666,\"#ed7953\"],[0.7777777777777778,\"#fb9f3a\"],[0.8888888888888888,\"#fdca26\"],[1.0,\"#f0f921\"]]}],\"heatmapgl\":[{\"type\":\"heatmapgl\",\"colorbar\":{\"outlinewidth\":0,\"ticks\":\"\"},\"colorscale\":[[0.0,\"#0d0887\"],[0.1111111111111111,\"#46039f\"],[0.2222222222222222,\"#7201a8\"],[0.3333333333333333,\"#9c179e\"],[0.4444444444444444,\"#bd3786\"],[0.5555555555555556,\"#d8576b\"],[0.6666666666666666,\"#ed7953\"],[0.7777777777777778,\"#fb9f3a\"],[0.8888888888888888,\"#fdca26\"],[1.0,\"#f0f921\"]]}],\"contourcarpet\":[{\"type\":\"contourcarpet\",\"colorbar\":{\"outlinewidth\":0,\"ticks\":\"\"}}],\"contour\":[{\"type\":\"contour\",\"colorbar\":{\"outlinewidth\":0,\"ticks\":\"\"},\"colorscale\":[[0.0,\"#0d0887\"],[0.1111111111111111,\"#46039f\"],[0.2222222222222222,\"#7201a8\"],[0.3333333333333333,\"#9c179e\"],[0.4444444444444444,\"#bd3786\"],[0.5555555555555556,\"#d8576b\"],[0.6666666666666666,\"#ed7953\"],[0.7777777777777778,\"#fb9f3a\"],[0.8888888888888888,\"#fdca26\"],[1.0,\"#f0f921\"]]}],\"surface\":[{\"type\":\"surface\",\"colorbar\":{\"outlinewidth\":0,\"ticks\":\"\"},\"colorscale\":[[0.0,\"#0d0887\"],[0.1111111111111111,\"#46039f\"],[0.2222222222222222,\"#7201a8\"],[0.3333333333333333,\"#9c179e\"],[0.4444444444444444,\"#bd3786\"],[0.5555555555555556,\"#d8576b\"],[0.6666666666666666,\"#ed7953\"],[0.7777777777777778,\"#fb9f3a\"],[0.8888888888888888,\"#fdca26\"],[1.0,\"#f0f921\"]]}],\"mesh3d\":[{\"type\":\"mesh3d\",\"colorbar\":{\"outlinewidth\":0,\"ticks\":\"\"}}],\"scatter\":[{\"fillpattern\":{\"fillmode\":\"overlay\",\"size\":10,\"solidity\":0.2},\"type\":\"scatter\"}],\"parcoords\":[{\"type\":\"parcoords\",\"line\":{\"colorbar\":{\"outlinewidth\":0,\"ticks\":\"\"}}}],\"scatterpolargl\":[{\"type\":\"scatterpolargl\",\"marker\":{\"colorbar\":{\"outlinewidth\":0,\"ticks\":\"\"}}}],\"bar\":[{\"error_x\":{\"color\":\"#2a3f5f\"},\"error_y\":{\"color\":\"#2a3f5f\"},\"marker\":{\"line\":{\"color\":\"#E5ECF6\",\"width\":0.5},\"pattern\":{\"fillmode\":\"overlay\",\"size\":10,\"solidity\":0.2}},\"type\":\"bar\"}],\"scattergeo\":[{\"type\":\"scattergeo\",\"marker\":{\"colorbar\":{\"outlinewidth\":0,\"ticks\":\"\"}}}],\"scatterpolar\":[{\"type\":\"scatterpolar\",\"marker\":{\"colorbar\":{\"outlinewidth\":0,\"ticks\":\"\"}}}],\"histogram\":[{\"marker\":{\"pattern\":{\"fillmode\":\"overlay\",\"size\":10,\"solidity\":0.2}},\"type\":\"histogram\"}],\"scattergl\":[{\"type\":\"scattergl\",\"marker\":{\"colorbar\":{\"outlinewidth\":0,\"ticks\":\"\"}}}],\"scatter3d\":[{\"type\":\"scatter3d\",\"line\":{\"colorbar\":{\"outlinewidth\":0,\"ticks\":\"\"}},\"marker\":{\"colorbar\":{\"outlinewidth\":0,\"ticks\":\"\"}}}],\"scattermapbox\":[{\"type\":\"scattermapbox\",\"marker\":{\"colorbar\":{\"outlinewidth\":0,\"ticks\":\"\"}}}],\"scatterternary\":[{\"type\":\"scatterternary\",\"marker\":{\"colorbar\":{\"outlinewidth\":0,\"ticks\":\"\"}}}],\"scattercarpet\":[{\"type\":\"scattercarpet\",\"marker\":{\"colorbar\":{\"outlinewidth\":0,\"ticks\":\"\"}}}],\"carpet\":[{\"aaxis\":{\"endlinecolor\":\"#2a3f5f\",\"gridcolor\":\"white\",\"linecolor\":\"white\",\"minorgridcolor\":\"white\",\"startlinecolor\":\"#2a3f5f\"},\"baxis\":{\"endlinecolor\":\"#2a3f5f\",\"gridcolor\":\"white\",\"linecolor\":\"white\",\"minorgridcolor\":\"white\",\"startlinecolor\":\"#2a3f5f\"},\"type\":\"carpet\"}],\"table\":[{\"cells\":{\"fill\":{\"color\":\"#EBF0F8\"},\"line\":{\"color\":\"white\"}},\"header\":{\"fill\":{\"color\":\"#C8D4E3\"},\"line\":{\"color\":\"white\"}},\"type\":\"table\"}],\"barpolar\":[{\"marker\":{\"line\":{\"color\":\"#E5ECF6\",\"width\":0.5},\"pattern\":{\"fillmode\":\"overlay\",\"size\":10,\"solidity\":0.2}},\"type\":\"barpolar\"}],\"pie\":[{\"automargin\":true,\"type\":\"pie\"}]},\"layout\":{\"autotypenumbers\":\"strict\",\"colorway\":[\"#636efa\",\"#EF553B\",\"#00cc96\",\"#ab63fa\",\"#FFA15A\",\"#19d3f3\",\"#FF6692\",\"#B6E880\",\"#FF97FF\",\"#FECB52\"],\"font\":{\"color\":\"#2a3f5f\"},\"hovermode\":\"closest\",\"hoverlabel\":{\"align\":\"left\"},\"paper_bgcolor\":\"white\",\"plot_bgcolor\":\"#E5ECF6\",\"polar\":{\"bgcolor\":\"#E5ECF6\",\"angularaxis\":{\"gridcolor\":\"white\",\"linecolor\":\"white\",\"ticks\":\"\"},\"radialaxis\":{\"gridcolor\":\"white\",\"linecolor\":\"white\",\"ticks\":\"\"}},\"ternary\":{\"bgcolor\":\"#E5ECF6\",\"aaxis\":{\"gridcolor\":\"white\",\"linecolor\":\"white\",\"ticks\":\"\"},\"baxis\":{\"gridcolor\":\"white\",\"linecolor\":\"white\",\"ticks\":\"\"},\"caxis\":{\"gridcolor\":\"white\",\"linecolor\":\"white\",\"ticks\":\"\"}},\"coloraxis\":{\"colorbar\":{\"outlinewidth\":0,\"ticks\":\"\"}},\"colorscale\":{\"sequential\":[[0.0,\"#0d0887\"],[0.1111111111111111,\"#46039f\"],[0.2222222222222222,\"#7201a8\"],[0.3333333333333333,\"#9c179e\"],[0.4444444444444444,\"#bd3786\"],[0.5555555555555556,\"#d8576b\"],[0.6666666666666666,\"#ed7953\"],[0.7777777777777778,\"#fb9f3a\"],[0.8888888888888888,\"#fdca26\"],[1.0,\"#f0f921\"]],\"sequentialminus\":[[0.0,\"#0d0887\"],[0.1111111111111111,\"#46039f\"],[0.2222222222222222,\"#7201a8\"],[0.3333333333333333,\"#9c179e\"],[0.4444444444444444,\"#bd3786\"],[0.5555555555555556,\"#d8576b\"],[0.6666666666666666,\"#ed7953\"],[0.7777777777777778,\"#fb9f3a\"],[0.8888888888888888,\"#fdca26\"],[1.0,\"#f0f921\"]],\"diverging\":[[0,\"#8e0152\"],[0.1,\"#c51b7d\"],[0.2,\"#de77ae\"],[0.3,\"#f1b6da\"],[0.4,\"#fde0ef\"],[0.5,\"#f7f7f7\"],[0.6,\"#e6f5d0\"],[0.7,\"#b8e186\"],[0.8,\"#7fbc41\"],[0.9,\"#4d9221\"],[1,\"#276419\"]]},\"xaxis\":{\"gridcolor\":\"white\",\"linecolor\":\"white\",\"ticks\":\"\",\"title\":{\"standoff\":15},\"zerolinecolor\":\"white\",\"automargin\":true,\"zerolinewidth\":2},\"yaxis\":{\"gridcolor\":\"white\",\"linecolor\":\"white\",\"ticks\":\"\",\"title\":{\"standoff\":15},\"zerolinecolor\":\"white\",\"automargin\":true,\"zerolinewidth\":2},\"scene\":{\"xaxis\":{\"backgroundcolor\":\"#E5ECF6\",\"gridcolor\":\"white\",\"linecolor\":\"white\",\"showbackground\":true,\"ticks\":\"\",\"zerolinecolor\":\"white\",\"gridwidth\":2},\"yaxis\":{\"backgroundcolor\":\"#E5ECF6\",\"gridcolor\":\"white\",\"linecolor\":\"white\",\"showbackground\":true,\"ticks\":\"\",\"zerolinecolor\":\"white\",\"gridwidth\":2},\"zaxis\":{\"backgroundcolor\":\"#E5ECF6\",\"gridcolor\":\"white\",\"linecolor\":\"white\",\"showbackground\":true,\"ticks\":\"\",\"zerolinecolor\":\"white\",\"gridwidth\":2}},\"shapedefaults\":{\"line\":{\"color\":\"#2a3f5f\"}},\"annotationdefaults\":{\"arrowcolor\":\"#2a3f5f\",\"arrowhead\":0,\"arrowwidth\":1},\"geo\":{\"bgcolor\":\"white\",\"landcolor\":\"#E5ECF6\",\"subunitcolor\":\"white\",\"showland\":true,\"showlakes\":true,\"lakecolor\":\"white\"},\"title\":{\"x\":0.05},\"mapbox\":{\"style\":\"light\"}}},\"legend\":{\"tracegroupgap\":0},\"title\":{\"text\":\"Success and Failure of the Rocket Missions\",\"x\":0.5},\"height\":500,\"width\":500},                        {\"responsive\": true}                    ).then(function(){\n",
       "                            \n",
       "var gd = document.getElementById('b34c51ff-2cfe-450e-a2c3-684010fa7a85');\n",
       "var x = new MutationObserver(function (mutations, observer) {{\n",
       "        var display = window.getComputedStyle(gd).display;\n",
       "        if (!display || display === 'none') {{\n",
       "            console.log([gd, 'removed!']);\n",
       "            Plotly.purge(gd);\n",
       "            observer.disconnect();\n",
       "        }}\n",
       "}});\n",
       "\n",
       "// Listen for the removal of the full notebook cells\n",
       "var notebookContainer = gd.closest('#notebook-container');\n",
       "if (notebookContainer) {{\n",
       "    x.observe(notebookContainer, {childList: true});\n",
       "}}\n",
       "\n",
       "// Listen for the clearing of the current output cell\n",
       "var outputEl = gd.closest('.output');\n",
       "if (outputEl) {{\n",
       "    x.observe(outputEl, {childList: true});\n",
       "}}\n",
       "\n",
       "                        })                };                });            </script>        </div>"
      ]
     },
     "metadata": {},
     "output_type": "display_data"
    }
   ],
   "source": [
    "ds = df[\"Mission_Status\"].value_counts().reset_index()\n",
    "ds.columns = ['Mission_status', 'count']\n",
    "\n",
    "\n",
    "fig = px.pie(\n",
    "    ds, \n",
    "    values='count', \n",
    "    names=\"Mission_status\", \n",
    "    title='Success and Failure of the Rocket Missions', \n",
    "    width=500, \n",
    "    height=500,\n",
    "    hole = 0.4\n",
    ")\n",
    "\n",
    "fig.update_layout( title_x = 0.5)\n",
    "fig.show()"
   ]
  },
  {
   "cell_type": "code",
   "execution_count": 46,
   "id": "0806eebf",
   "metadata": {},
   "outputs": [
    {
     "data": {
      "text/plain": [
       "Index(['Organisation', 'Location', 'Date', 'Detail', 'Rocket_Status', 'Price',\n",
       "       'Mission_Status'],\n",
       "      dtype='object')"
      ]
     },
     "execution_count": 46,
     "metadata": {},
     "output_type": "execute_result"
    }
   ],
   "source": [
    "df.columns"
   ]
  },
  {
   "cell_type": "code",
   "execution_count": 47,
   "id": "eb62700d",
   "metadata": {},
   "outputs": [],
   "source": [
    "df[\"Mission_Status\"] = df[\"Mission_Status\"].apply(lambda x: 1 if x == \"Success\" else 0)"
   ]
  },
  {
   "cell_type": "code",
   "execution_count": 48,
   "id": "dc798cfd",
   "metadata": {},
   "outputs": [
    {
     "data": {
      "text/html": [
       "<div>\n",
       "<style scoped>\n",
       "    .dataframe tbody tr th:only-of-type {\n",
       "        vertical-align: middle;\n",
       "    }\n",
       "\n",
       "    .dataframe tbody tr th {\n",
       "        vertical-align: top;\n",
       "    }\n",
       "\n",
       "    .dataframe thead th {\n",
       "        text-align: right;\n",
       "    }\n",
       "</style>\n",
       "<table border=\"1\" class=\"dataframe\">\n",
       "  <thead>\n",
       "    <tr style=\"text-align: right;\">\n",
       "      <th></th>\n",
       "      <th>Organisation</th>\n",
       "      <th>Location</th>\n",
       "      <th>Date</th>\n",
       "      <th>Detail</th>\n",
       "      <th>Rocket_Status</th>\n",
       "      <th>Price</th>\n",
       "      <th>Mission_Status</th>\n",
       "    </tr>\n",
       "  </thead>\n",
       "  <tbody>\n",
       "    <tr>\n",
       "      <th>0</th>\n",
       "      <td>SpaceX</td>\n",
       "      <td>LC-39A, Kennedy Space Center, Florida, USA</td>\n",
       "      <td>Fri Aug 07, 2020 05:12 UTC</td>\n",
       "      <td>Falcon 9 Block 5 | Starlink V1 L9 &amp; BlackSky</td>\n",
       "      <td>StatusActive</td>\n",
       "      <td>50.000000</td>\n",
       "      <td>1</td>\n",
       "    </tr>\n",
       "    <tr>\n",
       "      <th>1</th>\n",
       "      <td>CASC</td>\n",
       "      <td>Site 9401 (SLS-2), Jiuquan Satellite Launch Ce...</td>\n",
       "      <td>Thu Aug 06, 2020 04:01 UTC</td>\n",
       "      <td>Long March 2D | Gaofen-9 04 &amp; Q-SAT</td>\n",
       "      <td>StatusActive</td>\n",
       "      <td>29.750000</td>\n",
       "      <td>1</td>\n",
       "    </tr>\n",
       "    <tr>\n",
       "      <th>2</th>\n",
       "      <td>SpaceX</td>\n",
       "      <td>Pad A, Boca Chica, Texas, USA</td>\n",
       "      <td>Tue Aug 04, 2020 23:57 UTC</td>\n",
       "      <td>Starship Prototype | 150 Meter Hop</td>\n",
       "      <td>StatusActive</td>\n",
       "      <td>54.989899</td>\n",
       "      <td>1</td>\n",
       "    </tr>\n",
       "    <tr>\n",
       "      <th>3</th>\n",
       "      <td>Roscosmos</td>\n",
       "      <td>Site 200/39, Baikonur Cosmodrome, Kazakhstan</td>\n",
       "      <td>Thu Jul 30, 2020 21:25 UTC</td>\n",
       "      <td>Proton-M/Briz-M | Ekspress-80 &amp; Ekspress-103</td>\n",
       "      <td>StatusActive</td>\n",
       "      <td>65.000000</td>\n",
       "      <td>1</td>\n",
       "    </tr>\n",
       "    <tr>\n",
       "      <th>4</th>\n",
       "      <td>ULA</td>\n",
       "      <td>SLC-41, Cape Canaveral AFS, Florida, USA</td>\n",
       "      <td>Thu Jul 30, 2020 11:50 UTC</td>\n",
       "      <td>Atlas V 541 | Perseverance</td>\n",
       "      <td>StatusActive</td>\n",
       "      <td>145.000000</td>\n",
       "      <td>1</td>\n",
       "    </tr>\n",
       "  </tbody>\n",
       "</table>\n",
       "</div>"
      ],
      "text/plain": [
       "  Organisation                                           Location  \\\n",
       "0       SpaceX         LC-39A, Kennedy Space Center, Florida, USA   \n",
       "1         CASC  Site 9401 (SLS-2), Jiuquan Satellite Launch Ce...   \n",
       "2       SpaceX                      Pad A, Boca Chica, Texas, USA   \n",
       "3    Roscosmos       Site 200/39, Baikonur Cosmodrome, Kazakhstan   \n",
       "4          ULA           SLC-41, Cape Canaveral AFS, Florida, USA   \n",
       "\n",
       "                         Date                                        Detail  \\\n",
       "0  Fri Aug 07, 2020 05:12 UTC  Falcon 9 Block 5 | Starlink V1 L9 & BlackSky   \n",
       "1  Thu Aug 06, 2020 04:01 UTC           Long March 2D | Gaofen-9 04 & Q-SAT   \n",
       "2  Tue Aug 04, 2020 23:57 UTC            Starship Prototype | 150 Meter Hop   \n",
       "3  Thu Jul 30, 2020 21:25 UTC  Proton-M/Briz-M | Ekspress-80 & Ekspress-103   \n",
       "4  Thu Jul 30, 2020 11:50 UTC                    Atlas V 541 | Perseverance   \n",
       "\n",
       "  Rocket_Status       Price  Mission_Status  \n",
       "0  StatusActive   50.000000               1  \n",
       "1  StatusActive   29.750000               1  \n",
       "2  StatusActive   54.989899               1  \n",
       "3  StatusActive   65.000000               1  \n",
       "4  StatusActive  145.000000               1  "
      ]
     },
     "execution_count": 48,
     "metadata": {},
     "output_type": "execute_result"
    }
   ],
   "source": [
    "df.head()"
   ]
  },
  {
   "cell_type": "code",
   "execution_count": 52,
   "id": "497f0fb5",
   "metadata": {},
   "outputs": [],
   "source": [
    "from sklearn.preprocessing import LabelEncoder\n",
    "\n",
    "\n",
    "# Initialize LabelEncoder\n",
    "le = LabelEncoder()\n",
    "\n",
    "# Label encode categorical columns\n",
    "df['Organisation'] = le.fit_transform(df['Organisation'])\n",
    "df['Location'] = le.fit_transform(df['Location'])\n",
    "df['Detail'] = le.fit_transform(df['Detail'])\n",
    "df['Rocket_Status'] = le.fit_transform(df['Rocket_Status'])\n",
    "\n",
    "\n",
    "\n",
    "# Define the features (X) and target (y)\n",
    "X = df.drop(columns=['Mission_Status', 'Date'])  # Dropping 'Date' as well since it's not useful directly\n",
    "y = df['Mission_Status']"
   ]
  },
  {
   "cell_type": "code",
   "execution_count": 54,
   "id": "9ef8f130",
   "metadata": {},
   "outputs": [
    {
     "name": "stdout",
     "output_type": "stream",
     "text": [
      "Logistic Regression Accuracy: 0.90\n",
      "Logistic Regression Classification Report:\n",
      "              precision    recall  f1-score   support\n",
      "\n",
      "           0       0.00      0.00      0.00        87\n",
      "           1       0.90      1.00      0.95       778\n",
      "\n",
      "    accuracy                           0.90       865\n",
      "   macro avg       0.45      0.50      0.47       865\n",
      "weighted avg       0.81      0.90      0.85       865\n",
      "\n",
      "------------------------------------------------------------\n"
     ]
    },
    {
     "name": "stderr",
     "output_type": "stream",
     "text": [
      "C:\\Users\\Dell\\anaconda3\\lib\\site-packages\\sklearn\\metrics\\_classification.py:1318: UndefinedMetricWarning:\n",
      "\n",
      "Precision and F-score are ill-defined and being set to 0.0 in labels with no predicted samples. Use `zero_division` parameter to control this behavior.\n",
      "\n",
      "C:\\Users\\Dell\\anaconda3\\lib\\site-packages\\sklearn\\metrics\\_classification.py:1318: UndefinedMetricWarning:\n",
      "\n",
      "Precision and F-score are ill-defined and being set to 0.0 in labels with no predicted samples. Use `zero_division` parameter to control this behavior.\n",
      "\n",
      "C:\\Users\\Dell\\anaconda3\\lib\\site-packages\\sklearn\\metrics\\_classification.py:1318: UndefinedMetricWarning:\n",
      "\n",
      "Precision and F-score are ill-defined and being set to 0.0 in labels with no predicted samples. Use `zero_division` parameter to control this behavior.\n",
      "\n"
     ]
    },
    {
     "name": "stdout",
     "output_type": "stream",
     "text": [
      "Random Forest Accuracy: 0.87\n",
      "Random Forest Classification Report:\n",
      "              precision    recall  f1-score   support\n",
      "\n",
      "           0       0.37      0.40      0.39        87\n",
      "           1       0.93      0.92      0.93       778\n",
      "\n",
      "    accuracy                           0.87       865\n",
      "   macro avg       0.65      0.66      0.66       865\n",
      "weighted avg       0.88      0.87      0.87       865\n",
      "\n",
      "------------------------------------------------------------\n",
      "Gradient Boosting Accuracy: 0.90\n",
      "Gradient Boosting Classification Report:\n",
      "              precision    recall  f1-score   support\n",
      "\n",
      "           0       0.61      0.13      0.21        87\n",
      "           1       0.91      0.99      0.95       778\n",
      "\n",
      "    accuracy                           0.90       865\n",
      "   macro avg       0.76      0.56      0.58       865\n",
      "weighted avg       0.88      0.90      0.87       865\n",
      "\n",
      "------------------------------------------------------------\n",
      "Support Vector Machine Accuracy: 0.90\n",
      "Support Vector Machine Classification Report:\n",
      "              precision    recall  f1-score   support\n",
      "\n",
      "           0       0.00      0.00      0.00        87\n",
      "           1       0.90      1.00      0.95       778\n",
      "\n",
      "    accuracy                           0.90       865\n",
      "   macro avg       0.45      0.50      0.47       865\n",
      "weighted avg       0.81      0.90      0.85       865\n",
      "\n",
      "------------------------------------------------------------\n",
      "\n",
      "Model Comparison:\n",
      "Logistic Regression: 0.90\n",
      "Random Forest: 0.87\n",
      "Gradient Boosting: 0.90\n",
      "Support Vector Machine: 0.90\n"
     ]
    },
    {
     "name": "stderr",
     "output_type": "stream",
     "text": [
      "C:\\Users\\Dell\\anaconda3\\lib\\site-packages\\sklearn\\metrics\\_classification.py:1318: UndefinedMetricWarning:\n",
      "\n",
      "Precision and F-score are ill-defined and being set to 0.0 in labels with no predicted samples. Use `zero_division` parameter to control this behavior.\n",
      "\n",
      "C:\\Users\\Dell\\anaconda3\\lib\\site-packages\\sklearn\\metrics\\_classification.py:1318: UndefinedMetricWarning:\n",
      "\n",
      "Precision and F-score are ill-defined and being set to 0.0 in labels with no predicted samples. Use `zero_division` parameter to control this behavior.\n",
      "\n",
      "C:\\Users\\Dell\\anaconda3\\lib\\site-packages\\sklearn\\metrics\\_classification.py:1318: UndefinedMetricWarning:\n",
      "\n",
      "Precision and F-score are ill-defined and being set to 0.0 in labels with no predicted samples. Use `zero_division` parameter to control this behavior.\n",
      "\n"
     ]
    }
   ],
   "source": [
    "# Split the data\n",
    "X_train, X_test, y_train, y_test = train_test_split(X, y, test_size=0.2, random_state=42)\n",
    "\n",
    "\n",
    "from sklearn.linear_model import LogisticRegression\n",
    "from sklearn.ensemble import RandomForestClassifier, GradientBoostingClassifier\n",
    "from sklearn.svm import SVC\n",
    "from sklearn.metrics import accuracy_score, classification_report\n",
    "\n",
    "# Initialize the models\n",
    "models = {\n",
    "    'Logistic Regression': LogisticRegression(),\n",
    "    'Random Forest': RandomForestClassifier(),\n",
    "    'Gradient Boosting': GradientBoostingClassifier(),\n",
    "    'Support Vector Machine': SVC()\n",
    "}\n",
    "\n",
    "\n",
    "model_accuracies = {}\n",
    "\n",
    "for model_name, model in models.items():\n",
    "    # Train the model\n",
    "    model.fit(X_train, y_train)\n",
    "    \n",
    "    # Predict on the test set\n",
    "    y_pred = model.predict(X_test)\n",
    "    \n",
    "    # Calculate accuracy\n",
    "    accuracy = accuracy_score(y_test, y_pred)\n",
    "    model_accuracies[model_name] = accuracy\n",
    "    \n",
    "    # Print accuracy\n",
    "    print(f'{model_name} Accuracy: {accuracy:.2f}')\n",
    "    \n",
    "    # Print classification report\n",
    "    print(f'{model_name} Classification Report:')\n",
    "    print(classification_report(y_test, y_pred))\n",
    "    print(\"-\" * 60)\n",
    "\n",
    "# Display the accuracy of each model\n",
    "print(\"\\nModel Comparison:\")\n",
    "for model_name, accuracy in model_accuracies.items():\n",
    "    print(f'{model_name}: {accuracy:.2f}')"
   ]
  },
  {
   "cell_type": "code",
   "execution_count": null,
   "id": "e8beb831",
   "metadata": {},
   "outputs": [],
   "source": []
  }
 ],
 "metadata": {
  "kernelspec": {
   "display_name": "Python 3 (ipykernel)",
   "language": "python",
   "name": "python3"
  },
  "language_info": {
   "codemirror_mode": {
    "name": "ipython",
    "version": 3
   },
   "file_extension": ".py",
   "mimetype": "text/x-python",
   "name": "python",
   "nbconvert_exporter": "python",
   "pygments_lexer": "ipython3",
   "version": "3.9.13"
  }
 },
 "nbformat": 4,
 "nbformat_minor": 5
}
